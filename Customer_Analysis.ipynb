{
 "cells": [
  {
   "cell_type": "code",
   "execution_count": 1,
   "metadata": {},
   "outputs": [],
   "source": [
    "import pandas as pd\n",
    "import numpy as np\n",
    "import matplotlib.pyplot as plt\n",
    "import seaborn as sns\n",
    "from datetime import datetime"
   ]
  },
  {
   "cell_type": "markdown",
   "metadata": {},
   "source": [
    "#     Import customer data "
   ]
  },
  {
   "cell_type": "code",
   "execution_count": 2,
   "metadata": {},
   "outputs": [],
   "source": [
    "df_ct = pd.read_csv('C:/Users/aman1/OneDrive/PythonforDataScience/Project/retail_customer_analysis/Customer.csv')"
   ]
  },
  {
   "cell_type": "code",
   "execution_count": 3,
   "metadata": {},
   "outputs": [],
   "source": [
    "#import product information data. \n",
    "df_pro = pd.read_csv('C:/Users/aman1/OneDrive/PythonforDataScience/Project/retail_customer_analysis/prod_cat_info.csv')"
   ]
  },
  {
   "cell_type": "code",
   "execution_count": 4,
   "metadata": {},
   "outputs": [],
   "source": [
    "#import transaction data\n",
    "df_trs = pd.read_csv('C:/Users/aman1/OneDrive/PythonforDataScience/Project/retail_customer_analysis/Transactions.csv')"
   ]
  },
  {
   "cell_type": "code",
   "execution_count": 5,
   "metadata": {},
   "outputs": [],
   "source": [
    "#Understanding Data shape ,size and info."
   ]
  },
  {
   "cell_type": "code",
   "execution_count": 6,
   "metadata": {},
   "outputs": [
    {
     "data": {
      "text/html": [
       "<div>\n",
       "<style scoped>\n",
       "    .dataframe tbody tr th:only-of-type {\n",
       "        vertical-align: middle;\n",
       "    }\n",
       "\n",
       "    .dataframe tbody tr th {\n",
       "        vertical-align: top;\n",
       "    }\n",
       "\n",
       "    .dataframe thead th {\n",
       "        text-align: right;\n",
       "    }\n",
       "</style>\n",
       "<table border=\"1\" class=\"dataframe\">\n",
       "  <thead>\n",
       "    <tr style=\"text-align: right;\">\n",
       "      <th></th>\n",
       "      <th>prod_cat_code</th>\n",
       "      <th>prod_cat</th>\n",
       "      <th>prod_sub_cat_code</th>\n",
       "      <th>prod_subcat</th>\n",
       "    </tr>\n",
       "  </thead>\n",
       "  <tbody>\n",
       "    <tr>\n",
       "      <th>0</th>\n",
       "      <td>1</td>\n",
       "      <td>Clothing</td>\n",
       "      <td>4</td>\n",
       "      <td>Mens</td>\n",
       "    </tr>\n",
       "    <tr>\n",
       "      <th>1</th>\n",
       "      <td>1</td>\n",
       "      <td>Clothing</td>\n",
       "      <td>1</td>\n",
       "      <td>Women</td>\n",
       "    </tr>\n",
       "    <tr>\n",
       "      <th>2</th>\n",
       "      <td>1</td>\n",
       "      <td>Clothing</td>\n",
       "      <td>3</td>\n",
       "      <td>Kids</td>\n",
       "    </tr>\n",
       "    <tr>\n",
       "      <th>3</th>\n",
       "      <td>2</td>\n",
       "      <td>Footwear</td>\n",
       "      <td>1</td>\n",
       "      <td>Mens</td>\n",
       "    </tr>\n",
       "    <tr>\n",
       "      <th>4</th>\n",
       "      <td>2</td>\n",
       "      <td>Footwear</td>\n",
       "      <td>3</td>\n",
       "      <td>Women</td>\n",
       "    </tr>\n",
       "  </tbody>\n",
       "</table>\n",
       "</div>"
      ],
      "text/plain": [
       "   prod_cat_code  prod_cat  prod_sub_cat_code prod_subcat\n",
       "0              1  Clothing                  4        Mens\n",
       "1              1  Clothing                  1       Women\n",
       "2              1  Clothing                  3        Kids\n",
       "3              2  Footwear                  1        Mens\n",
       "4              2  Footwear                  3       Women"
      ]
     },
     "execution_count": 6,
     "metadata": {},
     "output_type": "execute_result"
    }
   ],
   "source": [
    "df_pro.head()"
   ]
  },
  {
   "cell_type": "code",
   "execution_count": 7,
   "metadata": {},
   "outputs": [
    {
     "data": {
      "text/html": [
       "<div>\n",
       "<style scoped>\n",
       "    .dataframe tbody tr th:only-of-type {\n",
       "        vertical-align: middle;\n",
       "    }\n",
       "\n",
       "    .dataframe tbody tr th {\n",
       "        vertical-align: top;\n",
       "    }\n",
       "\n",
       "    .dataframe thead th {\n",
       "        text-align: right;\n",
       "    }\n",
       "</style>\n",
       "<table border=\"1\" class=\"dataframe\">\n",
       "  <thead>\n",
       "    <tr style=\"text-align: right;\">\n",
       "      <th></th>\n",
       "      <th>customer_Id</th>\n",
       "      <th>DOB</th>\n",
       "      <th>Gender</th>\n",
       "      <th>city_code</th>\n",
       "    </tr>\n",
       "  </thead>\n",
       "  <tbody>\n",
       "    <tr>\n",
       "      <th>0</th>\n",
       "      <td>268408</td>\n",
       "      <td>02-01-1970</td>\n",
       "      <td>M</td>\n",
       "      <td>4.0</td>\n",
       "    </tr>\n",
       "    <tr>\n",
       "      <th>1</th>\n",
       "      <td>269696</td>\n",
       "      <td>07-01-1970</td>\n",
       "      <td>F</td>\n",
       "      <td>8.0</td>\n",
       "    </tr>\n",
       "    <tr>\n",
       "      <th>2</th>\n",
       "      <td>268159</td>\n",
       "      <td>08-01-1970</td>\n",
       "      <td>F</td>\n",
       "      <td>8.0</td>\n",
       "    </tr>\n",
       "    <tr>\n",
       "      <th>3</th>\n",
       "      <td>270181</td>\n",
       "      <td>10-01-1970</td>\n",
       "      <td>F</td>\n",
       "      <td>2.0</td>\n",
       "    </tr>\n",
       "    <tr>\n",
       "      <th>4</th>\n",
       "      <td>268073</td>\n",
       "      <td>11-01-1970</td>\n",
       "      <td>M</td>\n",
       "      <td>1.0</td>\n",
       "    </tr>\n",
       "  </tbody>\n",
       "</table>\n",
       "</div>"
      ],
      "text/plain": [
       "   customer_Id         DOB Gender  city_code\n",
       "0       268408  02-01-1970      M        4.0\n",
       "1       269696  07-01-1970      F        8.0\n",
       "2       268159  08-01-1970      F        8.0\n",
       "3       270181  10-01-1970      F        2.0\n",
       "4       268073  11-01-1970      M        1.0"
      ]
     },
     "execution_count": 7,
     "metadata": {},
     "output_type": "execute_result"
    }
   ],
   "source": [
    "df_ct.head()"
   ]
  },
  {
   "cell_type": "code",
   "execution_count": 8,
   "metadata": {},
   "outputs": [
    {
     "data": {
      "text/html": [
       "<div>\n",
       "<style scoped>\n",
       "    .dataframe tbody tr th:only-of-type {\n",
       "        vertical-align: middle;\n",
       "    }\n",
       "\n",
       "    .dataframe tbody tr th {\n",
       "        vertical-align: top;\n",
       "    }\n",
       "\n",
       "    .dataframe thead th {\n",
       "        text-align: right;\n",
       "    }\n",
       "</style>\n",
       "<table border=\"1\" class=\"dataframe\">\n",
       "  <thead>\n",
       "    <tr style=\"text-align: right;\">\n",
       "      <th></th>\n",
       "      <th>transaction_id</th>\n",
       "      <th>cust_id</th>\n",
       "      <th>tran_date</th>\n",
       "      <th>prod_subcat_code</th>\n",
       "      <th>prod_cat_code</th>\n",
       "      <th>Qty</th>\n",
       "      <th>Rate</th>\n",
       "      <th>Tax</th>\n",
       "      <th>total_amt</th>\n",
       "      <th>Store_type</th>\n",
       "    </tr>\n",
       "  </thead>\n",
       "  <tbody>\n",
       "    <tr>\n",
       "      <th>0</th>\n",
       "      <td>80712190438</td>\n",
       "      <td>270351</td>\n",
       "      <td>28-02-2014</td>\n",
       "      <td>1</td>\n",
       "      <td>1</td>\n",
       "      <td>-5</td>\n",
       "      <td>-772</td>\n",
       "      <td>405.300</td>\n",
       "      <td>-4265.300</td>\n",
       "      <td>e-Shop</td>\n",
       "    </tr>\n",
       "    <tr>\n",
       "      <th>1</th>\n",
       "      <td>29258453508</td>\n",
       "      <td>270384</td>\n",
       "      <td>27-02-2014</td>\n",
       "      <td>5</td>\n",
       "      <td>3</td>\n",
       "      <td>-5</td>\n",
       "      <td>-1497</td>\n",
       "      <td>785.925</td>\n",
       "      <td>-8270.925</td>\n",
       "      <td>e-Shop</td>\n",
       "    </tr>\n",
       "    <tr>\n",
       "      <th>2</th>\n",
       "      <td>51750724947</td>\n",
       "      <td>273420</td>\n",
       "      <td>24-02-2014</td>\n",
       "      <td>6</td>\n",
       "      <td>5</td>\n",
       "      <td>-2</td>\n",
       "      <td>-791</td>\n",
       "      <td>166.110</td>\n",
       "      <td>-1748.110</td>\n",
       "      <td>TeleShop</td>\n",
       "    </tr>\n",
       "    <tr>\n",
       "      <th>3</th>\n",
       "      <td>93274880719</td>\n",
       "      <td>271509</td>\n",
       "      <td>24-02-2014</td>\n",
       "      <td>11</td>\n",
       "      <td>6</td>\n",
       "      <td>-3</td>\n",
       "      <td>-1363</td>\n",
       "      <td>429.345</td>\n",
       "      <td>-4518.345</td>\n",
       "      <td>e-Shop</td>\n",
       "    </tr>\n",
       "    <tr>\n",
       "      <th>4</th>\n",
       "      <td>51750724947</td>\n",
       "      <td>273420</td>\n",
       "      <td>23-02-2014</td>\n",
       "      <td>6</td>\n",
       "      <td>5</td>\n",
       "      <td>-2</td>\n",
       "      <td>-791</td>\n",
       "      <td>166.110</td>\n",
       "      <td>-1748.110</td>\n",
       "      <td>TeleShop</td>\n",
       "    </tr>\n",
       "  </tbody>\n",
       "</table>\n",
       "</div>"
      ],
      "text/plain": [
       "   transaction_id  cust_id   tran_date  prod_subcat_code  prod_cat_code  Qty  \\\n",
       "0     80712190438   270351  28-02-2014                 1              1   -5   \n",
       "1     29258453508   270384  27-02-2014                 5              3   -5   \n",
       "2     51750724947   273420  24-02-2014                 6              5   -2   \n",
       "3     93274880719   271509  24-02-2014                11              6   -3   \n",
       "4     51750724947   273420  23-02-2014                 6              5   -2   \n",
       "\n",
       "   Rate      Tax  total_amt Store_type  \n",
       "0  -772  405.300  -4265.300     e-Shop  \n",
       "1 -1497  785.925  -8270.925     e-Shop  \n",
       "2  -791  166.110  -1748.110   TeleShop  \n",
       "3 -1363  429.345  -4518.345     e-Shop  \n",
       "4  -791  166.110  -1748.110   TeleShop  "
      ]
     },
     "execution_count": 8,
     "metadata": {},
     "output_type": "execute_result"
    }
   ],
   "source": [
    "df_trs.head()"
   ]
  },
  {
   "cell_type": "code",
   "execution_count": 9,
   "metadata": {},
   "outputs": [
    {
     "data": {
      "text/plain": [
       "(23053, 10)"
      ]
     },
     "execution_count": 9,
     "metadata": {},
     "output_type": "execute_result"
    }
   ],
   "source": [
    "df_trs.shape"
   ]
  },
  {
   "cell_type": "code",
   "execution_count": 10,
   "metadata": {},
   "outputs": [
    {
     "data": {
      "text/plain": [
       "(23, 4)"
      ]
     },
     "execution_count": 10,
     "metadata": {},
     "output_type": "execute_result"
    }
   ],
   "source": [
    "df_pro.shape"
   ]
  },
  {
   "cell_type": "code",
   "execution_count": 11,
   "metadata": {},
   "outputs": [
    {
     "data": {
      "text/plain": [
       "(5647, 4)"
      ]
     },
     "execution_count": 11,
     "metadata": {},
     "output_type": "execute_result"
    }
   ],
   "source": [
    "df_ct.shape"
   ]
  },
  {
   "cell_type": "code",
   "execution_count": 12,
   "metadata": {},
   "outputs": [
    {
     "data": {
      "text/plain": [
       "Index(['transaction_id', 'cust_id', 'tran_date', 'prod_subcat_code',\n",
       "       'prod_cat_code', 'Qty', 'Rate', 'Tax', 'total_amt', 'Store_type'],\n",
       "      dtype='object')"
      ]
     },
     "execution_count": 12,
     "metadata": {},
     "output_type": "execute_result"
    }
   ],
   "source": [
    "df_trs.columns"
   ]
  },
  {
   "cell_type": "markdown",
   "metadata": {},
   "source": [
    "# Merging Data frames"
   ]
  },
  {
   "cell_type": "markdown",
   "metadata": {},
   "source": [
    "# Before merging it is required need to rename prod_subcat_code column to 'prod_sub_cat_code' and match column names for easy join join on it."
   ]
  },
  {
   "cell_type": "code",
   "execution_count": 13,
   "metadata": {},
   "outputs": [
    {
     "name": "stdout",
     "output_type": "stream",
     "text": [
      "   transaction_id  cust_id   tran_date  prod_subcat_code  prod_cat_code  Qty  \\\n",
      "0     80712190438   270351  28-02-2014                 1              1   -5   \n",
      "1     29258453508   270384  27-02-2014                 5              3   -5   \n",
      "2     51750724947   273420  24-02-2014                 6              5   -2   \n",
      "3     93274880719   271509  24-02-2014                11              6   -3   \n",
      "4     51750724947   273420  23-02-2014                 6              5   -2   \n",
      "\n",
      "   Rate      Tax  total_amt Store_type  \n",
      "0  -772  405.300  -4265.300     e-Shop  \n",
      "1 -1497  785.925  -8270.925     e-Shop  \n",
      "2  -791  166.110  -1748.110   TeleShop  \n",
      "3 -1363  429.345  -4518.345     e-Shop  \n",
      "4  -791  166.110  -1748.110   TeleShop  \n",
      "************************************\n",
      "   prod_cat_code  prod_cat  prod_sub_cat_code prod_subcat\n",
      "0              1  Clothing                  4        Mens\n",
      "1              1  Clothing                  1       Women\n",
      "2              1  Clothing                  3        Kids\n",
      "3              2  Footwear                  1        Mens\n",
      "4              2  Footwear                  3       Women\n"
     ]
    }
   ],
   "source": [
    "#data sets that needs to be merged\n",
    "print(df_trs.head(5));\n",
    "print(\"************************************\");\n",
    "print(df_pro.head(5))"
   ]
  },
  {
   "cell_type": "code",
   "execution_count": 14,
   "metadata": {},
   "outputs": [
    {
     "data": {
      "text/plain": [
       "array([ 4,  1,  3,  5,  8,  9, 10,  7, 12, 11,  6,  2], dtype=int64)"
      ]
     },
     "execution_count": 14,
     "metadata": {},
     "output_type": "execute_result"
    }
   ],
   "source": [
    "#df_pro['prod_cat_code'].unique()\n",
    "df_pro['prod_sub_cat_code'].unique()"
   ]
  },
  {
   "cell_type": "code",
   "execution_count": 15,
   "metadata": {},
   "outputs": [],
   "source": [
    "df_trs.rename(columns={'prod_subcat_code':'prod_sub_cat_code'},inplace=True)"
   ]
  },
  {
   "cell_type": "code",
   "execution_count": 16,
   "metadata": {},
   "outputs": [],
   "source": [
    "df_com = pd.merge(df_trs,df_pro,how ='outer', on =['prod_sub_cat_code'])"
   ]
  },
  {
   "cell_type": "code",
   "execution_count": 17,
   "metadata": {},
   "outputs": [
    {
     "data": {
      "text/plain": [
       "Index(['transaction_id', 'cust_id', 'tran_date', 'prod_sub_cat_code',\n",
       "       'prod_cat_code_x', 'Qty', 'Rate', 'Tax', 'total_amt', 'Store_type',\n",
       "       'prod_cat_code_y', 'prod_cat', 'prod_subcat'],\n",
       "      dtype='object')"
      ]
     },
     "execution_count": 17,
     "metadata": {},
     "output_type": "execute_result"
    }
   ],
   "source": [
    "df_com.columns"
   ]
  },
  {
   "cell_type": "code",
   "execution_count": 18,
   "metadata": {},
   "outputs": [],
   "source": [
    "# its giving prod_cat_code as x and y therefore we need to split these two code from prod data \n",
    "cols_pro_cat = ['prod_cat_code','prod_cat']\n",
    "cols_prosub_cat= ['prod_sub_cat_code','prod_subcat']\n",
    "\n",
    "df_cat_cod =df_pro[cols_pro_cat]\n",
    "df_subcat_cod=df_pro[cols_prosub_cat]"
   ]
  },
  {
   "cell_type": "code",
   "execution_count": 19,
   "metadata": {},
   "outputs": [
    {
     "data": {
      "text/html": [
       "<div>\n",
       "<style scoped>\n",
       "    .dataframe tbody tr th:only-of-type {\n",
       "        vertical-align: middle;\n",
       "    }\n",
       "\n",
       "    .dataframe tbody tr th {\n",
       "        vertical-align: top;\n",
       "    }\n",
       "\n",
       "    .dataframe thead th {\n",
       "        text-align: right;\n",
       "    }\n",
       "</style>\n",
       "<table border=\"1\" class=\"dataframe\">\n",
       "  <thead>\n",
       "    <tr style=\"text-align: right;\">\n",
       "      <th></th>\n",
       "      <th>prod_sub_cat_code</th>\n",
       "      <th>prod_subcat</th>\n",
       "    </tr>\n",
       "  </thead>\n",
       "  <tbody>\n",
       "    <tr>\n",
       "      <th>0</th>\n",
       "      <td>4</td>\n",
       "      <td>Mens</td>\n",
       "    </tr>\n",
       "    <tr>\n",
       "      <th>1</th>\n",
       "      <td>1</td>\n",
       "      <td>Women</td>\n",
       "    </tr>\n",
       "    <tr>\n",
       "      <th>2</th>\n",
       "      <td>3</td>\n",
       "      <td>Kids</td>\n",
       "    </tr>\n",
       "    <tr>\n",
       "      <th>3</th>\n",
       "      <td>1</td>\n",
       "      <td>Mens</td>\n",
       "    </tr>\n",
       "  </tbody>\n",
       "</table>\n",
       "</div>"
      ],
      "text/plain": [
       "   prod_sub_cat_code prod_subcat\n",
       "0                  4        Mens\n",
       "1                  1       Women\n",
       "2                  3        Kids\n",
       "3                  1        Mens"
      ]
     },
     "execution_count": 19,
     "metadata": {},
     "output_type": "execute_result"
    }
   ],
   "source": [
    "df_subcat_cod.head(4)"
   ]
  },
  {
   "cell_type": "code",
   "execution_count": 20,
   "metadata": {},
   "outputs": [
    {
     "data": {
      "text/html": [
       "<div>\n",
       "<style scoped>\n",
       "    .dataframe tbody tr th:only-of-type {\n",
       "        vertical-align: middle;\n",
       "    }\n",
       "\n",
       "    .dataframe tbody tr th {\n",
       "        vertical-align: top;\n",
       "    }\n",
       "\n",
       "    .dataframe thead th {\n",
       "        text-align: right;\n",
       "    }\n",
       "</style>\n",
       "<table border=\"1\" class=\"dataframe\">\n",
       "  <thead>\n",
       "    <tr style=\"text-align: right;\">\n",
       "      <th></th>\n",
       "      <th>prod_cat_code</th>\n",
       "      <th>prod_cat</th>\n",
       "    </tr>\n",
       "  </thead>\n",
       "  <tbody>\n",
       "    <tr>\n",
       "      <th>0</th>\n",
       "      <td>1</td>\n",
       "      <td>Clothing</td>\n",
       "    </tr>\n",
       "    <tr>\n",
       "      <th>1</th>\n",
       "      <td>1</td>\n",
       "      <td>Clothing</td>\n",
       "    </tr>\n",
       "    <tr>\n",
       "      <th>2</th>\n",
       "      <td>1</td>\n",
       "      <td>Clothing</td>\n",
       "    </tr>\n",
       "    <tr>\n",
       "      <th>3</th>\n",
       "      <td>2</td>\n",
       "      <td>Footwear</td>\n",
       "    </tr>\n",
       "  </tbody>\n",
       "</table>\n",
       "</div>"
      ],
      "text/plain": [
       "   prod_cat_code  prod_cat\n",
       "0              1  Clothing\n",
       "1              1  Clothing\n",
       "2              1  Clothing\n",
       "3              2  Footwear"
      ]
     },
     "execution_count": 20,
     "metadata": {},
     "output_type": "execute_result"
    }
   ],
   "source": [
    "df_cat_cod.head(4)\n"
   ]
  },
  {
   "cell_type": "code",
   "execution_count": 21,
   "metadata": {},
   "outputs": [],
   "source": [
    "#we can join these two columns separtely to get better output and avoid loss of data\n",
    "#as many prod sub category code are missing.\n",
    "df_merged2= pd.merge(df_trs,df_cat_cod,how ='outer',on =['prod_cat_code'])"
   ]
  },
  {
   "cell_type": "code",
   "execution_count": 22,
   "metadata": {},
   "outputs": [],
   "source": [
    "df_merged3 = pd.merge(df_trs,df_subcat_cod,how='outer', on =['prod_sub_cat_code'])"
   ]
  },
  {
   "cell_type": "code",
   "execution_count": 23,
   "metadata": {},
   "outputs": [
    {
     "data": {
      "text/html": [
       "<div>\n",
       "<style scoped>\n",
       "    .dataframe tbody tr th:only-of-type {\n",
       "        vertical-align: middle;\n",
       "    }\n",
       "\n",
       "    .dataframe tbody tr th {\n",
       "        vertical-align: top;\n",
       "    }\n",
       "\n",
       "    .dataframe thead th {\n",
       "        text-align: right;\n",
       "    }\n",
       "</style>\n",
       "<table border=\"1\" class=\"dataframe\">\n",
       "  <thead>\n",
       "    <tr style=\"text-align: right;\">\n",
       "      <th></th>\n",
       "      <th>transaction_id</th>\n",
       "      <th>cust_id</th>\n",
       "      <th>tran_date</th>\n",
       "      <th>prod_sub_cat_code</th>\n",
       "      <th>prod_cat_code</th>\n",
       "      <th>Qty</th>\n",
       "      <th>Rate</th>\n",
       "      <th>Tax</th>\n",
       "      <th>total_amt</th>\n",
       "      <th>Store_type</th>\n",
       "      <th>prod_cat</th>\n",
       "    </tr>\n",
       "  </thead>\n",
       "  <tbody>\n",
       "    <tr>\n",
       "      <th>0</th>\n",
       "      <td>80712190438</td>\n",
       "      <td>270351</td>\n",
       "      <td>28-02-2014</td>\n",
       "      <td>1</td>\n",
       "      <td>1</td>\n",
       "      <td>-5</td>\n",
       "      <td>-772</td>\n",
       "      <td>405.30</td>\n",
       "      <td>-4265.30</td>\n",
       "      <td>e-Shop</td>\n",
       "      <td>Clothing</td>\n",
       "    </tr>\n",
       "    <tr>\n",
       "      <th>1</th>\n",
       "      <td>80712190438</td>\n",
       "      <td>270351</td>\n",
       "      <td>28-02-2014</td>\n",
       "      <td>1</td>\n",
       "      <td>1</td>\n",
       "      <td>-5</td>\n",
       "      <td>-772</td>\n",
       "      <td>405.30</td>\n",
       "      <td>-4265.30</td>\n",
       "      <td>e-Shop</td>\n",
       "      <td>Clothing</td>\n",
       "    </tr>\n",
       "    <tr>\n",
       "      <th>2</th>\n",
       "      <td>80712190438</td>\n",
       "      <td>270351</td>\n",
       "      <td>28-02-2014</td>\n",
       "      <td>1</td>\n",
       "      <td>1</td>\n",
       "      <td>-5</td>\n",
       "      <td>-772</td>\n",
       "      <td>405.30</td>\n",
       "      <td>-4265.30</td>\n",
       "      <td>e-Shop</td>\n",
       "      <td>Clothing</td>\n",
       "    </tr>\n",
       "    <tr>\n",
       "      <th>3</th>\n",
       "      <td>79792372943</td>\n",
       "      <td>275108</td>\n",
       "      <td>22-02-2014</td>\n",
       "      <td>3</td>\n",
       "      <td>1</td>\n",
       "      <td>-3</td>\n",
       "      <td>-908</td>\n",
       "      <td>286.02</td>\n",
       "      <td>-3010.02</td>\n",
       "      <td>MBR</td>\n",
       "      <td>Clothing</td>\n",
       "    </tr>\n",
       "  </tbody>\n",
       "</table>\n",
       "</div>"
      ],
      "text/plain": [
       "   transaction_id  cust_id   tran_date  prod_sub_cat_code  prod_cat_code  Qty  \\\n",
       "0     80712190438   270351  28-02-2014                  1              1   -5   \n",
       "1     80712190438   270351  28-02-2014                  1              1   -5   \n",
       "2     80712190438   270351  28-02-2014                  1              1   -5   \n",
       "3     79792372943   275108  22-02-2014                  3              1   -3   \n",
       "\n",
       "   Rate     Tax  total_amt Store_type  prod_cat  \n",
       "0  -772  405.30   -4265.30     e-Shop  Clothing  \n",
       "1  -772  405.30   -4265.30     e-Shop  Clothing  \n",
       "2  -772  405.30   -4265.30     e-Shop  Clothing  \n",
       "3  -908  286.02   -3010.02        MBR  Clothing  "
      ]
     },
     "execution_count": 23,
     "metadata": {},
     "output_type": "execute_result"
    }
   ],
   "source": [
    "df_merged2.head(4)"
   ]
  },
  {
   "cell_type": "code",
   "execution_count": 24,
   "metadata": {},
   "outputs": [
    {
     "data": {
      "text/html": [
       "<div>\n",
       "<style scoped>\n",
       "    .dataframe tbody tr th:only-of-type {\n",
       "        vertical-align: middle;\n",
       "    }\n",
       "\n",
       "    .dataframe tbody tr th {\n",
       "        vertical-align: top;\n",
       "    }\n",
       "\n",
       "    .dataframe thead th {\n",
       "        text-align: right;\n",
       "    }\n",
       "</style>\n",
       "<table border=\"1\" class=\"dataframe\">\n",
       "  <thead>\n",
       "    <tr style=\"text-align: right;\">\n",
       "      <th></th>\n",
       "      <th>transaction_id</th>\n",
       "      <th>cust_id</th>\n",
       "      <th>tran_date</th>\n",
       "      <th>prod_sub_cat_code</th>\n",
       "      <th>prod_cat_code</th>\n",
       "      <th>Qty</th>\n",
       "      <th>Rate</th>\n",
       "      <th>Tax</th>\n",
       "      <th>total_amt</th>\n",
       "      <th>Store_type</th>\n",
       "      <th>prod_subcat</th>\n",
       "    </tr>\n",
       "  </thead>\n",
       "  <tbody>\n",
       "    <tr>\n",
       "      <th>0</th>\n",
       "      <td>80712190438</td>\n",
       "      <td>270351</td>\n",
       "      <td>28-02-2014</td>\n",
       "      <td>1</td>\n",
       "      <td>1</td>\n",
       "      <td>-5</td>\n",
       "      <td>-772</td>\n",
       "      <td>405.300</td>\n",
       "      <td>-4265.300</td>\n",
       "      <td>e-Shop</td>\n",
       "      <td>Women</td>\n",
       "    </tr>\n",
       "    <tr>\n",
       "      <th>1</th>\n",
       "      <td>80712190438</td>\n",
       "      <td>270351</td>\n",
       "      <td>28-02-2014</td>\n",
       "      <td>1</td>\n",
       "      <td>1</td>\n",
       "      <td>-5</td>\n",
       "      <td>-772</td>\n",
       "      <td>405.300</td>\n",
       "      <td>-4265.300</td>\n",
       "      <td>e-Shop</td>\n",
       "      <td>Mens</td>\n",
       "    </tr>\n",
       "    <tr>\n",
       "      <th>2</th>\n",
       "      <td>80712190438</td>\n",
       "      <td>270351</td>\n",
       "      <td>28-02-2014</td>\n",
       "      <td>1</td>\n",
       "      <td>1</td>\n",
       "      <td>-5</td>\n",
       "      <td>-772</td>\n",
       "      <td>405.300</td>\n",
       "      <td>-4265.300</td>\n",
       "      <td>e-Shop</td>\n",
       "      <td>Mens</td>\n",
       "    </tr>\n",
       "    <tr>\n",
       "      <th>3</th>\n",
       "      <td>17183929085</td>\n",
       "      <td>266863</td>\n",
       "      <td>20-02-2014</td>\n",
       "      <td>1</td>\n",
       "      <td>2</td>\n",
       "      <td>1</td>\n",
       "      <td>1359</td>\n",
       "      <td>142.695</td>\n",
       "      <td>1501.695</td>\n",
       "      <td>TeleShop</td>\n",
       "      <td>Women</td>\n",
       "    </tr>\n",
       "  </tbody>\n",
       "</table>\n",
       "</div>"
      ],
      "text/plain": [
       "   transaction_id  cust_id   tran_date  prod_sub_cat_code  prod_cat_code  Qty  \\\n",
       "0     80712190438   270351  28-02-2014                  1              1   -5   \n",
       "1     80712190438   270351  28-02-2014                  1              1   -5   \n",
       "2     80712190438   270351  28-02-2014                  1              1   -5   \n",
       "3     17183929085   266863  20-02-2014                  1              2    1   \n",
       "\n",
       "   Rate      Tax  total_amt Store_type prod_subcat  \n",
       "0  -772  405.300  -4265.300     e-Shop       Women  \n",
       "1  -772  405.300  -4265.300     e-Shop        Mens  \n",
       "2  -772  405.300  -4265.300     e-Shop        Mens  \n",
       "3  1359  142.695   1501.695   TeleShop       Women  "
      ]
     },
     "execution_count": 24,
     "metadata": {},
     "output_type": "execute_result"
    }
   ],
   "source": [
    "df_merged3.head(4)"
   ]
  },
  {
   "cell_type": "code",
   "execution_count": 25,
   "metadata": {},
   "outputs": [],
   "source": [
    "#df_merged3 is collab properly now ,\n",
    "# now to check for any error or null value in out merged data"
   ]
  },
  {
   "cell_type": "code",
   "execution_count": 26,
   "metadata": {},
   "outputs": [
    {
     "data": {
      "text/html": [
       "<div>\n",
       "<style scoped>\n",
       "    .dataframe tbody tr th:only-of-type {\n",
       "        vertical-align: middle;\n",
       "    }\n",
       "\n",
       "    .dataframe tbody tr th {\n",
       "        vertical-align: top;\n",
       "    }\n",
       "\n",
       "    .dataframe thead th {\n",
       "        text-align: right;\n",
       "    }\n",
       "</style>\n",
       "<table border=\"1\" class=\"dataframe\">\n",
       "  <thead>\n",
       "    <tr style=\"text-align: right;\">\n",
       "      <th></th>\n",
       "      <th>customer_Id</th>\n",
       "      <th>DOB</th>\n",
       "      <th>Gender</th>\n",
       "      <th>city_code</th>\n",
       "    </tr>\n",
       "  </thead>\n",
       "  <tbody>\n",
       "    <tr>\n",
       "      <th>0</th>\n",
       "      <td>268408</td>\n",
       "      <td>02-01-1970</td>\n",
       "      <td>M</td>\n",
       "      <td>4.0</td>\n",
       "    </tr>\n",
       "    <tr>\n",
       "      <th>1</th>\n",
       "      <td>269696</td>\n",
       "      <td>07-01-1970</td>\n",
       "      <td>F</td>\n",
       "      <td>8.0</td>\n",
       "    </tr>\n",
       "    <tr>\n",
       "      <th>2</th>\n",
       "      <td>268159</td>\n",
       "      <td>08-01-1970</td>\n",
       "      <td>F</td>\n",
       "      <td>8.0</td>\n",
       "    </tr>\n",
       "    <tr>\n",
       "      <th>3</th>\n",
       "      <td>270181</td>\n",
       "      <td>10-01-1970</td>\n",
       "      <td>F</td>\n",
       "      <td>2.0</td>\n",
       "    </tr>\n",
       "  </tbody>\n",
       "</table>\n",
       "</div>"
      ],
      "text/plain": [
       "   customer_Id         DOB Gender  city_code\n",
       "0       268408  02-01-1970      M        4.0\n",
       "1       269696  07-01-1970      F        8.0\n",
       "2       268159  08-01-1970      F        8.0\n",
       "3       270181  10-01-1970      F        2.0"
      ]
     },
     "execution_count": 26,
     "metadata": {},
     "output_type": "execute_result"
    }
   ],
   "source": [
    "#third data to merge here is df_com (customer data) \n",
    "df_ct.head(4)\n"
   ]
  },
  {
   "cell_type": "code",
   "execution_count": 27,
   "metadata": {},
   "outputs": [],
   "source": [
    "df_ct.rename(columns={'customer_Id':'cust_id'},inplace = True)"
   ]
  },
  {
   "cell_type": "code",
   "execution_count": 28,
   "metadata": {},
   "outputs": [
    {
     "data": {
      "text/plain": [
       "Index(['cust_id', 'DOB', 'Gender', 'city_code'], dtype='object')"
      ]
     },
     "execution_count": 28,
     "metadata": {},
     "output_type": "execute_result"
    }
   ],
   "source": [
    "df_ct.columns"
   ]
  },
  {
   "cell_type": "code",
   "execution_count": 29,
   "metadata": {},
   "outputs": [
    {
     "data": {
      "text/plain": [
       "(57166, 11)"
      ]
     },
     "execution_count": 29,
     "metadata": {},
     "output_type": "execute_result"
    }
   ],
   "source": [
    "df_merged3.shape"
   ]
  },
  {
   "cell_type": "code",
   "execution_count": 30,
   "metadata": {},
   "outputs": [],
   "source": [
    "df_merged_final = pd.merge(df_trs,df_ct,how='outer', on =['cust_id'])"
   ]
  },
  {
   "cell_type": "code",
   "execution_count": 31,
   "metadata": {},
   "outputs": [
    {
     "data": {
      "text/plain": [
       "(23194, 13)"
      ]
     },
     "execution_count": 31,
     "metadata": {},
     "output_type": "execute_result"
    }
   ],
   "source": [
    "df_merged_final.shape"
   ]
  },
  {
   "cell_type": "code",
   "execution_count": 32,
   "metadata": {},
   "outputs": [
    {
     "data": {
      "text/plain": [
       "transaction_id       141\n",
       "cust_id                0\n",
       "tran_date            141\n",
       "prod_sub_cat_code    141\n",
       "prod_cat_code        141\n",
       "Qty                  141\n",
       "Rate                 141\n",
       "Tax                  141\n",
       "total_amt            141\n",
       "Store_type           141\n",
       "DOB                    0\n",
       "Gender                 9\n",
       "city_code              8\n",
       "dtype: int64"
      ]
     },
     "execution_count": 32,
     "metadata": {},
     "output_type": "execute_result"
    }
   ],
   "source": [
    "df_merged_final.isna().sum()"
   ]
  },
  {
   "cell_type": "code",
   "execution_count": 33,
   "metadata": {},
   "outputs": [],
   "source": [
    "# there is no data avalaible for these cusomer_id(141 rows), therefore we can drop this\n",
    "col_ar =list(df_merged_final.columns)\n",
    "df_merged_final[df_merged_final['transaction_id'].isna()]\n",
    "df_merged_final.dropna(inplace=True)"
   ]
  },
  {
   "cell_type": "code",
   "execution_count": 34,
   "metadata": {},
   "outputs": [
    {
     "data": {
      "text/html": [
       "<div>\n",
       "<style scoped>\n",
       "    .dataframe tbody tr th:only-of-type {\n",
       "        vertical-align: middle;\n",
       "    }\n",
       "\n",
       "    .dataframe tbody tr th {\n",
       "        vertical-align: top;\n",
       "    }\n",
       "\n",
       "    .dataframe thead th {\n",
       "        text-align: right;\n",
       "    }\n",
       "</style>\n",
       "<table border=\"1\" class=\"dataframe\">\n",
       "  <thead>\n",
       "    <tr style=\"text-align: right;\">\n",
       "      <th></th>\n",
       "      <th>transaction_id</th>\n",
       "      <th>cust_id</th>\n",
       "      <th>tran_date</th>\n",
       "      <th>prod_sub_cat_code</th>\n",
       "      <th>prod_cat_code</th>\n",
       "      <th>Qty</th>\n",
       "      <th>Rate</th>\n",
       "      <th>Tax</th>\n",
       "      <th>total_amt</th>\n",
       "      <th>Store_type</th>\n",
       "      <th>DOB</th>\n",
       "      <th>Gender</th>\n",
       "      <th>city_code</th>\n",
       "    </tr>\n",
       "  </thead>\n",
       "  <tbody>\n",
       "    <tr>\n",
       "      <th>0</th>\n",
       "      <td>8.071219e+10</td>\n",
       "      <td>270351</td>\n",
       "      <td>28-02-2014</td>\n",
       "      <td>1.0</td>\n",
       "      <td>1.0</td>\n",
       "      <td>-5.0</td>\n",
       "      <td>-772.0</td>\n",
       "      <td>405.300</td>\n",
       "      <td>-4265.300</td>\n",
       "      <td>e-Shop</td>\n",
       "      <td>26-09-1981</td>\n",
       "      <td>M</td>\n",
       "      <td>5.0</td>\n",
       "    </tr>\n",
       "    <tr>\n",
       "      <th>1</th>\n",
       "      <td>8.071219e+10</td>\n",
       "      <td>270351</td>\n",
       "      <td>20-02-2014</td>\n",
       "      <td>1.0</td>\n",
       "      <td>1.0</td>\n",
       "      <td>5.0</td>\n",
       "      <td>772.0</td>\n",
       "      <td>405.300</td>\n",
       "      <td>4265.300</td>\n",
       "      <td>e-Shop</td>\n",
       "      <td>26-09-1981</td>\n",
       "      <td>M</td>\n",
       "      <td>5.0</td>\n",
       "    </tr>\n",
       "    <tr>\n",
       "      <th>2</th>\n",
       "      <td>3.695744e+10</td>\n",
       "      <td>270351</td>\n",
       "      <td>16-09-2013</td>\n",
       "      <td>3.0</td>\n",
       "      <td>2.0</td>\n",
       "      <td>3.0</td>\n",
       "      <td>361.0</td>\n",
       "      <td>113.715</td>\n",
       "      <td>1196.715</td>\n",
       "      <td>Flagship store</td>\n",
       "      <td>26-09-1981</td>\n",
       "      <td>M</td>\n",
       "      <td>5.0</td>\n",
       "    </tr>\n",
       "    <tr>\n",
       "      <th>3</th>\n",
       "      <td>1.223628e+10</td>\n",
       "      <td>270351</td>\n",
       "      <td>18-03-2013</td>\n",
       "      <td>8.0</td>\n",
       "      <td>3.0</td>\n",
       "      <td>3.0</td>\n",
       "      <td>1030.0</td>\n",
       "      <td>324.450</td>\n",
       "      <td>3414.450</td>\n",
       "      <td>e-Shop</td>\n",
       "      <td>26-09-1981</td>\n",
       "      <td>M</td>\n",
       "      <td>5.0</td>\n",
       "    </tr>\n",
       "    <tr>\n",
       "      <th>4</th>\n",
       "      <td>1.318156e+10</td>\n",
       "      <td>270351</td>\n",
       "      <td>13-12-2011</td>\n",
       "      <td>6.0</td>\n",
       "      <td>5.0</td>\n",
       "      <td>1.0</td>\n",
       "      <td>1048.0</td>\n",
       "      <td>110.040</td>\n",
       "      <td>1158.040</td>\n",
       "      <td>e-Shop</td>\n",
       "      <td>26-09-1981</td>\n",
       "      <td>M</td>\n",
       "      <td>5.0</td>\n",
       "    </tr>\n",
       "  </tbody>\n",
       "</table>\n",
       "</div>"
      ],
      "text/plain": [
       "   transaction_id  cust_id   tran_date  prod_sub_cat_code  prod_cat_code  Qty  \\\n",
       "0    8.071219e+10   270351  28-02-2014                1.0            1.0 -5.0   \n",
       "1    8.071219e+10   270351  20-02-2014                1.0            1.0  5.0   \n",
       "2    3.695744e+10   270351  16-09-2013                3.0            2.0  3.0   \n",
       "3    1.223628e+10   270351  18-03-2013                8.0            3.0  3.0   \n",
       "4    1.318156e+10   270351  13-12-2011                6.0            5.0  1.0   \n",
       "\n",
       "     Rate      Tax  total_amt      Store_type         DOB Gender  city_code  \n",
       "0  -772.0  405.300  -4265.300          e-Shop  26-09-1981      M        5.0  \n",
       "1   772.0  405.300   4265.300          e-Shop  26-09-1981      M        5.0  \n",
       "2   361.0  113.715   1196.715  Flagship store  26-09-1981      M        5.0  \n",
       "3  1030.0  324.450   3414.450          e-Shop  26-09-1981      M        5.0  \n",
       "4  1048.0  110.040   1158.040          e-Shop  26-09-1981      M        5.0  "
      ]
     },
     "execution_count": 34,
     "metadata": {},
     "output_type": "execute_result"
    }
   ],
   "source": [
    "df_merged_final.head()"
   ]
  },
  {
   "cell_type": "code",
   "execution_count": 35,
   "metadata": {},
   "outputs": [
    {
     "data": {
      "text/plain": [
       "transaction_id       0\n",
       "cust_id              0\n",
       "tran_date            0\n",
       "prod_sub_cat_code    0\n",
       "prod_cat_code        0\n",
       "Qty                  0\n",
       "Rate                 0\n",
       "Tax                  0\n",
       "total_amt            0\n",
       "Store_type           0\n",
       "DOB                  0\n",
       "Gender               0\n",
       "city_code            0\n",
       "dtype: int64"
      ]
     },
     "execution_count": 35,
     "metadata": {},
     "output_type": "execute_result"
    }
   ],
   "source": [
    "df_merged_final.isna().sum()"
   ]
  },
  {
   "cell_type": "code",
   "execution_count": 36,
   "metadata": {},
   "outputs": [
    {
     "name": "stdout",
     "output_type": "stream",
     "text": [
      "       transaction_id  cust_id   tran_date  prod_sub_cat_code  prod_cat_code  \\\n",
      "0        8.071219e+10   270351  28-02-2014                1.0            1.0   \n",
      "1        8.071219e+10   270351  20-02-2014                1.0            1.0   \n",
      "2        3.695744e+10   270351  16-09-2013                3.0            2.0   \n",
      "3        1.223628e+10   270351  18-03-2013                8.0            3.0   \n",
      "4        1.318156e+10   270351  13-12-2011                6.0            5.0   \n",
      "...               ...      ...         ...                ...            ...   \n",
      "23039    6.582324e+10   272650  16-02-2011               11.0            6.0   \n",
      "23047    1.293389e+10   272706  31-01-2011                1.0            4.0   \n",
      "23048    1.629319e+10   274931  31-01-2011                8.0            3.0   \n",
      "23049    7.016396e+10   267902  30-01-2011               10.0            5.0   \n",
      "23050    2.041714e+10   269556  29-01-2011               10.0            6.0   \n",
      "\n",
      "       Qty    Rate      Tax  total_amt      Store_type         DOB Gender  \\\n",
      "0     -5.0  -772.0  405.300  -4265.300          e-Shop  26-09-1981      M   \n",
      "1      5.0   772.0  405.300   4265.300          e-Shop  26-09-1981      M   \n",
      "2      3.0   361.0  113.715   1196.715  Flagship store  26-09-1981      M   \n",
      "3      3.0  1030.0  324.450   3414.450          e-Shop  26-09-1981      M   \n",
      "4      1.0  1048.0  110.040   1158.040          e-Shop  26-09-1981      M   \n",
      "...    ...     ...      ...        ...             ...         ...    ...   \n",
      "23039  2.0   358.0   75.180    791.180          e-Shop  28-02-1990      M   \n",
      "23047  5.0   361.0  189.525   1994.525             MBR  09-03-1974      M   \n",
      "23048  3.0   137.0   43.155    454.155  Flagship store  10-06-1972      M   \n",
      "23049  4.0   404.0  169.680   1785.680          e-Shop  17-07-1975      M   \n",
      "23050  3.0   654.0  206.010   2168.010  Flagship store  27-12-1972      M   \n",
      "\n",
      "       city_code  \n",
      "0            5.0  \n",
      "1            5.0  \n",
      "2            5.0  \n",
      "3            5.0  \n",
      "4            5.0  \n",
      "...          ...  \n",
      "23039        2.0  \n",
      "23047        8.0  \n",
      "23048       10.0  \n",
      "23049        4.0  \n",
      "23050        5.0  \n",
      "\n",
      "[11805 rows x 13 columns]\n"
     ]
    }
   ],
   "source": [
    "print(df_merged_final.loc[df_merged_final['Gender']=='M'])\n",
    "#df_merged_final.loc[df_merged_final['Gender']=='M'].count()"
   ]
  },
  {
   "cell_type": "code",
   "execution_count": 37,
   "metadata": {},
   "outputs": [
    {
     "data": {
      "text/plain": [
       "(23036, 13)"
      ]
     },
     "execution_count": 37,
     "metadata": {},
     "output_type": "execute_result"
    }
   ],
   "source": [
    "#We are left with 23036 values of rows for the final data set\n",
    "df_merged_final.shape"
   ]
  },
  {
   "cell_type": "code",
   "execution_count": 38,
   "metadata": {},
   "outputs": [
    {
     "data": {
      "text/plain": [
       "transaction_id       False\n",
       "cust_id              False\n",
       "tran_date            False\n",
       "prod_sub_cat_code    False\n",
       "prod_cat_code        False\n",
       "Qty                  False\n",
       "Rate                 False\n",
       "Tax                  False\n",
       "total_amt            False\n",
       "Store_type           False\n",
       "prod_subcat          False\n",
       "dtype: bool"
      ]
     },
     "execution_count": 38,
     "metadata": {},
     "output_type": "execute_result"
    }
   ],
   "source": [
    "df_merged3.isnull().any()"
   ]
  },
  {
   "cell_type": "code",
   "execution_count": 39,
   "metadata": {},
   "outputs": [
    {
     "data": {
      "text/html": [
       "<div>\n",
       "<style scoped>\n",
       "    .dataframe tbody tr th:only-of-type {\n",
       "        vertical-align: middle;\n",
       "    }\n",
       "\n",
       "    .dataframe tbody tr th {\n",
       "        vertical-align: top;\n",
       "    }\n",
       "\n",
       "    .dataframe thead th {\n",
       "        text-align: right;\n",
       "    }\n",
       "</style>\n",
       "<table border=\"1\" class=\"dataframe\">\n",
       "  <thead>\n",
       "    <tr style=\"text-align: right;\">\n",
       "      <th></th>\n",
       "      <th>transaction_id</th>\n",
       "      <th>cust_id</th>\n",
       "      <th>prod_sub_cat_code</th>\n",
       "      <th>prod_cat_code</th>\n",
       "      <th>Qty</th>\n",
       "      <th>Rate</th>\n",
       "      <th>Tax</th>\n",
       "      <th>total_amt</th>\n",
       "    </tr>\n",
       "  </thead>\n",
       "  <tbody>\n",
       "    <tr>\n",
       "      <th>count</th>\n",
       "      <td>5.716600e+04</td>\n",
       "      <td>57166.000000</td>\n",
       "      <td>57166.000000</td>\n",
       "      <td>57166.000000</td>\n",
       "      <td>57166.000000</td>\n",
       "      <td>57166.000000</td>\n",
       "      <td>57166.000000</td>\n",
       "      <td>57166.000000</td>\n",
       "    </tr>\n",
       "    <tr>\n",
       "      <th>mean</th>\n",
       "      <td>5.017556e+10</td>\n",
       "      <td>271015.375101</td>\n",
       "      <td>5.613949</td>\n",
       "      <td>3.462425</td>\n",
       "      <td>2.429766</td>\n",
       "      <td>635.022653</td>\n",
       "      <td>248.967409</td>\n",
       "      <td>2102.084532</td>\n",
       "    </tr>\n",
       "    <tr>\n",
       "      <th>std</th>\n",
       "      <td>2.896442e+10</td>\n",
       "      <td>2426.954106</td>\n",
       "      <td>3.701183</td>\n",
       "      <td>1.710811</td>\n",
       "      <td>2.273219</td>\n",
       "      <td>623.390431</td>\n",
       "      <td>187.344788</td>\n",
       "      <td>2516.597510</td>\n",
       "    </tr>\n",
       "    <tr>\n",
       "      <th>min</th>\n",
       "      <td>3.268991e+06</td>\n",
       "      <td>266783.000000</td>\n",
       "      <td>1.000000</td>\n",
       "      <td>1.000000</td>\n",
       "      <td>-5.000000</td>\n",
       "      <td>-1499.000000</td>\n",
       "      <td>7.350000</td>\n",
       "      <td>-8270.925000</td>\n",
       "    </tr>\n",
       "    <tr>\n",
       "      <th>25%</th>\n",
       "      <td>2.527880e+10</td>\n",
       "      <td>268931.000000</td>\n",
       "      <td>3.000000</td>\n",
       "      <td>2.000000</td>\n",
       "      <td>1.000000</td>\n",
       "      <td>312.000000</td>\n",
       "      <td>98.490000</td>\n",
       "      <td>764.660000</td>\n",
       "    </tr>\n",
       "    <tr>\n",
       "      <th>50%</th>\n",
       "      <td>5.019132e+10</td>\n",
       "      <td>270982.000000</td>\n",
       "      <td>4.000000</td>\n",
       "      <td>3.000000</td>\n",
       "      <td>3.000000</td>\n",
       "      <td>709.000000</td>\n",
       "      <td>199.342500</td>\n",
       "      <td>1759.160000</td>\n",
       "    </tr>\n",
       "    <tr>\n",
       "      <th>75%</th>\n",
       "      <td>7.551116e+10</td>\n",
       "      <td>273096.000000</td>\n",
       "      <td>10.000000</td>\n",
       "      <td>5.000000</td>\n",
       "      <td>4.000000</td>\n",
       "      <td>1109.000000</td>\n",
       "      <td>364.980000</td>\n",
       "      <td>3553.680000</td>\n",
       "    </tr>\n",
       "    <tr>\n",
       "      <th>max</th>\n",
       "      <td>9.998755e+10</td>\n",
       "      <td>275265.000000</td>\n",
       "      <td>12.000000</td>\n",
       "      <td>6.000000</td>\n",
       "      <td>5.000000</td>\n",
       "      <td>1500.000000</td>\n",
       "      <td>787.500000</td>\n",
       "      <td>8287.500000</td>\n",
       "    </tr>\n",
       "  </tbody>\n",
       "</table>\n",
       "</div>"
      ],
      "text/plain": [
       "       transaction_id        cust_id  prod_sub_cat_code  prod_cat_code  \\\n",
       "count    5.716600e+04   57166.000000       57166.000000   57166.000000   \n",
       "mean     5.017556e+10  271015.375101           5.613949       3.462425   \n",
       "std      2.896442e+10    2426.954106           3.701183       1.710811   \n",
       "min      3.268991e+06  266783.000000           1.000000       1.000000   \n",
       "25%      2.527880e+10  268931.000000           3.000000       2.000000   \n",
       "50%      5.019132e+10  270982.000000           4.000000       3.000000   \n",
       "75%      7.551116e+10  273096.000000          10.000000       5.000000   \n",
       "max      9.998755e+10  275265.000000          12.000000       6.000000   \n",
       "\n",
       "                Qty          Rate           Tax     total_amt  \n",
       "count  57166.000000  57166.000000  57166.000000  57166.000000  \n",
       "mean       2.429766    635.022653    248.967409   2102.084532  \n",
       "std        2.273219    623.390431    187.344788   2516.597510  \n",
       "min       -5.000000  -1499.000000      7.350000  -8270.925000  \n",
       "25%        1.000000    312.000000     98.490000    764.660000  \n",
       "50%        3.000000    709.000000    199.342500   1759.160000  \n",
       "75%        4.000000   1109.000000    364.980000   3553.680000  \n",
       "max        5.000000   1500.000000    787.500000   8287.500000  "
      ]
     },
     "execution_count": 39,
     "metadata": {},
     "output_type": "execute_result"
    }
   ],
   "source": [
    "df_merged3.describe()"
   ]
  },
  {
   "cell_type": "markdown",
   "metadata": {},
   "source": [
    "#exploring merge data for error values"
   ]
  },
  {
   "cell_type": "code",
   "execution_count": 40,
   "metadata": {},
   "outputs": [
    {
     "data": {
      "text/plain": [
       "transaction_id       False\n",
       "cust_id              False\n",
       "tran_date            False\n",
       "prod_sub_cat_code    False\n",
       "prod_cat_code        False\n",
       "Qty                  False\n",
       "Rate                 False\n",
       "Tax                  False\n",
       "total_amt            False\n",
       "Store_type           False\n",
       "prod_subcat          False\n",
       "dtype: bool"
      ]
     },
     "execution_count": 40,
     "metadata": {},
     "output_type": "execute_result"
    }
   ],
   "source": [
    "# no null values in merged data\n",
    "df_merged3.isnull().any()"
   ]
  },
  {
   "cell_type": "code",
   "execution_count": 41,
   "metadata": {},
   "outputs": [
    {
     "name": "stdout",
     "output_type": "stream",
     "text": [
      "<class 'pandas.core.frame.DataFrame'>\n",
      "Int64Index: 57166 entries, 0 to 57165\n",
      "Data columns (total 13 columns):\n",
      " #   Column             Non-Null Count  Dtype  \n",
      "---  ------             --------------  -----  \n",
      " 0   transaction_id     57166 non-null  int64  \n",
      " 1   cust_id            57166 non-null  int64  \n",
      " 2   tran_date          57166 non-null  object \n",
      " 3   prod_sub_cat_code  57166 non-null  int64  \n",
      " 4   prod_cat_code_x    57166 non-null  int64  \n",
      " 5   Qty                57166 non-null  int64  \n",
      " 6   Rate               57166 non-null  int64  \n",
      " 7   Tax                57166 non-null  float64\n",
      " 8   total_amt          57166 non-null  float64\n",
      " 9   Store_type         57166 non-null  object \n",
      " 10  prod_cat_code_y    57166 non-null  int64  \n",
      " 11  prod_cat           57166 non-null  object \n",
      " 12  prod_subcat        57166 non-null  object \n",
      "dtypes: float64(2), int64(7), object(4)\n",
      "memory usage: 6.1+ MB\n"
     ]
    }
   ],
   "source": [
    "df_com.info()"
   ]
  },
  {
   "cell_type": "code",
   "execution_count": 42,
   "metadata": {},
   "outputs": [],
   "source": [
    "\n",
    "#df_merged3\n",
    "#years_date = df_merged3['tran_date'].dt.year"
   ]
  },
  {
   "cell_type": "code",
   "execution_count": 43,
   "metadata": {},
   "outputs": [],
   "source": [
    "#x =df_merged3['tran_date']\n",
    "#year = datetime.strptime(x[2],'%d-%m-%Y').date()\n",
    "#x[2]"
   ]
  },
  {
   "cell_type": "code",
   "execution_count": null,
   "metadata": {},
   "outputs": [],
   "source": [
    " "
   ]
  },
  {
   "cell_type": "code",
   "execution_count": 44,
   "metadata": {},
   "outputs": [],
   "source": [
    "y_trs =df_merged3['tran_date']"
   ]
  },
  {
   "cell_type": "code",
   "execution_count": 45,
   "metadata": {},
   "outputs": [],
   "source": [
    " c =len(y_trs)"
   ]
  },
  {
   "cell_type": "code",
   "execution_count": 46,
   "metadata": {},
   "outputs": [],
   "source": [
    "ntr = y_trs.str.replace('/','-')"
   ]
  },
  {
   "cell_type": "code",
   "execution_count": 47,
   "metadata": {},
   "outputs": [
    {
     "data": {
      "text/plain": [
       "(57166,)"
      ]
     },
     "execution_count": 47,
     "metadata": {},
     "output_type": "execute_result"
    }
   ],
   "source": [
    "ntr.shape"
   ]
  },
  {
   "cell_type": "code",
   "execution_count": 48,
   "metadata": {},
   "outputs": [
    {
     "data": {
      "text/plain": [
       "'3/2/2014'"
      ]
     },
     "execution_count": 48,
     "metadata": {},
     "output_type": "execute_result"
    }
   ],
   "source": [
    "y_trs[99]"
   ]
  },
  {
   "cell_type": "code",
   "execution_count": 49,
   "metadata": {},
   "outputs": [
    {
     "data": {
      "text/plain": [
       "'3-2-2014'"
      ]
     },
     "execution_count": 49,
     "metadata": {},
     "output_type": "execute_result"
    }
   ],
   "source": [
    "ntr[99]"
   ]
  },
  {
   "cell_type": "code",
   "execution_count": 50,
   "metadata": {},
   "outputs": [
    {
     "data": {
      "text/plain": [
       "'3-2-2014'"
      ]
     },
     "execution_count": 50,
     "metadata": {},
     "output_type": "execute_result"
    }
   ],
   "source": [
    "ntr[99]"
   ]
  },
  {
   "cell_type": "code",
   "execution_count": 51,
   "metadata": {},
   "outputs": [],
   "source": [
    "ntr2 =ntr\n",
    "ln = len(ntr2)"
   ]
  },
  {
   "cell_type": "code",
   "execution_count": 52,
   "metadata": {},
   "outputs": [],
   "source": [
    "ar = []\n",
    "for i in range(ln):\n",
    "    year = datetime.strptime(ntr2[i],('%d-%m-%Y'))\n",
    "    ar.append(year)\n",
    "    \n",
    "    \n"
   ]
  },
  {
   "cell_type": "code",
   "execution_count": 53,
   "metadata": {},
   "outputs": [
    {
     "data": {
      "text/plain": [
       "2"
      ]
     },
     "execution_count": 53,
     "metadata": {},
     "output_type": "execute_result"
    }
   ],
   "source": [
    "ar[1].month"
   ]
  },
  {
   "cell_type": "code",
   "execution_count": 54,
   "metadata": {},
   "outputs": [
    {
     "data": {
      "text/plain": [
       "57166"
      ]
     },
     "execution_count": 54,
     "metadata": {},
     "output_type": "execute_result"
    }
   ],
   "source": [
    "len(ar)"
   ]
  },
  {
   "cell_type": "code",
   "execution_count": 55,
   "metadata": {},
   "outputs": [
    {
     "data": {
      "text/plain": [
       "[datetime.datetime(2014, 2, 28, 0, 0), datetime.datetime(2014, 2, 28, 0, 0)]"
      ]
     },
     "execution_count": 55,
     "metadata": {},
     "output_type": "execute_result"
    }
   ],
   "source": [
    "ar[:2]"
   ]
  },
  {
   "cell_type": "code",
   "execution_count": 56,
   "metadata": {},
   "outputs": [
    {
     "data": {
      "text/plain": [
       "(57166, 11)"
      ]
     },
     "execution_count": 56,
     "metadata": {},
     "output_type": "execute_result"
    }
   ],
   "source": [
    "df_merged3.shape"
   ]
  },
  {
   "cell_type": "code",
   "execution_count": 57,
   "metadata": {},
   "outputs": [],
   "source": [
    "# adding date features to the data frame , \n",
    "#ths will be added to merged transaction data set to avoid loss of data after merging\n",
    "#with customer data\n",
    "\n",
    "# As motive of date features is to get at what time of year , month , week there were more transactions\n"
   ]
  },
  {
   "cell_type": "code",
   "execution_count": 58,
   "metadata": {},
   "outputs": [],
   "source": [
    "ar_df = pd.DataFrame(ar)"
   ]
  },
  {
   "cell_type": "code",
   "execution_count": 59,
   "metadata": {},
   "outputs": [
    {
     "data": {
      "text/html": [
       "<div>\n",
       "<style scoped>\n",
       "    .dataframe tbody tr th:only-of-type {\n",
       "        vertical-align: middle;\n",
       "    }\n",
       "\n",
       "    .dataframe tbody tr th {\n",
       "        vertical-align: top;\n",
       "    }\n",
       "\n",
       "    .dataframe thead th {\n",
       "        text-align: right;\n",
       "    }\n",
       "</style>\n",
       "<table border=\"1\" class=\"dataframe\">\n",
       "  <thead>\n",
       "    <tr style=\"text-align: right;\">\n",
       "      <th></th>\n",
       "      <th>0</th>\n",
       "    </tr>\n",
       "  </thead>\n",
       "  <tbody>\n",
       "    <tr>\n",
       "      <th>0</th>\n",
       "      <td>2014-02-28</td>\n",
       "    </tr>\n",
       "    <tr>\n",
       "      <th>1</th>\n",
       "      <td>2014-02-28</td>\n",
       "    </tr>\n",
       "    <tr>\n",
       "      <th>2</th>\n",
       "      <td>2014-02-28</td>\n",
       "    </tr>\n",
       "    <tr>\n",
       "      <th>3</th>\n",
       "      <td>2014-02-20</td>\n",
       "    </tr>\n",
       "  </tbody>\n",
       "</table>\n",
       "</div>"
      ],
      "text/plain": [
       "           0\n",
       "0 2014-02-28\n",
       "1 2014-02-28\n",
       "2 2014-02-28\n",
       "3 2014-02-20"
      ]
     },
     "execution_count": 59,
     "metadata": {},
     "output_type": "execute_result"
    }
   ],
   "source": [
    "ar_df.head(4)"
   ]
  },
  {
   "cell_type": "code",
   "execution_count": 60,
   "metadata": {},
   "outputs": [],
   "source": [
    "x_m = ar_df[0].dt.month\n",
    "x_y =ar_df[0].dt.year\n"
   ]
  },
  {
   "cell_type": "code",
   "execution_count": 61,
   "metadata": {},
   "outputs": [],
   "source": [
    "month = {1:'Janauary',\n",
    "2:'February',\n",
    "3:'March',\n",
    "4:'April',\n",
    "5:'May',\n",
    "6:'June',\n",
    "7:'July',\n",
    "8:'August',\n",
    "9:'September',\n",
    "10:'October',\n",
    "11:'November',\n",
    "12:'December'}"
   ]
  },
  {
   "cell_type": "code",
   "execution_count": 62,
   "metadata": {},
   "outputs": [],
   "source": [
    "month_words =[]\n",
    "for i in x_m:\n",
    "    month_words.append(month[i])"
   ]
  },
  {
   "cell_type": "code",
   "execution_count": 63,
   "metadata": {},
   "outputs": [
    {
     "data": {
      "text/plain": [
       "0        2014\n",
       "1        2014\n",
       "2        2014\n",
       "3        2014\n",
       "4        2014\n",
       "         ... \n",
       "57161    2011\n",
       "57162    2011\n",
       "57163    2011\n",
       "57164    2011\n",
       "57165    2011\n",
       "Name: 0, Length: 57166, dtype: int64"
      ]
     },
     "execution_count": 63,
     "metadata": {},
     "output_type": "execute_result"
    }
   ],
   "source": [
    "x_y"
   ]
  },
  {
   "cell_type": "code",
   "execution_count": 64,
   "metadata": {},
   "outputs": [
    {
     "data": {
      "text/plain": [
       "datetime.datetime(2014, 2, 28, 0, 0)"
      ]
     },
     "execution_count": 64,
     "metadata": {},
     "output_type": "execute_result"
    }
   ],
   "source": [
    "ar[i]"
   ]
  },
  {
   "cell_type": "code",
   "execution_count": 65,
   "metadata": {},
   "outputs": [],
   "source": [
    "ar_day=[]\n",
    "for i in range(len(ar)):\n",
    "    ar_day.append(ar[i].weekday())\n",
    "    \n"
   ]
  },
  {
   "cell_type": "code",
   "execution_count": 66,
   "metadata": {},
   "outputs": [],
   "source": [
    "weekdays_d = {0:'Monday',1:'Tuesday',2:'Wednesday',3:'Thursday',4:'Friday',5:'Saturday',6:'Sunday'}\n",
    "#ar_day"
   ]
  },
  {
   "cell_type": "code",
   "execution_count": 67,
   "metadata": {},
   "outputs": [],
   "source": [
    "day =[]\n",
    "for i in ar_day:\n",
    "    day.append(weekdays_d[i])"
   ]
  },
  {
   "cell_type": "code",
   "execution_count": 68,
   "metadata": {},
   "outputs": [],
   "source": [
    "weekday_weekend2=[]\n",
    "for i in range(len(ar_day)):\n",
    "    if ar_day[i]<4:\n",
    "        weekday_weekend2.append('Weekday')\n",
    "    elif ar_day[i]>=4:\n",
    "        weekday_weekend2.append('Weekend')"
   ]
  },
  {
   "cell_type": "code",
   "execution_count": 69,
   "metadata": {},
   "outputs": [
    {
     "data": {
      "text/plain": [
       "57166"
      ]
     },
     "execution_count": 69,
     "metadata": {},
     "output_type": "execute_result"
    }
   ],
   "source": [
    "len(ar_day)"
   ]
  },
  {
   "cell_type": "code",
   "execution_count": 70,
   "metadata": {},
   "outputs": [],
   "source": [
    "x_mdf = pd.DataFrame()"
   ]
  },
  {
   "cell_type": "code",
   "execution_count": 71,
   "metadata": {},
   "outputs": [],
   "source": [
    "df_merged3['Date_fm'] =ar"
   ]
  },
  {
   "cell_type": "code",
   "execution_count": 72,
   "metadata": {},
   "outputs": [],
   "source": [
    "df_merged3['Month']=ar_df[0].dt.month"
   ]
  },
  {
   "cell_type": "code",
   "execution_count": 73,
   "metadata": {},
   "outputs": [
    {
     "data": {
      "text/html": [
       "<div>\n",
       "<style scoped>\n",
       "    .dataframe tbody tr th:only-of-type {\n",
       "        vertical-align: middle;\n",
       "    }\n",
       "\n",
       "    .dataframe tbody tr th {\n",
       "        vertical-align: top;\n",
       "    }\n",
       "\n",
       "    .dataframe thead th {\n",
       "        text-align: right;\n",
       "    }\n",
       "</style>\n",
       "<table border=\"1\" class=\"dataframe\">\n",
       "  <thead>\n",
       "    <tr style=\"text-align: right;\">\n",
       "      <th></th>\n",
       "      <th>transaction_id</th>\n",
       "      <th>cust_id</th>\n",
       "      <th>tran_date</th>\n",
       "      <th>prod_sub_cat_code</th>\n",
       "      <th>prod_cat_code</th>\n",
       "      <th>Qty</th>\n",
       "      <th>Rate</th>\n",
       "      <th>Tax</th>\n",
       "      <th>total_amt</th>\n",
       "      <th>Store_type</th>\n",
       "      <th>prod_subcat</th>\n",
       "      <th>Date_fm</th>\n",
       "      <th>Month</th>\n",
       "    </tr>\n",
       "  </thead>\n",
       "  <tbody>\n",
       "    <tr>\n",
       "      <th>0</th>\n",
       "      <td>80712190438</td>\n",
       "      <td>270351</td>\n",
       "      <td>28-02-2014</td>\n",
       "      <td>1</td>\n",
       "      <td>1</td>\n",
       "      <td>-5</td>\n",
       "      <td>-772</td>\n",
       "      <td>405.300</td>\n",
       "      <td>-4265.300</td>\n",
       "      <td>e-Shop</td>\n",
       "      <td>Women</td>\n",
       "      <td>2014-02-28</td>\n",
       "      <td>2</td>\n",
       "    </tr>\n",
       "    <tr>\n",
       "      <th>1</th>\n",
       "      <td>80712190438</td>\n",
       "      <td>270351</td>\n",
       "      <td>28-02-2014</td>\n",
       "      <td>1</td>\n",
       "      <td>1</td>\n",
       "      <td>-5</td>\n",
       "      <td>-772</td>\n",
       "      <td>405.300</td>\n",
       "      <td>-4265.300</td>\n",
       "      <td>e-Shop</td>\n",
       "      <td>Mens</td>\n",
       "      <td>2014-02-28</td>\n",
       "      <td>2</td>\n",
       "    </tr>\n",
       "    <tr>\n",
       "      <th>2</th>\n",
       "      <td>80712190438</td>\n",
       "      <td>270351</td>\n",
       "      <td>28-02-2014</td>\n",
       "      <td>1</td>\n",
       "      <td>1</td>\n",
       "      <td>-5</td>\n",
       "      <td>-772</td>\n",
       "      <td>405.300</td>\n",
       "      <td>-4265.300</td>\n",
       "      <td>e-Shop</td>\n",
       "      <td>Mens</td>\n",
       "      <td>2014-02-28</td>\n",
       "      <td>2</td>\n",
       "    </tr>\n",
       "    <tr>\n",
       "      <th>3</th>\n",
       "      <td>17183929085</td>\n",
       "      <td>266863</td>\n",
       "      <td>20-02-2014</td>\n",
       "      <td>1</td>\n",
       "      <td>2</td>\n",
       "      <td>1</td>\n",
       "      <td>1359</td>\n",
       "      <td>142.695</td>\n",
       "      <td>1501.695</td>\n",
       "      <td>TeleShop</td>\n",
       "      <td>Women</td>\n",
       "      <td>2014-02-20</td>\n",
       "      <td>2</td>\n",
       "    </tr>\n",
       "    <tr>\n",
       "      <th>4</th>\n",
       "      <td>17183929085</td>\n",
       "      <td>266863</td>\n",
       "      <td>20-02-2014</td>\n",
       "      <td>1</td>\n",
       "      <td>2</td>\n",
       "      <td>1</td>\n",
       "      <td>1359</td>\n",
       "      <td>142.695</td>\n",
       "      <td>1501.695</td>\n",
       "      <td>TeleShop</td>\n",
       "      <td>Mens</td>\n",
       "      <td>2014-02-20</td>\n",
       "      <td>2</td>\n",
       "    </tr>\n",
       "  </tbody>\n",
       "</table>\n",
       "</div>"
      ],
      "text/plain": [
       "   transaction_id  cust_id   tran_date  prod_sub_cat_code  prod_cat_code  Qty  \\\n",
       "0     80712190438   270351  28-02-2014                  1              1   -5   \n",
       "1     80712190438   270351  28-02-2014                  1              1   -5   \n",
       "2     80712190438   270351  28-02-2014                  1              1   -5   \n",
       "3     17183929085   266863  20-02-2014                  1              2    1   \n",
       "4     17183929085   266863  20-02-2014                  1              2    1   \n",
       "\n",
       "   Rate      Tax  total_amt Store_type prod_subcat    Date_fm  Month  \n",
       "0  -772  405.300  -4265.300     e-Shop       Women 2014-02-28      2  \n",
       "1  -772  405.300  -4265.300     e-Shop        Mens 2014-02-28      2  \n",
       "2  -772  405.300  -4265.300     e-Shop        Mens 2014-02-28      2  \n",
       "3  1359  142.695   1501.695   TeleShop       Women 2014-02-20      2  \n",
       "4  1359  142.695   1501.695   TeleShop        Mens 2014-02-20      2  "
      ]
     },
     "execution_count": 73,
     "metadata": {},
     "output_type": "execute_result"
    }
   ],
   "source": [
    "df_merged3.head()"
   ]
  },
  {
   "cell_type": "code",
   "execution_count": 74,
   "metadata": {},
   "outputs": [],
   "source": [
    "df_merged3['Year']= x_y"
   ]
  },
  {
   "cell_type": "code",
   "execution_count": 75,
   "metadata": {},
   "outputs": [],
   "source": [
    "df_merged3['Day'] =day"
   ]
  },
  {
   "cell_type": "code",
   "execution_count": 76,
   "metadata": {},
   "outputs": [],
   "source": [
    "df_merged3['Weekend/Weekday'] =weekday_weekend2"
   ]
  },
  {
   "cell_type": "code",
   "execution_count": 77,
   "metadata": {},
   "outputs": [],
   "source": [
    "x_wd = df_merged3['Weekend/Weekday'].value_counts()"
   ]
  },
  {
   "cell_type": "code",
   "execution_count": 78,
   "metadata": {},
   "outputs": [
    {
     "data": {
      "text/plain": [
       "Weekday    32569\n",
       "Weekend    24597\n",
       "Name: Weekend/Weekday, dtype: int64"
      ]
     },
     "execution_count": 78,
     "metadata": {},
     "output_type": "execute_result"
    }
   ],
   "source": [
    "x_wd"
   ]
  },
  {
   "cell_type": "code",
   "execution_count": 79,
   "metadata": {},
   "outputs": [
    {
     "data": {
      "text/html": [
       "<div>\n",
       "<style scoped>\n",
       "    .dataframe tbody tr th:only-of-type {\n",
       "        vertical-align: middle;\n",
       "    }\n",
       "\n",
       "    .dataframe tbody tr th {\n",
       "        vertical-align: top;\n",
       "    }\n",
       "\n",
       "    .dataframe thead th {\n",
       "        text-align: right;\n",
       "    }\n",
       "</style>\n",
       "<table border=\"1\" class=\"dataframe\">\n",
       "  <thead>\n",
       "    <tr style=\"text-align: right;\">\n",
       "      <th></th>\n",
       "      <th>transaction_id</th>\n",
       "      <th>cust_id</th>\n",
       "      <th>tran_date</th>\n",
       "      <th>prod_sub_cat_code</th>\n",
       "      <th>prod_cat_code</th>\n",
       "      <th>Qty</th>\n",
       "      <th>Rate</th>\n",
       "      <th>Tax</th>\n",
       "      <th>total_amt</th>\n",
       "      <th>Store_type</th>\n",
       "      <th>prod_subcat</th>\n",
       "      <th>Date_fm</th>\n",
       "      <th>Month</th>\n",
       "      <th>Year</th>\n",
       "      <th>Day</th>\n",
       "      <th>Weekend/Weekday</th>\n",
       "    </tr>\n",
       "  </thead>\n",
       "  <tbody>\n",
       "    <tr>\n",
       "      <th>0</th>\n",
       "      <td>80712190438</td>\n",
       "      <td>270351</td>\n",
       "      <td>28-02-2014</td>\n",
       "      <td>1</td>\n",
       "      <td>1</td>\n",
       "      <td>-5</td>\n",
       "      <td>-772</td>\n",
       "      <td>405.300</td>\n",
       "      <td>-4265.300</td>\n",
       "      <td>e-Shop</td>\n",
       "      <td>Women</td>\n",
       "      <td>2014-02-28</td>\n",
       "      <td>2</td>\n",
       "      <td>2014</td>\n",
       "      <td>Friday</td>\n",
       "      <td>Weekend</td>\n",
       "    </tr>\n",
       "    <tr>\n",
       "      <th>1</th>\n",
       "      <td>80712190438</td>\n",
       "      <td>270351</td>\n",
       "      <td>28-02-2014</td>\n",
       "      <td>1</td>\n",
       "      <td>1</td>\n",
       "      <td>-5</td>\n",
       "      <td>-772</td>\n",
       "      <td>405.300</td>\n",
       "      <td>-4265.300</td>\n",
       "      <td>e-Shop</td>\n",
       "      <td>Mens</td>\n",
       "      <td>2014-02-28</td>\n",
       "      <td>2</td>\n",
       "      <td>2014</td>\n",
       "      <td>Friday</td>\n",
       "      <td>Weekend</td>\n",
       "    </tr>\n",
       "    <tr>\n",
       "      <th>2</th>\n",
       "      <td>80712190438</td>\n",
       "      <td>270351</td>\n",
       "      <td>28-02-2014</td>\n",
       "      <td>1</td>\n",
       "      <td>1</td>\n",
       "      <td>-5</td>\n",
       "      <td>-772</td>\n",
       "      <td>405.300</td>\n",
       "      <td>-4265.300</td>\n",
       "      <td>e-Shop</td>\n",
       "      <td>Mens</td>\n",
       "      <td>2014-02-28</td>\n",
       "      <td>2</td>\n",
       "      <td>2014</td>\n",
       "      <td>Friday</td>\n",
       "      <td>Weekend</td>\n",
       "    </tr>\n",
       "    <tr>\n",
       "      <th>3</th>\n",
       "      <td>17183929085</td>\n",
       "      <td>266863</td>\n",
       "      <td>20-02-2014</td>\n",
       "      <td>1</td>\n",
       "      <td>2</td>\n",
       "      <td>1</td>\n",
       "      <td>1359</td>\n",
       "      <td>142.695</td>\n",
       "      <td>1501.695</td>\n",
       "      <td>TeleShop</td>\n",
       "      <td>Women</td>\n",
       "      <td>2014-02-20</td>\n",
       "      <td>2</td>\n",
       "      <td>2014</td>\n",
       "      <td>Thursday</td>\n",
       "      <td>Weekday</td>\n",
       "    </tr>\n",
       "    <tr>\n",
       "      <th>4</th>\n",
       "      <td>17183929085</td>\n",
       "      <td>266863</td>\n",
       "      <td>20-02-2014</td>\n",
       "      <td>1</td>\n",
       "      <td>2</td>\n",
       "      <td>1</td>\n",
       "      <td>1359</td>\n",
       "      <td>142.695</td>\n",
       "      <td>1501.695</td>\n",
       "      <td>TeleShop</td>\n",
       "      <td>Mens</td>\n",
       "      <td>2014-02-20</td>\n",
       "      <td>2</td>\n",
       "      <td>2014</td>\n",
       "      <td>Thursday</td>\n",
       "      <td>Weekday</td>\n",
       "    </tr>\n",
       "  </tbody>\n",
       "</table>\n",
       "</div>"
      ],
      "text/plain": [
       "   transaction_id  cust_id   tran_date  prod_sub_cat_code  prod_cat_code  Qty  \\\n",
       "0     80712190438   270351  28-02-2014                  1              1   -5   \n",
       "1     80712190438   270351  28-02-2014                  1              1   -5   \n",
       "2     80712190438   270351  28-02-2014                  1              1   -5   \n",
       "3     17183929085   266863  20-02-2014                  1              2    1   \n",
       "4     17183929085   266863  20-02-2014                  1              2    1   \n",
       "\n",
       "   Rate      Tax  total_amt Store_type prod_subcat    Date_fm  Month  Year  \\\n",
       "0  -772  405.300  -4265.300     e-Shop       Women 2014-02-28      2  2014   \n",
       "1  -772  405.300  -4265.300     e-Shop        Mens 2014-02-28      2  2014   \n",
       "2  -772  405.300  -4265.300     e-Shop        Mens 2014-02-28      2  2014   \n",
       "3  1359  142.695   1501.695   TeleShop       Women 2014-02-20      2  2014   \n",
       "4  1359  142.695   1501.695   TeleShop        Mens 2014-02-20      2  2014   \n",
       "\n",
       "        Day Weekend/Weekday  \n",
       "0    Friday         Weekend  \n",
       "1    Friday         Weekend  \n",
       "2    Friday         Weekend  \n",
       "3  Thursday         Weekday  \n",
       "4  Thursday         Weekday  "
      ]
     },
     "execution_count": 79,
     "metadata": {},
     "output_type": "execute_result"
    }
   ],
   "source": [
    "df_merged3.head()"
   ]
  },
  {
   "cell_type": "code",
   "execution_count": 80,
   "metadata": {},
   "outputs": [
    {
     "data": {
      "text/plain": [
       "array([32569, 24597], dtype=int64)"
      ]
     },
     "execution_count": 80,
     "metadata": {},
     "output_type": "execute_result"
    }
   ],
   "source": [
    "x_wd.values"
   ]
  },
  {
   "cell_type": "code",
   "execution_count": 81,
   "metadata": {},
   "outputs": [
    {
     "data": {
      "image/png": "[encoded data removed]",
      "text/plain": [
       "<Figure size 432x432 with 1 Axes>"
      ]
     },
     "metadata": {
      "needs_background": "light"
     },
     "output_type": "display_data"
    }
   ],
   "source": [
    "# visualising how many transaction are on weekend and how many on weekday.\n",
    "df_wd = df_merged3['Weekend/Weekday']\n",
    "fig, ax = plt.subplots(figsize =(6,6))\n",
    "plt.style.use('classic')\n",
    "plt.title('Number of Transaction on Weekdays and Weekend',fontsize=12)\n",
    "ax.bar(x_wd.index,x_wd.values, color='gray')\n",
    "ax.tick_params(labelsize=9)\n",
    "plt.show()"
   ]
  },
  {
   "cell_type": "code",
   "execution_count": 82,
   "metadata": {},
   "outputs": [
    {
     "data": {
      "text/html": [
       "<div>\n",
       "<style scoped>\n",
       "    .dataframe tbody tr th:only-of-type {\n",
       "        vertical-align: middle;\n",
       "    }\n",
       "\n",
       "    .dataframe tbody tr th {\n",
       "        vertical-align: top;\n",
       "    }\n",
       "\n",
       "    .dataframe thead th {\n",
       "        text-align: right;\n",
       "    }\n",
       "</style>\n",
       "<table border=\"1\" class=\"dataframe\">\n",
       "  <thead>\n",
       "    <tr style=\"text-align: right;\">\n",
       "      <th></th>\n",
       "      <th>transaction_id</th>\n",
       "      <th>cust_id</th>\n",
       "      <th>tran_date</th>\n",
       "      <th>prod_sub_cat_code</th>\n",
       "      <th>prod_cat_code</th>\n",
       "      <th>Qty</th>\n",
       "      <th>Rate</th>\n",
       "      <th>Tax</th>\n",
       "      <th>total_amt</th>\n",
       "      <th>Store_type</th>\n",
       "      <th>prod_subcat</th>\n",
       "      <th>Date_fm</th>\n",
       "      <th>Month</th>\n",
       "      <th>Year</th>\n",
       "      <th>Day</th>\n",
       "      <th>Weekend/Weekday</th>\n",
       "    </tr>\n",
       "  </thead>\n",
       "  <tbody>\n",
       "    <tr>\n",
       "      <th>0</th>\n",
       "      <td>80712190438</td>\n",
       "      <td>270351</td>\n",
       "      <td>28-02-2014</td>\n",
       "      <td>1</td>\n",
       "      <td>1</td>\n",
       "      <td>-5</td>\n",
       "      <td>-772</td>\n",
       "      <td>405.3</td>\n",
       "      <td>-4265.3</td>\n",
       "      <td>e-Shop</td>\n",
       "      <td>Women</td>\n",
       "      <td>2014-02-28</td>\n",
       "      <td>2</td>\n",
       "      <td>2014</td>\n",
       "      <td>Friday</td>\n",
       "      <td>Weekend</td>\n",
       "    </tr>\n",
       "    <tr>\n",
       "      <th>1</th>\n",
       "      <td>80712190438</td>\n",
       "      <td>270351</td>\n",
       "      <td>28-02-2014</td>\n",
       "      <td>1</td>\n",
       "      <td>1</td>\n",
       "      <td>-5</td>\n",
       "      <td>-772</td>\n",
       "      <td>405.3</td>\n",
       "      <td>-4265.3</td>\n",
       "      <td>e-Shop</td>\n",
       "      <td>Mens</td>\n",
       "      <td>2014-02-28</td>\n",
       "      <td>2</td>\n",
       "      <td>2014</td>\n",
       "      <td>Friday</td>\n",
       "      <td>Weekend</td>\n",
       "    </tr>\n",
       "  </tbody>\n",
       "</table>\n",
       "</div>"
      ],
      "text/plain": [
       "   transaction_id  cust_id   tran_date  prod_sub_cat_code  prod_cat_code  Qty  \\\n",
       "0     80712190438   270351  28-02-2014                  1              1   -5   \n",
       "1     80712190438   270351  28-02-2014                  1              1   -5   \n",
       "\n",
       "   Rate    Tax  total_amt Store_type prod_subcat    Date_fm  Month  Year  \\\n",
       "0  -772  405.3    -4265.3     e-Shop       Women 2014-02-28      2  2014   \n",
       "1  -772  405.3    -4265.3     e-Shop        Mens 2014-02-28      2  2014   \n",
       "\n",
       "      Day Weekend/Weekday  \n",
       "0  Friday         Weekend  \n",
       "1  Friday         Weekend  "
      ]
     },
     "execution_count": 82,
     "metadata": {},
     "output_type": "execute_result"
    }
   ],
   "source": [
    "df_merged3.head(2)"
   ]
  },
  {
   "cell_type": "code",
   "execution_count": 83,
   "metadata": {},
   "outputs": [],
   "source": [
    "#Its important to know the net sale that can be expected on \n",
    "#perticular days so that company can arrange required staff and stock\n",
    "df_weekdays = df_merged3.groupby('Day').mean().sort_values('total_amt',ascending=False)"
   ]
  },
  {
   "cell_type": "code",
   "execution_count": 84,
   "metadata": {},
   "outputs": [
    {
     "data": {
      "text/html": [
       "<div>\n",
       "<style scoped>\n",
       "    .dataframe tbody tr th:only-of-type {\n",
       "        vertical-align: middle;\n",
       "    }\n",
       "\n",
       "    .dataframe tbody tr th {\n",
       "        vertical-align: top;\n",
       "    }\n",
       "\n",
       "    .dataframe thead th {\n",
       "        text-align: right;\n",
       "    }\n",
       "</style>\n",
       "<table border=\"1\" class=\"dataframe\">\n",
       "  <thead>\n",
       "    <tr style=\"text-align: right;\">\n",
       "      <th></th>\n",
       "      <th>transaction_id</th>\n",
       "      <th>cust_id</th>\n",
       "      <th>prod_sub_cat_code</th>\n",
       "      <th>prod_cat_code</th>\n",
       "      <th>Qty</th>\n",
       "      <th>Rate</th>\n",
       "      <th>Tax</th>\n",
       "      <th>total_amt</th>\n",
       "      <th>Month</th>\n",
       "      <th>Year</th>\n",
       "    </tr>\n",
       "    <tr>\n",
       "      <th>Day</th>\n",
       "      <th></th>\n",
       "      <th></th>\n",
       "      <th></th>\n",
       "      <th></th>\n",
       "      <th></th>\n",
       "      <th></th>\n",
       "      <th></th>\n",
       "      <th></th>\n",
       "      <th></th>\n",
       "      <th></th>\n",
       "    </tr>\n",
       "  </thead>\n",
       "  <tbody>\n",
       "    <tr>\n",
       "      <th>Wednesday</th>\n",
       "      <td>5.093371e+10</td>\n",
       "      <td>270998.002072</td>\n",
       "      <td>5.617335</td>\n",
       "      <td>3.440083</td>\n",
       "      <td>2.462514</td>\n",
       "      <td>646.305498</td>\n",
       "      <td>248.646208</td>\n",
       "      <td>2151.386506</td>\n",
       "      <td>6.279044</td>\n",
       "      <td>2012.140315</td>\n",
       "    </tr>\n",
       "    <tr>\n",
       "      <th>Saturday</th>\n",
       "      <td>5.014782e+10</td>\n",
       "      <td>271076.603959</td>\n",
       "      <td>5.640314</td>\n",
       "      <td>3.469622</td>\n",
       "      <td>2.434014</td>\n",
       "      <td>643.482321</td>\n",
       "      <td>253.307271</td>\n",
       "      <td>2129.931524</td>\n",
       "      <td>6.514940</td>\n",
       "      <td>2012.131350</td>\n",
       "    </tr>\n",
       "    <tr>\n",
       "      <th>Thursday</th>\n",
       "      <td>5.053980e+10</td>\n",
       "      <td>271031.564171</td>\n",
       "      <td>5.609774</td>\n",
       "      <td>3.491835</td>\n",
       "      <td>2.408854</td>\n",
       "      <td>638.431475</td>\n",
       "      <td>243.134682</td>\n",
       "      <td>2095.330219</td>\n",
       "      <td>6.425305</td>\n",
       "      <td>2012.124108</td>\n",
       "    </tr>\n",
       "    <tr>\n",
       "      <th>Sunday</th>\n",
       "      <td>4.983530e+10</td>\n",
       "      <td>270951.567699</td>\n",
       "      <td>5.563934</td>\n",
       "      <td>3.473953</td>\n",
       "      <td>2.444809</td>\n",
       "      <td>637.042380</td>\n",
       "      <td>249.997311</td>\n",
       "      <td>2092.339439</td>\n",
       "      <td>6.576078</td>\n",
       "      <td>2012.085489</td>\n",
       "    </tr>\n",
       "    <tr>\n",
       "      <th>Tuesday</th>\n",
       "      <td>5.046760e+10</td>\n",
       "      <td>271026.735683</td>\n",
       "      <td>5.593445</td>\n",
       "      <td>3.437229</td>\n",
       "      <td>2.430674</td>\n",
       "      <td>613.885962</td>\n",
       "      <td>253.071429</td>\n",
       "      <td>2090.359046</td>\n",
       "      <td>6.404329</td>\n",
       "      <td>2012.088683</td>\n",
       "    </tr>\n",
       "    <tr>\n",
       "      <th>Monday</th>\n",
       "      <td>5.029557e+10</td>\n",
       "      <td>271033.123659</td>\n",
       "      <td>5.572872</td>\n",
       "      <td>3.445221</td>\n",
       "      <td>2.448340</td>\n",
       "      <td>628.751685</td>\n",
       "      <td>246.818393</td>\n",
       "      <td>2081.873775</td>\n",
       "      <td>6.570876</td>\n",
       "      <td>2012.105690</td>\n",
       "    </tr>\n",
       "    <tr>\n",
       "      <th>Friday</th>\n",
       "      <td>4.903172e+10</td>\n",
       "      <td>270992.356182</td>\n",
       "      <td>5.698199</td>\n",
       "      <td>3.477911</td>\n",
       "      <td>2.380552</td>\n",
       "      <td>636.923169</td>\n",
       "      <td>247.953744</td>\n",
       "      <td>2073.845296</td>\n",
       "      <td>6.436975</td>\n",
       "      <td>2012.130732</td>\n",
       "    </tr>\n",
       "  </tbody>\n",
       "</table>\n",
       "</div>"
      ],
      "text/plain": [
       "           transaction_id        cust_id  prod_sub_cat_code  prod_cat_code  \\\n",
       "Day                                                                          \n",
       "Wednesday    5.093371e+10  270998.002072           5.617335       3.440083   \n",
       "Saturday     5.014782e+10  271076.603959           5.640314       3.469622   \n",
       "Thursday     5.053980e+10  271031.564171           5.609774       3.491835   \n",
       "Sunday       4.983530e+10  270951.567699           5.563934       3.473953   \n",
       "Tuesday      5.046760e+10  271026.735683           5.593445       3.437229   \n",
       "Monday       5.029557e+10  271033.123659           5.572872       3.445221   \n",
       "Friday       4.903172e+10  270992.356182           5.698199       3.477911   \n",
       "\n",
       "                Qty        Rate         Tax    total_amt     Month  \\\n",
       "Day                                                                  \n",
       "Wednesday  2.462514  646.305498  248.646208  2151.386506  6.279044   \n",
       "Saturday   2.434014  643.482321  253.307271  2129.931524  6.514940   \n",
       "Thursday   2.408854  638.431475  243.134682  2095.330219  6.425305   \n",
       "Sunday     2.444809  637.042380  249.997311  2092.339439  6.576078   \n",
       "Tuesday    2.430674  613.885962  253.071429  2090.359046  6.404329   \n",
       "Monday     2.448340  628.751685  246.818393  2081.873775  6.570876   \n",
       "Friday     2.380552  636.923169  247.953744  2073.845296  6.436975   \n",
       "\n",
       "                  Year  \n",
       "Day                     \n",
       "Wednesday  2012.140315  \n",
       "Saturday   2012.131350  \n",
       "Thursday   2012.124108  \n",
       "Sunday     2012.085489  \n",
       "Tuesday    2012.088683  \n",
       "Monday     2012.105690  \n",
       "Friday     2012.130732  "
      ]
     },
     "execution_count": 84,
     "metadata": {},
     "output_type": "execute_result"
    }
   ],
   "source": [
    "df_weekdays"
   ]
  },
  {
   "cell_type": "code",
   "execution_count": 85,
   "metadata": {},
   "outputs": [],
   "source": [
    "sum_sales = df_weekdays['total_amt'].sum()\n",
    "df_weekdays['sales_ratio'] =df_weekdays['total_amt']/sum_sales"
   ]
  },
  {
   "cell_type": "code",
   "execution_count": 86,
   "metadata": {},
   "outputs": [
    {
     "data": {
      "text/html": [
       "<div>\n",
       "<style scoped>\n",
       "    .dataframe tbody tr th:only-of-type {\n",
       "        vertical-align: middle;\n",
       "    }\n",
       "\n",
       "    .dataframe tbody tr th {\n",
       "        vertical-align: top;\n",
       "    }\n",
       "\n",
       "    .dataframe thead th {\n",
       "        text-align: right;\n",
       "    }\n",
       "</style>\n",
       "<table border=\"1\" class=\"dataframe\">\n",
       "  <thead>\n",
       "    <tr style=\"text-align: right;\">\n",
       "      <th></th>\n",
       "      <th>transaction_id</th>\n",
       "      <th>cust_id</th>\n",
       "      <th>prod_sub_cat_code</th>\n",
       "      <th>prod_cat_code</th>\n",
       "      <th>Qty</th>\n",
       "      <th>Rate</th>\n",
       "      <th>Tax</th>\n",
       "      <th>total_amt</th>\n",
       "      <th>Month</th>\n",
       "      <th>Year</th>\n",
       "      <th>sales_ratio</th>\n",
       "    </tr>\n",
       "    <tr>\n",
       "      <th>Day</th>\n",
       "      <th></th>\n",
       "      <th></th>\n",
       "      <th></th>\n",
       "      <th></th>\n",
       "      <th></th>\n",
       "      <th></th>\n",
       "      <th></th>\n",
       "      <th></th>\n",
       "      <th></th>\n",
       "      <th></th>\n",
       "      <th></th>\n",
       "    </tr>\n",
       "  </thead>\n",
       "  <tbody>\n",
       "    <tr>\n",
       "      <th>Wednesday</th>\n",
       "      <td>5.093371e+10</td>\n",
       "      <td>270998.002072</td>\n",
       "      <td>5.617335</td>\n",
       "      <td>3.440083</td>\n",
       "      <td>2.462514</td>\n",
       "      <td>646.305498</td>\n",
       "      <td>248.646208</td>\n",
       "      <td>2151.386506</td>\n",
       "      <td>6.279044</td>\n",
       "      <td>2012.140315</td>\n",
       "      <td>0.146203</td>\n",
       "    </tr>\n",
       "    <tr>\n",
       "      <th>Saturday</th>\n",
       "      <td>5.014782e+10</td>\n",
       "      <td>271076.603959</td>\n",
       "      <td>5.640314</td>\n",
       "      <td>3.469622</td>\n",
       "      <td>2.434014</td>\n",
       "      <td>643.482321</td>\n",
       "      <td>253.307271</td>\n",
       "      <td>2129.931524</td>\n",
       "      <td>6.514940</td>\n",
       "      <td>2012.131350</td>\n",
       "      <td>0.144745</td>\n",
       "    </tr>\n",
       "    <tr>\n",
       "      <th>Thursday</th>\n",
       "      <td>5.053980e+10</td>\n",
       "      <td>271031.564171</td>\n",
       "      <td>5.609774</td>\n",
       "      <td>3.491835</td>\n",
       "      <td>2.408854</td>\n",
       "      <td>638.431475</td>\n",
       "      <td>243.134682</td>\n",
       "      <td>2095.330219</td>\n",
       "      <td>6.425305</td>\n",
       "      <td>2012.124108</td>\n",
       "      <td>0.142394</td>\n",
       "    </tr>\n",
       "    <tr>\n",
       "      <th>Sunday</th>\n",
       "      <td>4.983530e+10</td>\n",
       "      <td>270951.567699</td>\n",
       "      <td>5.563934</td>\n",
       "      <td>3.473953</td>\n",
       "      <td>2.444809</td>\n",
       "      <td>637.042380</td>\n",
       "      <td>249.997311</td>\n",
       "      <td>2092.339439</td>\n",
       "      <td>6.576078</td>\n",
       "      <td>2012.085489</td>\n",
       "      <td>0.142190</td>\n",
       "    </tr>\n",
       "    <tr>\n",
       "      <th>Tuesday</th>\n",
       "      <td>5.046760e+10</td>\n",
       "      <td>271026.735683</td>\n",
       "      <td>5.593445</td>\n",
       "      <td>3.437229</td>\n",
       "      <td>2.430674</td>\n",
       "      <td>613.885962</td>\n",
       "      <td>253.071429</td>\n",
       "      <td>2090.359046</td>\n",
       "      <td>6.404329</td>\n",
       "      <td>2012.088683</td>\n",
       "      <td>0.142056</td>\n",
       "    </tr>\n",
       "    <tr>\n",
       "      <th>Monday</th>\n",
       "      <td>5.029557e+10</td>\n",
       "      <td>271033.123659</td>\n",
       "      <td>5.572872</td>\n",
       "      <td>3.445221</td>\n",
       "      <td>2.448340</td>\n",
       "      <td>628.751685</td>\n",
       "      <td>246.818393</td>\n",
       "      <td>2081.873775</td>\n",
       "      <td>6.570876</td>\n",
       "      <td>2012.105690</td>\n",
       "      <td>0.141479</td>\n",
       "    </tr>\n",
       "    <tr>\n",
       "      <th>Friday</th>\n",
       "      <td>4.903172e+10</td>\n",
       "      <td>270992.356182</td>\n",
       "      <td>5.698199</td>\n",
       "      <td>3.477911</td>\n",
       "      <td>2.380552</td>\n",
       "      <td>636.923169</td>\n",
       "      <td>247.953744</td>\n",
       "      <td>2073.845296</td>\n",
       "      <td>6.436975</td>\n",
       "      <td>2012.130732</td>\n",
       "      <td>0.140933</td>\n",
       "    </tr>\n",
       "  </tbody>\n",
       "</table>\n",
       "</div>"
      ],
      "text/plain": [
       "           transaction_id        cust_id  prod_sub_cat_code  prod_cat_code  \\\n",
       "Day                                                                          \n",
       "Wednesday    5.093371e+10  270998.002072           5.617335       3.440083   \n",
       "Saturday     5.014782e+10  271076.603959           5.640314       3.469622   \n",
       "Thursday     5.053980e+10  271031.564171           5.609774       3.491835   \n",
       "Sunday       4.983530e+10  270951.567699           5.563934       3.473953   \n",
       "Tuesday      5.046760e+10  271026.735683           5.593445       3.437229   \n",
       "Monday       5.029557e+10  271033.123659           5.572872       3.445221   \n",
       "Friday       4.903172e+10  270992.356182           5.698199       3.477911   \n",
       "\n",
       "                Qty        Rate         Tax    total_amt     Month  \\\n",
       "Day                                                                  \n",
       "Wednesday  2.462514  646.305498  248.646208  2151.386506  6.279044   \n",
       "Saturday   2.434014  643.482321  253.307271  2129.931524  6.514940   \n",
       "Thursday   2.408854  638.431475  243.134682  2095.330219  6.425305   \n",
       "Sunday     2.444809  637.042380  249.997311  2092.339439  6.576078   \n",
       "Tuesday    2.430674  613.885962  253.071429  2090.359046  6.404329   \n",
       "Monday     2.448340  628.751685  246.818393  2081.873775  6.570876   \n",
       "Friday     2.380552  636.923169  247.953744  2073.845296  6.436975   \n",
       "\n",
       "                  Year  sales_ratio  \n",
       "Day                                  \n",
       "Wednesday  2012.140315     0.146203  \n",
       "Saturday   2012.131350     0.144745  \n",
       "Thursday   2012.124108     0.142394  \n",
       "Sunday     2012.085489     0.142190  \n",
       "Tuesday    2012.088683     0.142056  \n",
       "Monday     2012.105690     0.141479  \n",
       "Friday     2012.130732     0.140933  "
      ]
     },
     "execution_count": 86,
     "metadata": {},
     "output_type": "execute_result"
    }
   ],
   "source": [
    "df_weekdays"
   ]
  },
  {
   "cell_type": "code",
   "execution_count": 87,
   "metadata": {},
   "outputs": [
    {
     "data": {
      "image/png": "[encoded data removed]",
      "text/plain": [
       "<Figure size 800x400 with 1 Axes>"
      ]
     },
     "metadata": {},
     "output_type": "display_data"
    }
   ],
   "source": [
    "fig , ax = plt.subplots(figsize=(10,5))\n",
    "ax.bar(df_weekdays.index,df_weekdays['sales_ratio'],color=['gray','#d6cfba','#345e8a','#3a7f87', '#628c46','#873a58','#d9a5b9'])\n",
    "ax.set_title('Per Day Sales To Net Sales Ratio By Days',fontsize=14)\n",
    "ax.tick_params(labelsize=12)\n",
    "ax.set_ylabel('Salet to total sales ratio')\n",
    "plt.style.use('classic')\n",
    "ax.set_ylim(0.10,0.15)\n",
    "plt.show()"
   ]
  },
  {
   "cell_type": "code",
   "execution_count": 88,
   "metadata": {},
   "outputs": [],
   "source": [
    "# Sales to net sales ratio is not varying to much depneding upon day, \n",
    "#although its slighlty higher on wednesday ,Saturday, Thursday"
   ]
  },
  {
   "cell_type": "code",
   "execution_count": 89,
   "metadata": {},
   "outputs": [
    {
     "data": {
      "text/html": [
       "<div>\n",
       "<style scoped>\n",
       "    .dataframe tbody tr th:only-of-type {\n",
       "        vertical-align: middle;\n",
       "    }\n",
       "\n",
       "    .dataframe tbody tr th {\n",
       "        vertical-align: top;\n",
       "    }\n",
       "\n",
       "    .dataframe thead th {\n",
       "        text-align: right;\n",
       "    }\n",
       "</style>\n",
       "<table border=\"1\" class=\"dataframe\">\n",
       "  <thead>\n",
       "    <tr style=\"text-align: right;\">\n",
       "      <th></th>\n",
       "      <th>transaction_id</th>\n",
       "      <th>cust_id</th>\n",
       "      <th>tran_date</th>\n",
       "      <th>prod_sub_cat_code</th>\n",
       "      <th>prod_cat_code</th>\n",
       "      <th>Qty</th>\n",
       "      <th>Rate</th>\n",
       "      <th>Tax</th>\n",
       "      <th>total_amt</th>\n",
       "      <th>Store_type</th>\n",
       "      <th>DOB</th>\n",
       "      <th>Gender</th>\n",
       "      <th>city_code</th>\n",
       "    </tr>\n",
       "  </thead>\n",
       "  <tbody>\n",
       "    <tr>\n",
       "      <th>0</th>\n",
       "      <td>8.071219e+10</td>\n",
       "      <td>270351</td>\n",
       "      <td>28-02-2014</td>\n",
       "      <td>1.0</td>\n",
       "      <td>1.0</td>\n",
       "      <td>-5.0</td>\n",
       "      <td>-772.0</td>\n",
       "      <td>405.300</td>\n",
       "      <td>-4265.300</td>\n",
       "      <td>e-Shop</td>\n",
       "      <td>26-09-1981</td>\n",
       "      <td>M</td>\n",
       "      <td>5.0</td>\n",
       "    </tr>\n",
       "    <tr>\n",
       "      <th>1</th>\n",
       "      <td>8.071219e+10</td>\n",
       "      <td>270351</td>\n",
       "      <td>20-02-2014</td>\n",
       "      <td>1.0</td>\n",
       "      <td>1.0</td>\n",
       "      <td>5.0</td>\n",
       "      <td>772.0</td>\n",
       "      <td>405.300</td>\n",
       "      <td>4265.300</td>\n",
       "      <td>e-Shop</td>\n",
       "      <td>26-09-1981</td>\n",
       "      <td>M</td>\n",
       "      <td>5.0</td>\n",
       "    </tr>\n",
       "    <tr>\n",
       "      <th>2</th>\n",
       "      <td>3.695744e+10</td>\n",
       "      <td>270351</td>\n",
       "      <td>16-09-2013</td>\n",
       "      <td>3.0</td>\n",
       "      <td>2.0</td>\n",
       "      <td>3.0</td>\n",
       "      <td>361.0</td>\n",
       "      <td>113.715</td>\n",
       "      <td>1196.715</td>\n",
       "      <td>Flagship store</td>\n",
       "      <td>26-09-1981</td>\n",
       "      <td>M</td>\n",
       "      <td>5.0</td>\n",
       "    </tr>\n",
       "    <tr>\n",
       "      <th>3</th>\n",
       "      <td>1.223628e+10</td>\n",
       "      <td>270351</td>\n",
       "      <td>18-03-2013</td>\n",
       "      <td>8.0</td>\n",
       "      <td>3.0</td>\n",
       "      <td>3.0</td>\n",
       "      <td>1030.0</td>\n",
       "      <td>324.450</td>\n",
       "      <td>3414.450</td>\n",
       "      <td>e-Shop</td>\n",
       "      <td>26-09-1981</td>\n",
       "      <td>M</td>\n",
       "      <td>5.0</td>\n",
       "    </tr>\n",
       "  </tbody>\n",
       "</table>\n",
       "</div>"
      ],
      "text/plain": [
       "   transaction_id  cust_id   tran_date  prod_sub_cat_code  prod_cat_code  Qty  \\\n",
       "0    8.071219e+10   270351  28-02-2014                1.0            1.0 -5.0   \n",
       "1    8.071219e+10   270351  20-02-2014                1.0            1.0  5.0   \n",
       "2    3.695744e+10   270351  16-09-2013                3.0            2.0  3.0   \n",
       "3    1.223628e+10   270351  18-03-2013                8.0            3.0  3.0   \n",
       "\n",
       "     Rate      Tax  total_amt      Store_type         DOB Gender  city_code  \n",
       "0  -772.0  405.300  -4265.300          e-Shop  26-09-1981      M        5.0  \n",
       "1   772.0  405.300   4265.300          e-Shop  26-09-1981      M        5.0  \n",
       "2   361.0  113.715   1196.715  Flagship store  26-09-1981      M        5.0  \n",
       "3  1030.0  324.450   3414.450          e-Shop  26-09-1981      M        5.0  "
      ]
     },
     "execution_count": 89,
     "metadata": {},
     "output_type": "execute_result"
    }
   ],
   "source": [
    "df_merged_final.head(4)"
   ]
  },
  {
   "cell_type": "code",
   "execution_count": 90,
   "metadata": {},
   "outputs": [
    {
     "data": {
      "text/html": [
       "<div>\n",
       "<style scoped>\n",
       "    .dataframe tbody tr th:only-of-type {\n",
       "        vertical-align: middle;\n",
       "    }\n",
       "\n",
       "    .dataframe tbody tr th {\n",
       "        vertical-align: top;\n",
       "    }\n",
       "\n",
       "    .dataframe thead th {\n",
       "        text-align: right;\n",
       "    }\n",
       "</style>\n",
       "<table border=\"1\" class=\"dataframe\">\n",
       "  <thead>\n",
       "    <tr style=\"text-align: right;\">\n",
       "      <th></th>\n",
       "      <th>transaction_id</th>\n",
       "      <th>cust_id</th>\n",
       "      <th>tran_date</th>\n",
       "      <th>prod_sub_cat_code</th>\n",
       "      <th>prod_cat_code</th>\n",
       "      <th>Qty</th>\n",
       "      <th>Rate</th>\n",
       "      <th>Tax</th>\n",
       "      <th>total_amt</th>\n",
       "      <th>Store_type</th>\n",
       "      <th>prod_subcat</th>\n",
       "      <th>Date_fm</th>\n",
       "      <th>Month</th>\n",
       "      <th>Year</th>\n",
       "      <th>Day</th>\n",
       "      <th>Weekend/Weekday</th>\n",
       "    </tr>\n",
       "  </thead>\n",
       "  <tbody>\n",
       "    <tr>\n",
       "      <th>0</th>\n",
       "      <td>80712190438</td>\n",
       "      <td>270351</td>\n",
       "      <td>28-02-2014</td>\n",
       "      <td>1</td>\n",
       "      <td>1</td>\n",
       "      <td>-5</td>\n",
       "      <td>-772</td>\n",
       "      <td>405.300</td>\n",
       "      <td>-4265.300</td>\n",
       "      <td>e-Shop</td>\n",
       "      <td>Women</td>\n",
       "      <td>2014-02-28</td>\n",
       "      <td>2</td>\n",
       "      <td>2014</td>\n",
       "      <td>Friday</td>\n",
       "      <td>Weekend</td>\n",
       "    </tr>\n",
       "    <tr>\n",
       "      <th>1</th>\n",
       "      <td>80712190438</td>\n",
       "      <td>270351</td>\n",
       "      <td>28-02-2014</td>\n",
       "      <td>1</td>\n",
       "      <td>1</td>\n",
       "      <td>-5</td>\n",
       "      <td>-772</td>\n",
       "      <td>405.300</td>\n",
       "      <td>-4265.300</td>\n",
       "      <td>e-Shop</td>\n",
       "      <td>Mens</td>\n",
       "      <td>2014-02-28</td>\n",
       "      <td>2</td>\n",
       "      <td>2014</td>\n",
       "      <td>Friday</td>\n",
       "      <td>Weekend</td>\n",
       "    </tr>\n",
       "    <tr>\n",
       "      <th>2</th>\n",
       "      <td>80712190438</td>\n",
       "      <td>270351</td>\n",
       "      <td>28-02-2014</td>\n",
       "      <td>1</td>\n",
       "      <td>1</td>\n",
       "      <td>-5</td>\n",
       "      <td>-772</td>\n",
       "      <td>405.300</td>\n",
       "      <td>-4265.300</td>\n",
       "      <td>e-Shop</td>\n",
       "      <td>Mens</td>\n",
       "      <td>2014-02-28</td>\n",
       "      <td>2</td>\n",
       "      <td>2014</td>\n",
       "      <td>Friday</td>\n",
       "      <td>Weekend</td>\n",
       "    </tr>\n",
       "    <tr>\n",
       "      <th>3</th>\n",
       "      <td>17183929085</td>\n",
       "      <td>266863</td>\n",
       "      <td>20-02-2014</td>\n",
       "      <td>1</td>\n",
       "      <td>2</td>\n",
       "      <td>1</td>\n",
       "      <td>1359</td>\n",
       "      <td>142.695</td>\n",
       "      <td>1501.695</td>\n",
       "      <td>TeleShop</td>\n",
       "      <td>Women</td>\n",
       "      <td>2014-02-20</td>\n",
       "      <td>2</td>\n",
       "      <td>2014</td>\n",
       "      <td>Thursday</td>\n",
       "      <td>Weekday</td>\n",
       "    </tr>\n",
       "    <tr>\n",
       "      <th>4</th>\n",
       "      <td>17183929085</td>\n",
       "      <td>266863</td>\n",
       "      <td>20-02-2014</td>\n",
       "      <td>1</td>\n",
       "      <td>2</td>\n",
       "      <td>1</td>\n",
       "      <td>1359</td>\n",
       "      <td>142.695</td>\n",
       "      <td>1501.695</td>\n",
       "      <td>TeleShop</td>\n",
       "      <td>Mens</td>\n",
       "      <td>2014-02-20</td>\n",
       "      <td>2</td>\n",
       "      <td>2014</td>\n",
       "      <td>Thursday</td>\n",
       "      <td>Weekday</td>\n",
       "    </tr>\n",
       "  </tbody>\n",
       "</table>\n",
       "</div>"
      ],
      "text/plain": [
       "   transaction_id  cust_id   tran_date  prod_sub_cat_code  prod_cat_code  Qty  \\\n",
       "0     80712190438   270351  28-02-2014                  1              1   -5   \n",
       "1     80712190438   270351  28-02-2014                  1              1   -5   \n",
       "2     80712190438   270351  28-02-2014                  1              1   -5   \n",
       "3     17183929085   266863  20-02-2014                  1              2    1   \n",
       "4     17183929085   266863  20-02-2014                  1              2    1   \n",
       "\n",
       "   Rate      Tax  total_amt Store_type prod_subcat    Date_fm  Month  Year  \\\n",
       "0  -772  405.300  -4265.300     e-Shop       Women 2014-02-28      2  2014   \n",
       "1  -772  405.300  -4265.300     e-Shop        Mens 2014-02-28      2  2014   \n",
       "2  -772  405.300  -4265.300     e-Shop        Mens 2014-02-28      2  2014   \n",
       "3  1359  142.695   1501.695   TeleShop       Women 2014-02-20      2  2014   \n",
       "4  1359  142.695   1501.695   TeleShop        Mens 2014-02-20      2  2014   \n",
       "\n",
       "        Day Weekend/Weekday  \n",
       "0    Friday         Weekend  \n",
       "1    Friday         Weekend  \n",
       "2    Friday         Weekend  \n",
       "3  Thursday         Weekday  \n",
       "4  Thursday         Weekday  "
      ]
     },
     "execution_count": 90,
     "metadata": {},
     "output_type": "execute_result"
    }
   ],
   "source": [
    "df_merged3.head()"
   ]
  },
  {
   "cell_type": "code",
   "execution_count": 91,
   "metadata": {},
   "outputs": [
    {
     "data": {
      "text/html": [
       "<div>\n",
       "<style scoped>\n",
       "    .dataframe tbody tr th:only-of-type {\n",
       "        vertical-align: middle;\n",
       "    }\n",
       "\n",
       "    .dataframe tbody tr th {\n",
       "        vertical-align: top;\n",
       "    }\n",
       "\n",
       "    .dataframe thead th {\n",
       "        text-align: right;\n",
       "    }\n",
       "</style>\n",
       "<table border=\"1\" class=\"dataframe\">\n",
       "  <thead>\n",
       "    <tr style=\"text-align: right;\">\n",
       "      <th></th>\n",
       "      <th>transaction_id</th>\n",
       "      <th>cust_id</th>\n",
       "      <th>tran_date</th>\n",
       "      <th>prod_sub_cat_code</th>\n",
       "      <th>prod_cat_code</th>\n",
       "      <th>Qty</th>\n",
       "      <th>Rate</th>\n",
       "      <th>Tax</th>\n",
       "      <th>total_amt</th>\n",
       "      <th>Store_type</th>\n",
       "      <th>prod_cat</th>\n",
       "    </tr>\n",
       "  </thead>\n",
       "  <tbody>\n",
       "    <tr>\n",
       "      <th>0</th>\n",
       "      <td>80712190438</td>\n",
       "      <td>270351</td>\n",
       "      <td>28-02-2014</td>\n",
       "      <td>1</td>\n",
       "      <td>1</td>\n",
       "      <td>-5</td>\n",
       "      <td>-772</td>\n",
       "      <td>405.30</td>\n",
       "      <td>-4265.30</td>\n",
       "      <td>e-Shop</td>\n",
       "      <td>Clothing</td>\n",
       "    </tr>\n",
       "    <tr>\n",
       "      <th>1</th>\n",
       "      <td>80712190438</td>\n",
       "      <td>270351</td>\n",
       "      <td>28-02-2014</td>\n",
       "      <td>1</td>\n",
       "      <td>1</td>\n",
       "      <td>-5</td>\n",
       "      <td>-772</td>\n",
       "      <td>405.30</td>\n",
       "      <td>-4265.30</td>\n",
       "      <td>e-Shop</td>\n",
       "      <td>Clothing</td>\n",
       "    </tr>\n",
       "    <tr>\n",
       "      <th>2</th>\n",
       "      <td>80712190438</td>\n",
       "      <td>270351</td>\n",
       "      <td>28-02-2014</td>\n",
       "      <td>1</td>\n",
       "      <td>1</td>\n",
       "      <td>-5</td>\n",
       "      <td>-772</td>\n",
       "      <td>405.30</td>\n",
       "      <td>-4265.30</td>\n",
       "      <td>e-Shop</td>\n",
       "      <td>Clothing</td>\n",
       "    </tr>\n",
       "    <tr>\n",
       "      <th>3</th>\n",
       "      <td>79792372943</td>\n",
       "      <td>275108</td>\n",
       "      <td>22-02-2014</td>\n",
       "      <td>3</td>\n",
       "      <td>1</td>\n",
       "      <td>-3</td>\n",
       "      <td>-908</td>\n",
       "      <td>286.02</td>\n",
       "      <td>-3010.02</td>\n",
       "      <td>MBR</td>\n",
       "      <td>Clothing</td>\n",
       "    </tr>\n",
       "    <tr>\n",
       "      <th>4</th>\n",
       "      <td>79792372943</td>\n",
       "      <td>275108</td>\n",
       "      <td>22-02-2014</td>\n",
       "      <td>3</td>\n",
       "      <td>1</td>\n",
       "      <td>-3</td>\n",
       "      <td>-908</td>\n",
       "      <td>286.02</td>\n",
       "      <td>-3010.02</td>\n",
       "      <td>MBR</td>\n",
       "      <td>Clothing</td>\n",
       "    </tr>\n",
       "  </tbody>\n",
       "</table>\n",
       "</div>"
      ],
      "text/plain": [
       "   transaction_id  cust_id   tran_date  prod_sub_cat_code  prod_cat_code  Qty  \\\n",
       "0     80712190438   270351  28-02-2014                  1              1   -5   \n",
       "1     80712190438   270351  28-02-2014                  1              1   -5   \n",
       "2     80712190438   270351  28-02-2014                  1              1   -5   \n",
       "3     79792372943   275108  22-02-2014                  3              1   -3   \n",
       "4     79792372943   275108  22-02-2014                  3              1   -3   \n",
       "\n",
       "   Rate     Tax  total_amt Store_type  prod_cat  \n",
       "0  -772  405.30   -4265.30     e-Shop  Clothing  \n",
       "1  -772  405.30   -4265.30     e-Shop  Clothing  \n",
       "2  -772  405.30   -4265.30     e-Shop  Clothing  \n",
       "3  -908  286.02   -3010.02        MBR  Clothing  \n",
       "4  -908  286.02   -3010.02        MBR  Clothing  "
      ]
     },
     "execution_count": 91,
     "metadata": {},
     "output_type": "execute_result"
    }
   ],
   "source": [
    "df_merged2.head(5)"
   ]
  },
  {
   "cell_type": "code",
   "execution_count": 92,
   "metadata": {},
   "outputs": [
    {
     "data": {
      "text/html": [
       "<div>\n",
       "<style scoped>\n",
       "    .dataframe tbody tr th:only-of-type {\n",
       "        vertical-align: middle;\n",
       "    }\n",
       "\n",
       "    .dataframe tbody tr th {\n",
       "        vertical-align: top;\n",
       "    }\n",
       "\n",
       "    .dataframe thead th {\n",
       "        text-align: right;\n",
       "    }\n",
       "</style>\n",
       "<table border=\"1\" class=\"dataframe\">\n",
       "  <thead>\n",
       "    <tr style=\"text-align: right;\">\n",
       "      <th></th>\n",
       "      <th>transaction_id</th>\n",
       "      <th>cust_id</th>\n",
       "      <th>tran_date</th>\n",
       "      <th>prod_sub_cat_code</th>\n",
       "      <th>prod_cat_code</th>\n",
       "      <th>Qty</th>\n",
       "      <th>Rate</th>\n",
       "      <th>Tax</th>\n",
       "      <th>total_amt</th>\n",
       "      <th>Store_type</th>\n",
       "      <th>prod_cat</th>\n",
       "    </tr>\n",
       "  </thead>\n",
       "  <tbody>\n",
       "    <tr>\n",
       "      <th>0</th>\n",
       "      <td>80712190438</td>\n",
       "      <td>270351</td>\n",
       "      <td>28-02-2014</td>\n",
       "      <td>1</td>\n",
       "      <td>1</td>\n",
       "      <td>-5</td>\n",
       "      <td>-772</td>\n",
       "      <td>405.30</td>\n",
       "      <td>-4265.30</td>\n",
       "      <td>e-Shop</td>\n",
       "      <td>Clothing</td>\n",
       "    </tr>\n",
       "    <tr>\n",
       "      <th>1</th>\n",
       "      <td>80712190438</td>\n",
       "      <td>270351</td>\n",
       "      <td>28-02-2014</td>\n",
       "      <td>1</td>\n",
       "      <td>1</td>\n",
       "      <td>-5</td>\n",
       "      <td>-772</td>\n",
       "      <td>405.30</td>\n",
       "      <td>-4265.30</td>\n",
       "      <td>e-Shop</td>\n",
       "      <td>Clothing</td>\n",
       "    </tr>\n",
       "    <tr>\n",
       "      <th>2</th>\n",
       "      <td>80712190438</td>\n",
       "      <td>270351</td>\n",
       "      <td>28-02-2014</td>\n",
       "      <td>1</td>\n",
       "      <td>1</td>\n",
       "      <td>-5</td>\n",
       "      <td>-772</td>\n",
       "      <td>405.30</td>\n",
       "      <td>-4265.30</td>\n",
       "      <td>e-Shop</td>\n",
       "      <td>Clothing</td>\n",
       "    </tr>\n",
       "    <tr>\n",
       "      <th>3</th>\n",
       "      <td>79792372943</td>\n",
       "      <td>275108</td>\n",
       "      <td>22-02-2014</td>\n",
       "      <td>3</td>\n",
       "      <td>1</td>\n",
       "      <td>-3</td>\n",
       "      <td>-908</td>\n",
       "      <td>286.02</td>\n",
       "      <td>-3010.02</td>\n",
       "      <td>MBR</td>\n",
       "      <td>Clothing</td>\n",
       "    </tr>\n",
       "    <tr>\n",
       "      <th>4</th>\n",
       "      <td>79792372943</td>\n",
       "      <td>275108</td>\n",
       "      <td>22-02-2014</td>\n",
       "      <td>3</td>\n",
       "      <td>1</td>\n",
       "      <td>-3</td>\n",
       "      <td>-908</td>\n",
       "      <td>286.02</td>\n",
       "      <td>-3010.02</td>\n",
       "      <td>MBR</td>\n",
       "      <td>Clothing</td>\n",
       "    </tr>\n",
       "  </tbody>\n",
       "</table>\n",
       "</div>"
      ],
      "text/plain": [
       "   transaction_id  cust_id   tran_date  prod_sub_cat_code  prod_cat_code  Qty  \\\n",
       "0     80712190438   270351  28-02-2014                  1              1   -5   \n",
       "1     80712190438   270351  28-02-2014                  1              1   -5   \n",
       "2     80712190438   270351  28-02-2014                  1              1   -5   \n",
       "3     79792372943   275108  22-02-2014                  3              1   -3   \n",
       "4     79792372943   275108  22-02-2014                  3              1   -3   \n",
       "\n",
       "   Rate     Tax  total_amt Store_type  prod_cat  \n",
       "0  -772  405.30   -4265.30     e-Shop  Clothing  \n",
       "1  -772  405.30   -4265.30     e-Shop  Clothing  \n",
       "2  -772  405.30   -4265.30     e-Shop  Clothing  \n",
       "3  -908  286.02   -3010.02        MBR  Clothing  \n",
       "4  -908  286.02   -3010.02        MBR  Clothing  "
      ]
     },
     "execution_count": 92,
     "metadata": {},
     "output_type": "execute_result"
    }
   ],
   "source": [
    "df_merged2.head()"
   ]
  },
  {
   "cell_type": "code",
   "execution_count": 93,
   "metadata": {},
   "outputs": [],
   "source": [
    "df_pc_m = df_merged2.groupby('prod_cat').mean()"
   ]
  },
  {
   "cell_type": "code",
   "execution_count": 94,
   "metadata": {},
   "outputs": [],
   "source": [
    "df_pc_m2 = df_merged2.groupby('prod_cat').count()"
   ]
  },
  {
   "cell_type": "code",
   "execution_count": 95,
   "metadata": {},
   "outputs": [
    {
     "data": {
      "text/html": [
       "<div>\n",
       "<style scoped>\n",
       "    .dataframe tbody tr th:only-of-type {\n",
       "        vertical-align: middle;\n",
       "    }\n",
       "\n",
       "    .dataframe tbody tr th {\n",
       "        vertical-align: top;\n",
       "    }\n",
       "\n",
       "    .dataframe thead th {\n",
       "        text-align: right;\n",
       "    }\n",
       "</style>\n",
       "<table border=\"1\" class=\"dataframe\">\n",
       "  <thead>\n",
       "    <tr style=\"text-align: right;\">\n",
       "      <th></th>\n",
       "      <th>transaction_id</th>\n",
       "      <th>cust_id</th>\n",
       "      <th>tran_date</th>\n",
       "      <th>prod_sub_cat_code</th>\n",
       "      <th>prod_cat_code</th>\n",
       "      <th>Qty</th>\n",
       "      <th>Rate</th>\n",
       "      <th>Tax</th>\n",
       "      <th>total_amt</th>\n",
       "      <th>Store_type</th>\n",
       "    </tr>\n",
       "    <tr>\n",
       "      <th>prod_cat</th>\n",
       "      <th></th>\n",
       "      <th></th>\n",
       "      <th></th>\n",
       "      <th></th>\n",
       "      <th></th>\n",
       "      <th></th>\n",
       "      <th></th>\n",
       "      <th></th>\n",
       "      <th></th>\n",
       "      <th></th>\n",
       "    </tr>\n",
       "  </thead>\n",
       "  <tbody>\n",
       "    <tr>\n",
       "      <th>Bags</th>\n",
       "      <td>3996</td>\n",
       "      <td>3996</td>\n",
       "      <td>3996</td>\n",
       "      <td>3996</td>\n",
       "      <td>3996</td>\n",
       "      <td>3996</td>\n",
       "      <td>3996</td>\n",
       "      <td>3996</td>\n",
       "      <td>3996</td>\n",
       "      <td>3996</td>\n",
       "    </tr>\n",
       "    <tr>\n",
       "      <th>Books</th>\n",
       "      <td>36414</td>\n",
       "      <td>36414</td>\n",
       "      <td>36414</td>\n",
       "      <td>36414</td>\n",
       "      <td>36414</td>\n",
       "      <td>36414</td>\n",
       "      <td>36414</td>\n",
       "      <td>36414</td>\n",
       "      <td>36414</td>\n",
       "      <td>36414</td>\n",
       "    </tr>\n",
       "    <tr>\n",
       "      <th>Clothing</th>\n",
       "      <td>8880</td>\n",
       "      <td>8880</td>\n",
       "      <td>8880</td>\n",
       "      <td>8880</td>\n",
       "      <td>8880</td>\n",
       "      <td>8880</td>\n",
       "      <td>8880</td>\n",
       "      <td>8880</td>\n",
       "      <td>8880</td>\n",
       "      <td>8880</td>\n",
       "    </tr>\n",
       "    <tr>\n",
       "      <th>Electronics</th>\n",
       "      <td>24490</td>\n",
       "      <td>24490</td>\n",
       "      <td>24490</td>\n",
       "      <td>24490</td>\n",
       "      <td>24490</td>\n",
       "      <td>24490</td>\n",
       "      <td>24490</td>\n",
       "      <td>24490</td>\n",
       "      <td>24490</td>\n",
       "      <td>24490</td>\n",
       "    </tr>\n",
       "    <tr>\n",
       "      <th>Footwear</th>\n",
       "      <td>8997</td>\n",
       "      <td>8997</td>\n",
       "      <td>8997</td>\n",
       "      <td>8997</td>\n",
       "      <td>8997</td>\n",
       "      <td>8997</td>\n",
       "      <td>8997</td>\n",
       "      <td>8997</td>\n",
       "      <td>8997</td>\n",
       "      <td>8997</td>\n",
       "    </tr>\n",
       "    <tr>\n",
       "      <th>Home and kitchen</th>\n",
       "      <td>16516</td>\n",
       "      <td>16516</td>\n",
       "      <td>16516</td>\n",
       "      <td>16516</td>\n",
       "      <td>16516</td>\n",
       "      <td>16516</td>\n",
       "      <td>16516</td>\n",
       "      <td>16516</td>\n",
       "      <td>16516</td>\n",
       "      <td>16516</td>\n",
       "    </tr>\n",
       "  </tbody>\n",
       "</table>\n",
       "</div>"
      ],
      "text/plain": [
       "                  transaction_id  cust_id  tran_date  prod_sub_cat_code  \\\n",
       "prod_cat                                                                  \n",
       "Bags                        3996     3996       3996               3996   \n",
       "Books                      36414    36414      36414              36414   \n",
       "Clothing                    8880     8880       8880               8880   \n",
       "Electronics                24490    24490      24490              24490   \n",
       "Footwear                    8997     8997       8997               8997   \n",
       "Home and kitchen           16516    16516      16516              16516   \n",
       "\n",
       "                  prod_cat_code    Qty   Rate    Tax  total_amt  Store_type  \n",
       "prod_cat                                                                     \n",
       "Bags                       3996   3996   3996   3996       3996        3996  \n",
       "Books                     36414  36414  36414  36414      36414       36414  \n",
       "Clothing                   8880   8880   8880   8880       8880        8880  \n",
       "Electronics               24490  24490  24490  24490      24490       24490  \n",
       "Footwear                   8997   8997   8997   8997       8997        8997  \n",
       "Home and kitchen          16516  16516  16516  16516      16516       16516  "
      ]
     },
     "execution_count": 95,
     "metadata": {},
     "output_type": "execute_result"
    }
   ],
   "source": [
    "df_pc_m2"
   ]
  },
  {
   "cell_type": "code",
   "execution_count": 96,
   "metadata": {},
   "outputs": [
    {
     "data": {
      "text/html": [
       "<div>\n",
       "<style scoped>\n",
       "    .dataframe tbody tr th:only-of-type {\n",
       "        vertical-align: middle;\n",
       "    }\n",
       "\n",
       "    .dataframe tbody tr th {\n",
       "        vertical-align: top;\n",
       "    }\n",
       "\n",
       "    .dataframe thead th {\n",
       "        text-align: right;\n",
       "    }\n",
       "</style>\n",
       "<table border=\"1\" class=\"dataframe\">\n",
       "  <thead>\n",
       "    <tr style=\"text-align: right;\">\n",
       "      <th></th>\n",
       "      <th>transaction_id</th>\n",
       "      <th>cust_id</th>\n",
       "      <th>prod_sub_cat_code</th>\n",
       "      <th>prod_cat_code</th>\n",
       "      <th>Qty</th>\n",
       "      <th>Rate</th>\n",
       "      <th>Tax</th>\n",
       "      <th>total_amt</th>\n",
       "    </tr>\n",
       "    <tr>\n",
       "      <th>prod_cat</th>\n",
       "      <th></th>\n",
       "      <th></th>\n",
       "      <th></th>\n",
       "      <th></th>\n",
       "      <th></th>\n",
       "      <th></th>\n",
       "      <th></th>\n",
       "      <th></th>\n",
       "    </tr>\n",
       "  </thead>\n",
       "  <tbody>\n",
       "    <tr>\n",
       "      <th>Bags</th>\n",
       "      <td>4.978819e+10</td>\n",
       "      <td>270882.603604</td>\n",
       "      <td>2.493994</td>\n",
       "      <td>4.0</td>\n",
       "      <td>2.356356</td>\n",
       "      <td>626.835335</td>\n",
       "      <td>249.320345</td>\n",
       "      <td>2064.418739</td>\n",
       "    </tr>\n",
       "    <tr>\n",
       "      <th>Books</th>\n",
       "      <td>5.004895e+10</td>\n",
       "      <td>271038.833086</td>\n",
       "      <td>8.132641</td>\n",
       "      <td>5.0</td>\n",
       "      <td>2.417037</td>\n",
       "      <td>637.731916</td>\n",
       "      <td>249.681522</td>\n",
       "      <td>2112.818263</td>\n",
       "    </tr>\n",
       "    <tr>\n",
       "      <th>Clothing</th>\n",
       "      <td>5.015587e+10</td>\n",
       "      <td>271045.365878</td>\n",
       "      <td>2.647635</td>\n",
       "      <td>1.0</td>\n",
       "      <td>2.423649</td>\n",
       "      <td>635.129392</td>\n",
       "      <td>253.538889</td>\n",
       "      <td>2111.870774</td>\n",
       "    </tr>\n",
       "    <tr>\n",
       "      <th>Electronics</th>\n",
       "      <td>5.015469e+10</td>\n",
       "      <td>271047.731931</td>\n",
       "      <td>7.161086</td>\n",
       "      <td>3.0</td>\n",
       "      <td>2.512862</td>\n",
       "      <td>652.110249</td>\n",
       "      <td>251.514852</td>\n",
       "      <td>2189.151416</td>\n",
       "    </tr>\n",
       "    <tr>\n",
       "      <th>Footwear</th>\n",
       "      <td>5.041503e+10</td>\n",
       "      <td>271021.814605</td>\n",
       "      <td>2.708236</td>\n",
       "      <td>2.0</td>\n",
       "      <td>2.425475</td>\n",
       "      <td>630.194732</td>\n",
       "      <td>244.906320</td>\n",
       "      <td>2073.949408</td>\n",
       "    </tr>\n",
       "    <tr>\n",
       "      <th>Home and kitchen</th>\n",
       "      <td>4.984410e+10</td>\n",
       "      <td>271016.155486</td>\n",
       "      <td>8.811092</td>\n",
       "      <td>6.0</td>\n",
       "      <td>2.407605</td>\n",
       "      <td>625.683216</td>\n",
       "      <td>242.721397</td>\n",
       "      <td>2043.834655</td>\n",
       "    </tr>\n",
       "  </tbody>\n",
       "</table>\n",
       "</div>"
      ],
      "text/plain": [
       "                  transaction_id        cust_id  prod_sub_cat_code  \\\n",
       "prod_cat                                                             \n",
       "Bags                4.978819e+10  270882.603604           2.493994   \n",
       "Books               5.004895e+10  271038.833086           8.132641   \n",
       "Clothing            5.015587e+10  271045.365878           2.647635   \n",
       "Electronics         5.015469e+10  271047.731931           7.161086   \n",
       "Footwear            5.041503e+10  271021.814605           2.708236   \n",
       "Home and kitchen    4.984410e+10  271016.155486           8.811092   \n",
       "\n",
       "                  prod_cat_code       Qty        Rate         Tax    total_amt  \n",
       "prod_cat                                                                        \n",
       "Bags                        4.0  2.356356  626.835335  249.320345  2064.418739  \n",
       "Books                       5.0  2.417037  637.731916  249.681522  2112.818263  \n",
       "Clothing                    1.0  2.423649  635.129392  253.538889  2111.870774  \n",
       "Electronics                 3.0  2.512862  652.110249  251.514852  2189.151416  \n",
       "Footwear                    2.0  2.425475  630.194732  244.906320  2073.949408  \n",
       "Home and kitchen            6.0  2.407605  625.683216  242.721397  2043.834655  "
      ]
     },
     "execution_count": 96,
     "metadata": {},
     "output_type": "execute_result"
    }
   ],
   "source": [
    "df_pc_m"
   ]
  },
  {
   "cell_type": "code",
   "execution_count": null,
   "metadata": {},
   "outputs": [],
   "source": []
  },
  {
   "cell_type": "code",
   "execution_count": 97,
   "metadata": {},
   "outputs": [],
   "source": [
    "df_pc_m3 = df_merged2.groupby('prod_cat').sum()"
   ]
  },
  {
   "cell_type": "code",
   "execution_count": 98,
   "metadata": {},
   "outputs": [
    {
     "data": {
      "text/html": [
       "<div>\n",
       "<style scoped>\n",
       "    .dataframe tbody tr th:only-of-type {\n",
       "        vertical-align: middle;\n",
       "    }\n",
       "\n",
       "    .dataframe tbody tr th {\n",
       "        vertical-align: top;\n",
       "    }\n",
       "\n",
       "    .dataframe thead th {\n",
       "        text-align: right;\n",
       "    }\n",
       "</style>\n",
       "<table border=\"1\" class=\"dataframe\">\n",
       "  <thead>\n",
       "    <tr style=\"text-align: right;\">\n",
       "      <th></th>\n",
       "      <th>transaction_id</th>\n",
       "      <th>cust_id</th>\n",
       "      <th>prod_sub_cat_code</th>\n",
       "      <th>prod_cat_code</th>\n",
       "      <th>Qty</th>\n",
       "      <th>Rate</th>\n",
       "      <th>Tax</th>\n",
       "      <th>total_amt</th>\n",
       "    </tr>\n",
       "    <tr>\n",
       "      <th>prod_cat</th>\n",
       "      <th></th>\n",
       "      <th></th>\n",
       "      <th></th>\n",
       "      <th></th>\n",
       "      <th></th>\n",
       "      <th></th>\n",
       "      <th></th>\n",
       "      <th></th>\n",
       "    </tr>\n",
       "  </thead>\n",
       "  <tbody>\n",
       "    <tr>\n",
       "      <th>Bags</th>\n",
       "      <td>198953609834268</td>\n",
       "      <td>1082446884</td>\n",
       "      <td>9966</td>\n",
       "      <td>15984</td>\n",
       "      <td>9416</td>\n",
       "      <td>2504834</td>\n",
       "      <td>996284.100</td>\n",
       "      <td>8.249417e+06</td>\n",
       "    </tr>\n",
       "    <tr>\n",
       "      <th>Books</th>\n",
       "      <td>1822482551293728</td>\n",
       "      <td>9869608068</td>\n",
       "      <td>296142</td>\n",
       "      <td>182070</td>\n",
       "      <td>88014</td>\n",
       "      <td>23222370</td>\n",
       "      <td>9091902.960</td>\n",
       "      <td>7.693616e+07</td>\n",
       "    </tr>\n",
       "    <tr>\n",
       "      <th>Clothing</th>\n",
       "      <td>445384164469101</td>\n",
       "      <td>2406882849</td>\n",
       "      <td>23511</td>\n",
       "      <td>8880</td>\n",
       "      <td>21522</td>\n",
       "      <td>5639949</td>\n",
       "      <td>2251425.330</td>\n",
       "      <td>1.875341e+07</td>\n",
       "    </tr>\n",
       "    <tr>\n",
       "      <th>Electronics</th>\n",
       "      <td>1228288454399785</td>\n",
       "      <td>6637958955</td>\n",
       "      <td>175375</td>\n",
       "      <td>73470</td>\n",
       "      <td>61540</td>\n",
       "      <td>15970180</td>\n",
       "      <td>6159598.725</td>\n",
       "      <td>5.361232e+07</td>\n",
       "    </tr>\n",
       "    <tr>\n",
       "      <th>Footwear</th>\n",
       "      <td>453584057133042</td>\n",
       "      <td>2438383266</td>\n",
       "      <td>24366</td>\n",
       "      <td>17994</td>\n",
       "      <td>21822</td>\n",
       "      <td>5669862</td>\n",
       "      <td>2203422.165</td>\n",
       "      <td>1.865932e+07</td>\n",
       "    </tr>\n",
       "    <tr>\n",
       "      <th>Home and kitchen</th>\n",
       "      <td>823225124626396</td>\n",
       "      <td>4476102824</td>\n",
       "      <td>145524</td>\n",
       "      <td>99096</td>\n",
       "      <td>39764</td>\n",
       "      <td>10333784</td>\n",
       "      <td>4008786.600</td>\n",
       "      <td>3.375597e+07</td>\n",
       "    </tr>\n",
       "  </tbody>\n",
       "</table>\n",
       "</div>"
      ],
      "text/plain": [
       "                    transaction_id     cust_id  prod_sub_cat_code  \\\n",
       "prod_cat                                                            \n",
       "Bags               198953609834268  1082446884               9966   \n",
       "Books             1822482551293728  9869608068             296142   \n",
       "Clothing           445384164469101  2406882849              23511   \n",
       "Electronics       1228288454399785  6637958955             175375   \n",
       "Footwear           453584057133042  2438383266              24366   \n",
       "Home and kitchen   823225124626396  4476102824             145524   \n",
       "\n",
       "                  prod_cat_code    Qty      Rate          Tax     total_amt  \n",
       "prod_cat                                                                     \n",
       "Bags                      15984   9416   2504834   996284.100  8.249417e+06  \n",
       "Books                    182070  88014  23222370  9091902.960  7.693616e+07  \n",
       "Clothing                   8880  21522   5639949  2251425.330  1.875341e+07  \n",
       "Electronics               73470  61540  15970180  6159598.725  5.361232e+07  \n",
       "Footwear                  17994  21822   5669862  2203422.165  1.865932e+07  \n",
       "Home and kitchen          99096  39764  10333784  4008786.600  3.375597e+07  "
      ]
     },
     "execution_count": 98,
     "metadata": {},
     "output_type": "execute_result"
    }
   ],
   "source": [
    "df_pc_m3"
   ]
  },
  {
   "cell_type": "code",
   "execution_count": 99,
   "metadata": {},
   "outputs": [],
   "source": [
    "x_s_m = df_pc_m3['total_amt']/1000000"
   ]
  },
  {
   "cell_type": "code",
   "execution_count": 100,
   "metadata": {},
   "outputs": [
    {
     "data": {
      "text/plain": [
       "prod_cat\n",
       "Bags                 8.249417\n",
       "Books               76.936164\n",
       "Clothing            18.753412\n",
       "Electronics         53.612318\n",
       "Footwear            18.659323\n",
       "Home and kitchen    33.755973\n",
       "Name: total_amt, dtype: float64"
      ]
     },
     "execution_count": 100,
     "metadata": {},
     "output_type": "execute_result"
    }
   ],
   "source": [
    "# sales in millions\n",
    "x_s_m"
   ]
  },
  {
   "cell_type": "code",
   "execution_count": 101,
   "metadata": {},
   "outputs": [
    {
     "data": {
      "image/png": "[encoded data removed]",
      "text/plain": [
       "<Figure size 800x400 with 2 Axes>"
      ]
     },
     "metadata": {},
     "output_type": "display_data"
    }
   ],
   "source": [
    "fig ,ax1 = plt.subplots(figsize=(10,5))\n",
    "ax2 = ax1.twinx()\n",
    "ax1.bar(df_pc_m2.index,df_pc_m2['transaction_id'],\n",
    "       color=['gray','#d6cfba','#345e8a','#3a7f87', '#628c46','#873a58','#d9a5b9'],alpha=1)\n",
    "ax2.plot(x_s_m.index,x_s_m,color ='#628c46',label ='Total Sales')\n",
    "ax1.set_ylim(1,40000)\n",
    "ax2.set_ylim(0,100)\n",
    "plt.style.use('classic')\n",
    "ax1.set_title('Total Sales(millions) & Transactions Count by Product Category')\n",
    "ax2.legend(markerscale=2)\n",
    "ax1.set_ylabel('Total Transactions')\n",
    "ax2.set_ylabel('Tota Sales in Millions')\n",
    "plt.xlabel('Product Category')\n",
    "plt.show()"
   ]
  },
  {
   "cell_type": "code",
   "execution_count": null,
   "metadata": {},
   "outputs": [],
   "source": []
  },
  {
   "cell_type": "code",
   "execution_count": 102,
   "metadata": {},
   "outputs": [],
   "source": [
    "df_pc =df_merged3.groupby('prod_subcat').count()"
   ]
  },
  {
   "cell_type": "code",
   "execution_count": 103,
   "metadata": {},
   "outputs": [],
   "source": [
    "plt_df =df_pc.loc[df_pc.index,'transaction_id',]"
   ]
  },
  {
   "cell_type": "code",
   "execution_count": 104,
   "metadata": {},
   "outputs": [],
   "source": [
    "nl_pro = plt_df.nlargest(10)"
   ]
  },
  {
   "cell_type": "code",
   "execution_count": 105,
   "metadata": {},
   "outputs": [
    {
     "data": {
      "text/plain": [
       "prod_subcat\n",
       "Academic                2029\n",
       "Audio and video         2993\n",
       "Bath                    2058\n",
       "Cameras                  985\n",
       "Children                2058\n",
       "Comics                  3067\n",
       "Computers                958\n",
       "DIY                      989\n",
       "Fiction                 1043\n",
       "Furnishing              1007\n",
       "Kids                    7069\n",
       "Kitchen                 2993\n",
       "Mens                    9902\n",
       "Mobiles                 4002\n",
       "Non-Fiction             2993\n",
       "Personal Appliances      972\n",
       "Tools                   2029\n",
       "Women                  10019\n",
       "Name: transaction_id, dtype: int64"
      ]
     },
     "execution_count": 105,
     "metadata": {},
     "output_type": "execute_result"
    }
   ],
   "source": [
    "plt_df"
   ]
  },
  {
   "cell_type": "code",
   "execution_count": 106,
   "metadata": {},
   "outputs": [
    {
     "data": {
      "text/plain": [
       "prod_subcat\n",
       "Women              10019\n",
       "Mens                9902\n",
       "Kids                7069\n",
       "Mobiles             4002\n",
       "Comics              3067\n",
       "Audio and video     2993\n",
       "Kitchen             2993\n",
       "Non-Fiction         2993\n",
       "Bath                2058\n",
       "Children            2058\n",
       "Name: transaction_id, dtype: int64"
      ]
     },
     "execution_count": 106,
     "metadata": {},
     "output_type": "execute_result"
    }
   ],
   "source": [
    "nl_pro"
   ]
  },
  {
   "cell_type": "code",
   "execution_count": 107,
   "metadata": {},
   "outputs": [
    {
     "data": {
      "text/html": [
       "<div>\n",
       "<style scoped>\n",
       "    .dataframe tbody tr th:only-of-type {\n",
       "        vertical-align: middle;\n",
       "    }\n",
       "\n",
       "    .dataframe tbody tr th {\n",
       "        vertical-align: top;\n",
       "    }\n",
       "\n",
       "    .dataframe thead th {\n",
       "        text-align: right;\n",
       "    }\n",
       "</style>\n",
       "<table border=\"1\" class=\"dataframe\">\n",
       "  <thead>\n",
       "    <tr style=\"text-align: right;\">\n",
       "      <th></th>\n",
       "      <th>transaction_id</th>\n",
       "      <th>cust_id</th>\n",
       "      <th>tran_date</th>\n",
       "      <th>prod_sub_cat_code</th>\n",
       "      <th>prod_cat_code</th>\n",
       "      <th>Qty</th>\n",
       "      <th>Rate</th>\n",
       "      <th>Tax</th>\n",
       "      <th>total_amt</th>\n",
       "      <th>Store_type</th>\n",
       "      <th>prod_subcat</th>\n",
       "      <th>Date_fm</th>\n",
       "      <th>Month</th>\n",
       "      <th>Year</th>\n",
       "      <th>Day</th>\n",
       "      <th>Weekend/Weekday</th>\n",
       "    </tr>\n",
       "  </thead>\n",
       "  <tbody>\n",
       "    <tr>\n",
       "      <th>0</th>\n",
       "      <td>80712190438</td>\n",
       "      <td>270351</td>\n",
       "      <td>28-02-2014</td>\n",
       "      <td>1</td>\n",
       "      <td>1</td>\n",
       "      <td>-5</td>\n",
       "      <td>-772</td>\n",
       "      <td>405.300</td>\n",
       "      <td>-4265.300</td>\n",
       "      <td>e-Shop</td>\n",
       "      <td>Women</td>\n",
       "      <td>2014-02-28</td>\n",
       "      <td>2</td>\n",
       "      <td>2014</td>\n",
       "      <td>Friday</td>\n",
       "      <td>Weekend</td>\n",
       "    </tr>\n",
       "    <tr>\n",
       "      <th>1</th>\n",
       "      <td>80712190438</td>\n",
       "      <td>270351</td>\n",
       "      <td>28-02-2014</td>\n",
       "      <td>1</td>\n",
       "      <td>1</td>\n",
       "      <td>-5</td>\n",
       "      <td>-772</td>\n",
       "      <td>405.300</td>\n",
       "      <td>-4265.300</td>\n",
       "      <td>e-Shop</td>\n",
       "      <td>Mens</td>\n",
       "      <td>2014-02-28</td>\n",
       "      <td>2</td>\n",
       "      <td>2014</td>\n",
       "      <td>Friday</td>\n",
       "      <td>Weekend</td>\n",
       "    </tr>\n",
       "    <tr>\n",
       "      <th>2</th>\n",
       "      <td>80712190438</td>\n",
       "      <td>270351</td>\n",
       "      <td>28-02-2014</td>\n",
       "      <td>1</td>\n",
       "      <td>1</td>\n",
       "      <td>-5</td>\n",
       "      <td>-772</td>\n",
       "      <td>405.300</td>\n",
       "      <td>-4265.300</td>\n",
       "      <td>e-Shop</td>\n",
       "      <td>Mens</td>\n",
       "      <td>2014-02-28</td>\n",
       "      <td>2</td>\n",
       "      <td>2014</td>\n",
       "      <td>Friday</td>\n",
       "      <td>Weekend</td>\n",
       "    </tr>\n",
       "    <tr>\n",
       "      <th>3</th>\n",
       "      <td>17183929085</td>\n",
       "      <td>266863</td>\n",
       "      <td>20-02-2014</td>\n",
       "      <td>1</td>\n",
       "      <td>2</td>\n",
       "      <td>1</td>\n",
       "      <td>1359</td>\n",
       "      <td>142.695</td>\n",
       "      <td>1501.695</td>\n",
       "      <td>TeleShop</td>\n",
       "      <td>Women</td>\n",
       "      <td>2014-02-20</td>\n",
       "      <td>2</td>\n",
       "      <td>2014</td>\n",
       "      <td>Thursday</td>\n",
       "      <td>Weekday</td>\n",
       "    </tr>\n",
       "    <tr>\n",
       "      <th>4</th>\n",
       "      <td>17183929085</td>\n",
       "      <td>266863</td>\n",
       "      <td>20-02-2014</td>\n",
       "      <td>1</td>\n",
       "      <td>2</td>\n",
       "      <td>1</td>\n",
       "      <td>1359</td>\n",
       "      <td>142.695</td>\n",
       "      <td>1501.695</td>\n",
       "      <td>TeleShop</td>\n",
       "      <td>Mens</td>\n",
       "      <td>2014-02-20</td>\n",
       "      <td>2</td>\n",
       "      <td>2014</td>\n",
       "      <td>Thursday</td>\n",
       "      <td>Weekday</td>\n",
       "    </tr>\n",
       "  </tbody>\n",
       "</table>\n",
       "</div>"
      ],
      "text/plain": [
       "   transaction_id  cust_id   tran_date  prod_sub_cat_code  prod_cat_code  Qty  \\\n",
       "0     80712190438   270351  28-02-2014                  1              1   -5   \n",
       "1     80712190438   270351  28-02-2014                  1              1   -5   \n",
       "2     80712190438   270351  28-02-2014                  1              1   -5   \n",
       "3     17183929085   266863  20-02-2014                  1              2    1   \n",
       "4     17183929085   266863  20-02-2014                  1              2    1   \n",
       "\n",
       "   Rate      Tax  total_amt Store_type prod_subcat    Date_fm  Month  Year  \\\n",
       "0  -772  405.300  -4265.300     e-Shop       Women 2014-02-28      2  2014   \n",
       "1  -772  405.300  -4265.300     e-Shop        Mens 2014-02-28      2  2014   \n",
       "2  -772  405.300  -4265.300     e-Shop        Mens 2014-02-28      2  2014   \n",
       "3  1359  142.695   1501.695   TeleShop       Women 2014-02-20      2  2014   \n",
       "4  1359  142.695   1501.695   TeleShop        Mens 2014-02-20      2  2014   \n",
       "\n",
       "        Day Weekend/Weekday  \n",
       "0    Friday         Weekend  \n",
       "1    Friday         Weekend  \n",
       "2    Friday         Weekend  \n",
       "3  Thursday         Weekday  \n",
       "4  Thursday         Weekday  "
      ]
     },
     "execution_count": 107,
     "metadata": {},
     "output_type": "execute_result"
    }
   ],
   "source": [
    "############################################\n",
    "df_merged3.head()"
   ]
  },
  {
   "cell_type": "code",
   "execution_count": 108,
   "metadata": {},
   "outputs": [
    {
     "data": {
      "text/plain": [
       "Women                  10019\n",
       "Mens                    9902\n",
       "Kids                    7069\n",
       "Mobiles                 4002\n",
       "Comics                  3067\n",
       "Non-Fiction             2993\n",
       "Kitchen                 2993\n",
       "Audio and video         2993\n",
       "Bath                    2058\n",
       "Children                2058\n",
       "Academic                2029\n",
       "Tools                   2029\n",
       "Fiction                 1043\n",
       "Furnishing              1007\n",
       "DIY                      989\n",
       "Cameras                  985\n",
       "Personal Appliances      972\n",
       "Computers                958\n",
       "Name: prod_subcat, dtype: int64"
      ]
     },
     "execution_count": 108,
     "metadata": {},
     "output_type": "execute_result"
    }
   ],
   "source": [
    "df_merged3['prod_subcat'].value_counts()"
   ]
  },
  {
   "cell_type": "code",
   "execution_count": 109,
   "metadata": {},
   "outputs": [
    {
     "data": {
      "image/png": "[encoded data removed]",
      "text/plain": [
       "<Figure size 1120x320 with 1 Axes>"
      ]
     },
     "metadata": {},
     "output_type": "display_data"
    }
   ],
   "source": [
    "xbar = nl_pro.index\n",
    "ybar =nl_pro.values\n",
    "fig, ax = plt.subplots(figsize=(14,4))\n",
    "plt.style.use('classic')\n",
    "plt.title('Transactions Count by Total Category')\n",
    "plt.xlabel('Total Transaction')\n",
    "ax.bar(xbar,ybar,color='#9bd1ba')\n",
    "\n",
    "plt.show()\n"
   ]
  },
  {
   "cell_type": "code",
   "execution_count": 110,
   "metadata": {},
   "outputs": [
    {
     "data": {
      "text/plain": [
       "prod_subcat\n",
       "Academic                2029\n",
       "Audio and video         2993\n",
       "Bath                    2058\n",
       "Cameras                  985\n",
       "Children                2058\n",
       "Comics                  3067\n",
       "Computers                958\n",
       "DIY                      989\n",
       "Fiction                 1043\n",
       "Furnishing              1007\n",
       "Kids                    7069\n",
       "Kitchen                 2993\n",
       "Mens                    9902\n",
       "Mobiles                 4002\n",
       "Non-Fiction             2993\n",
       "Personal Appliances      972\n",
       "Tools                   2029\n",
       "Women                  10019\n",
       "Name: transaction_id, dtype: int64"
      ]
     },
     "execution_count": 110,
     "metadata": {},
     "output_type": "execute_result"
    }
   ],
   "source": [
    "plt_df"
   ]
  },
  {
   "cell_type": "code",
   "execution_count": null,
   "metadata": {},
   "outputs": [],
   "source": []
  },
  {
   "cell_type": "code",
   "execution_count": 111,
   "metadata": {},
   "outputs": [],
   "source": [
    "x_plot = x_y.value_counts(sort=True)"
   ]
  },
  {
   "cell_type": "code",
   "execution_count": 112,
   "metadata": {},
   "outputs": [],
   "source": [
    "x_mdf = pd.DataFrame(x_m)"
   ]
  },
  {
   "cell_type": "code",
   "execution_count": 113,
   "metadata": {},
   "outputs": [
    {
     "data": {
      "text/plain": [
       "transaction_id                int64\n",
       "cust_id                       int64\n",
       "tran_date                    object\n",
       "prod_sub_cat_code             int64\n",
       "prod_cat_code                 int64\n",
       "Qty                           int64\n",
       "Rate                          int64\n",
       "Tax                         float64\n",
       "total_amt                   float64\n",
       "Store_type                   object\n",
       "prod_subcat                  object\n",
       "Date_fm              datetime64[ns]\n",
       "Month                         int64\n",
       "Year                          int64\n",
       "Day                          object\n",
       "Weekend/Weekday              object\n",
       "dtype: object"
      ]
     },
     "execution_count": 113,
     "metadata": {},
     "output_type": "execute_result"
    }
   ],
   "source": [
    "df_merged3.dtypes"
   ]
  },
  {
   "cell_type": "code",
   "execution_count": 114,
   "metadata": {},
   "outputs": [
    {
     "data": {
      "image/png": "[encoded data removed]",
      "text/plain": [
       "<Figure size 480x400 with 1 Axes>"
      ]
     },
     "metadata": {},
     "output_type": "display_data"
    }
   ],
   "source": [
    "fig, ax = plt.subplots(figsize=(6,5))\n",
    "ax =sns.countplot(df_merged3['Store_type'],palette='gist_heat_r')\n",
    "ax.set_title('Sales Counts by Store type')\n",
    "ax.set_ylabel('Sales Count')\n",
    "ax.set_xlabel('')\n",
    "plt.show()"
   ]
  },
  {
   "cell_type": "code",
   "execution_count": 115,
   "metadata": {},
   "outputs": [],
   "source": [
    "# we can compare what type of store provide more sales, and and which of them have lowest sale."
   ]
  },
  {
   "cell_type": "code",
   "execution_count": 116,
   "metadata": {},
   "outputs": [],
   "source": [
    "#checking whcih of the transactions are negative, negative signifies resturn this\n",
    "#feature can help us understand what type of products are being reurned\n",
    "list_qty = df_merged3['Qty']\n",
    "return_or_sale =[]\n",
    "for i in list_qty:\n",
    "    if i< 0:\n",
    "        return_or_sale.append('Return')\n",
    "    else:\n",
    "        return_or_sale.append('Sale')"
   ]
  },
  {
   "cell_type": "code",
   "execution_count": 117,
   "metadata": {},
   "outputs": [],
   "source": [
    "df_merged3['Return/Sale']=return_or_sale"
   ]
  },
  {
   "cell_type": "code",
   "execution_count": 118,
   "metadata": {},
   "outputs": [],
   "source": [
    "df_sale_trs = df_merged3[df_merged3['Return/Sale']=='Sale']"
   ]
  },
  {
   "cell_type": "code",
   "execution_count": 119,
   "metadata": {},
   "outputs": [],
   "source": [
    "df_return_trs = df_merged3[df_merged3['Return/Sale']=='Return']"
   ]
  },
  {
   "cell_type": "code",
   "execution_count": 120,
   "metadata": {},
   "outputs": [],
   "source": [
    "ls_ret=df_return_trs['prod_subcat'].value_counts()"
   ]
  },
  {
   "cell_type": "code",
   "execution_count": 121,
   "metadata": {},
   "outputs": [],
   "source": [
    "ls_sale = df_sale_trs['prod_subcat'].value_counts()"
   ]
  },
  {
   "cell_type": "code",
   "execution_count": 122,
   "metadata": {},
   "outputs": [],
   "source": [
    "#df_return_trs = df_merged3[df_merged3['Return/Sale']=='Return']"
   ]
  },
  {
   "cell_type": "code",
   "execution_count": 123,
   "metadata": {},
   "outputs": [
    {
     "name": "stdout",
     "output_type": "stream",
     "text": [
      "Mens                   973\n",
      "Women                  971\n",
      "Kids                   674\n",
      "Mobiles                379\n",
      "Comics                 295\n",
      "Non-Fiction            268\n",
      "Kitchen                268\n",
      "Audio and video        268\n",
      "Children               201\n",
      "Bath                   201\n",
      "Tools                  195\n",
      "Academic               195\n",
      "Fiction                103\n",
      "Furnishing             101\n",
      "Cameras                 87\n",
      "Personal Appliances     85\n",
      "DIY                     84\n",
      "Computers               82\n",
      "Name: prod_subcat, dtype: int64\n",
      "Women                  9048\n",
      "Mens                   8929\n",
      "Kids                   6395\n",
      "Mobiles                3623\n",
      "Comics                 2772\n",
      "Non-Fiction            2725\n",
      "Kitchen                2725\n",
      "Audio and video        2725\n",
      "Bath                   1857\n",
      "Children               1857\n",
      "Academic               1834\n",
      "Tools                  1834\n",
      "Fiction                 940\n",
      "Furnishing              906\n",
      "DIY                     905\n",
      "Cameras                 898\n",
      "Personal Appliances     887\n",
      "Computers               876\n",
      "Name: prod_subcat, dtype: int64\n"
     ]
    }
   ],
   "source": [
    "print(ls_ret)\n",
    "print(ls_sale)"
   ]
  },
  {
   "cell_type": "code",
   "execution_count": 124,
   "metadata": {},
   "outputs": [
    {
     "data": {
      "text/html": [
       "<div>\n",
       "<style scoped>\n",
       "    .dataframe tbody tr th:only-of-type {\n",
       "        vertical-align: middle;\n",
       "    }\n",
       "\n",
       "    .dataframe tbody tr th {\n",
       "        vertical-align: top;\n",
       "    }\n",
       "\n",
       "    .dataframe thead th {\n",
       "        text-align: right;\n",
       "    }\n",
       "</style>\n",
       "<table border=\"1\" class=\"dataframe\">\n",
       "  <thead>\n",
       "    <tr style=\"text-align: right;\">\n",
       "      <th></th>\n",
       "      <th>transaction_id</th>\n",
       "      <th>cust_id</th>\n",
       "      <th>tran_date</th>\n",
       "      <th>prod_sub_cat_code</th>\n",
       "      <th>prod_cat_code</th>\n",
       "      <th>Qty</th>\n",
       "      <th>Rate</th>\n",
       "      <th>Tax</th>\n",
       "      <th>total_amt</th>\n",
       "      <th>Store_type</th>\n",
       "      <th>prod_subcat</th>\n",
       "      <th>Date_fm</th>\n",
       "      <th>Month</th>\n",
       "      <th>Year</th>\n",
       "      <th>Day</th>\n",
       "      <th>Weekend/Weekday</th>\n",
       "      <th>Return/Sale</th>\n",
       "    </tr>\n",
       "  </thead>\n",
       "  <tbody>\n",
       "    <tr>\n",
       "      <th>0</th>\n",
       "      <td>80712190438</td>\n",
       "      <td>270351</td>\n",
       "      <td>28-02-2014</td>\n",
       "      <td>1</td>\n",
       "      <td>1</td>\n",
       "      <td>-5</td>\n",
       "      <td>-772</td>\n",
       "      <td>405.300</td>\n",
       "      <td>-4265.300</td>\n",
       "      <td>e-Shop</td>\n",
       "      <td>Women</td>\n",
       "      <td>2014-02-28</td>\n",
       "      <td>2</td>\n",
       "      <td>2014</td>\n",
       "      <td>Friday</td>\n",
       "      <td>Weekend</td>\n",
       "      <td>Return</td>\n",
       "    </tr>\n",
       "    <tr>\n",
       "      <th>1</th>\n",
       "      <td>80712190438</td>\n",
       "      <td>270351</td>\n",
       "      <td>28-02-2014</td>\n",
       "      <td>1</td>\n",
       "      <td>1</td>\n",
       "      <td>-5</td>\n",
       "      <td>-772</td>\n",
       "      <td>405.300</td>\n",
       "      <td>-4265.300</td>\n",
       "      <td>e-Shop</td>\n",
       "      <td>Mens</td>\n",
       "      <td>2014-02-28</td>\n",
       "      <td>2</td>\n",
       "      <td>2014</td>\n",
       "      <td>Friday</td>\n",
       "      <td>Weekend</td>\n",
       "      <td>Return</td>\n",
       "    </tr>\n",
       "    <tr>\n",
       "      <th>2</th>\n",
       "      <td>80712190438</td>\n",
       "      <td>270351</td>\n",
       "      <td>28-02-2014</td>\n",
       "      <td>1</td>\n",
       "      <td>1</td>\n",
       "      <td>-5</td>\n",
       "      <td>-772</td>\n",
       "      <td>405.300</td>\n",
       "      <td>-4265.300</td>\n",
       "      <td>e-Shop</td>\n",
       "      <td>Mens</td>\n",
       "      <td>2014-02-28</td>\n",
       "      <td>2</td>\n",
       "      <td>2014</td>\n",
       "      <td>Friday</td>\n",
       "      <td>Weekend</td>\n",
       "      <td>Return</td>\n",
       "    </tr>\n",
       "    <tr>\n",
       "      <th>3</th>\n",
       "      <td>17183929085</td>\n",
       "      <td>266863</td>\n",
       "      <td>20-02-2014</td>\n",
       "      <td>1</td>\n",
       "      <td>2</td>\n",
       "      <td>1</td>\n",
       "      <td>1359</td>\n",
       "      <td>142.695</td>\n",
       "      <td>1501.695</td>\n",
       "      <td>TeleShop</td>\n",
       "      <td>Women</td>\n",
       "      <td>2014-02-20</td>\n",
       "      <td>2</td>\n",
       "      <td>2014</td>\n",
       "      <td>Thursday</td>\n",
       "      <td>Weekday</td>\n",
       "      <td>Sale</td>\n",
       "    </tr>\n",
       "  </tbody>\n",
       "</table>\n",
       "</div>"
      ],
      "text/plain": [
       "   transaction_id  cust_id   tran_date  prod_sub_cat_code  prod_cat_code  Qty  \\\n",
       "0     80712190438   270351  28-02-2014                  1              1   -5   \n",
       "1     80712190438   270351  28-02-2014                  1              1   -5   \n",
       "2     80712190438   270351  28-02-2014                  1              1   -5   \n",
       "3     17183929085   266863  20-02-2014                  1              2    1   \n",
       "\n",
       "   Rate      Tax  total_amt Store_type prod_subcat    Date_fm  Month  Year  \\\n",
       "0  -772  405.300  -4265.300     e-Shop       Women 2014-02-28      2  2014   \n",
       "1  -772  405.300  -4265.300     e-Shop        Mens 2014-02-28      2  2014   \n",
       "2  -772  405.300  -4265.300     e-Shop        Mens 2014-02-28      2  2014   \n",
       "3  1359  142.695   1501.695   TeleShop       Women 2014-02-20      2  2014   \n",
       "\n",
       "        Day Weekend/Weekday Return/Sale  \n",
       "0    Friday         Weekend      Return  \n",
       "1    Friday         Weekend      Return  \n",
       "2    Friday         Weekend      Return  \n",
       "3  Thursday         Weekday        Sale  "
      ]
     },
     "execution_count": 124,
     "metadata": {},
     "output_type": "execute_result"
    }
   ],
   "source": [
    "df_merged3.head(4)"
   ]
  },
  {
   "cell_type": "code",
   "execution_count": 125,
   "metadata": {},
   "outputs": [
    {
     "data": {
      "text/plain": [
       "18"
      ]
     },
     "execution_count": 125,
     "metadata": {},
     "output_type": "execute_result"
    }
   ],
   "source": [
    "rng = len(ls_sale)\n",
    "rng"
   ]
  },
  {
   "cell_type": "code",
   "execution_count": 126,
   "metadata": {},
   "outputs": [],
   "source": [
    "#Ratio of return to sale\n",
    "ls_ratio =[]\n",
    "rng = len(ls_ret)\n",
    "for i in range(rng):\n",
    "    rt = (ls_ret[i]/ls_sale[i])*100\n",
    "    ls_ratio.append(rt)"
   ]
  },
  {
   "cell_type": "code",
   "execution_count": 127,
   "metadata": {},
   "outputs": [],
   "source": [
    "df_sr_ratio =pd.DataFrame(ls_sale)\n",
    "df_sr_ratio['Return_to_Sales_Ratio']=ls_ratio"
   ]
  },
  {
   "cell_type": "code",
   "execution_count": 128,
   "metadata": {},
   "outputs": [
    {
     "data": {
      "text/html": [
       "<div>\n",
       "<style scoped>\n",
       "    .dataframe tbody tr th:only-of-type {\n",
       "        vertical-align: middle;\n",
       "    }\n",
       "\n",
       "    .dataframe tbody tr th {\n",
       "        vertical-align: top;\n",
       "    }\n",
       "\n",
       "    .dataframe thead th {\n",
       "        text-align: right;\n",
       "    }\n",
       "</style>\n",
       "<table border=\"1\" class=\"dataframe\">\n",
       "  <thead>\n",
       "    <tr style=\"text-align: right;\">\n",
       "      <th></th>\n",
       "      <th>prod_subcat</th>\n",
       "      <th>Return_to_Sales_Ratio</th>\n",
       "    </tr>\n",
       "  </thead>\n",
       "  <tbody>\n",
       "    <tr>\n",
       "      <th>Women</th>\n",
       "      <td>9048</td>\n",
       "      <td>10.753758</td>\n",
       "    </tr>\n",
       "    <tr>\n",
       "      <th>Mens</th>\n",
       "      <td>8929</td>\n",
       "      <td>10.874678</td>\n",
       "    </tr>\n",
       "    <tr>\n",
       "      <th>Kids</th>\n",
       "      <td>6395</td>\n",
       "      <td>10.539484</td>\n",
       "    </tr>\n",
       "    <tr>\n",
       "      <th>Mobiles</th>\n",
       "      <td>3623</td>\n",
       "      <td>10.460944</td>\n",
       "    </tr>\n",
       "    <tr>\n",
       "      <th>Comics</th>\n",
       "      <td>2772</td>\n",
       "      <td>10.642136</td>\n",
       "    </tr>\n",
       "    <tr>\n",
       "      <th>Non-Fiction</th>\n",
       "      <td>2725</td>\n",
       "      <td>9.834862</td>\n",
       "    </tr>\n",
       "    <tr>\n",
       "      <th>Kitchen</th>\n",
       "      <td>2725</td>\n",
       "      <td>9.834862</td>\n",
       "    </tr>\n",
       "    <tr>\n",
       "      <th>Audio and video</th>\n",
       "      <td>2725</td>\n",
       "      <td>9.834862</td>\n",
       "    </tr>\n",
       "    <tr>\n",
       "      <th>Bath</th>\n",
       "      <td>1857</td>\n",
       "      <td>10.823910</td>\n",
       "    </tr>\n",
       "    <tr>\n",
       "      <th>Children</th>\n",
       "      <td>1857</td>\n",
       "      <td>10.823910</td>\n",
       "    </tr>\n",
       "    <tr>\n",
       "      <th>Academic</th>\n",
       "      <td>1834</td>\n",
       "      <td>10.632497</td>\n",
       "    </tr>\n",
       "    <tr>\n",
       "      <th>Tools</th>\n",
       "      <td>1834</td>\n",
       "      <td>10.632497</td>\n",
       "    </tr>\n",
       "    <tr>\n",
       "      <th>Fiction</th>\n",
       "      <td>940</td>\n",
       "      <td>10.957447</td>\n",
       "    </tr>\n",
       "    <tr>\n",
       "      <th>Furnishing</th>\n",
       "      <td>906</td>\n",
       "      <td>11.147903</td>\n",
       "    </tr>\n",
       "    <tr>\n",
       "      <th>DIY</th>\n",
       "      <td>905</td>\n",
       "      <td>9.613260</td>\n",
       "    </tr>\n",
       "    <tr>\n",
       "      <th>Cameras</th>\n",
       "      <td>898</td>\n",
       "      <td>9.465479</td>\n",
       "    </tr>\n",
       "    <tr>\n",
       "      <th>Personal Appliances</th>\n",
       "      <td>887</td>\n",
       "      <td>9.470124</td>\n",
       "    </tr>\n",
       "    <tr>\n",
       "      <th>Computers</th>\n",
       "      <td>876</td>\n",
       "      <td>9.360731</td>\n",
       "    </tr>\n",
       "  </tbody>\n",
       "</table>\n",
       "</div>"
      ],
      "text/plain": [
       "                     prod_subcat  Return_to_Sales_Ratio\n",
       "Women                       9048              10.753758\n",
       "Mens                        8929              10.874678\n",
       "Kids                        6395              10.539484\n",
       "Mobiles                     3623              10.460944\n",
       "Comics                      2772              10.642136\n",
       "Non-Fiction                 2725               9.834862\n",
       "Kitchen                     2725               9.834862\n",
       "Audio and video             2725               9.834862\n",
       "Bath                        1857              10.823910\n",
       "Children                    1857              10.823910\n",
       "Academic                    1834              10.632497\n",
       "Tools                       1834              10.632497\n",
       "Fiction                      940              10.957447\n",
       "Furnishing                   906              11.147903\n",
       "DIY                          905               9.613260\n",
       "Cameras                      898               9.465479\n",
       "Personal Appliances          887               9.470124\n",
       "Computers                    876               9.360731"
      ]
     },
     "execution_count": 128,
     "metadata": {},
     "output_type": "execute_result"
    }
   ],
   "source": [
    "df_sr_ratio"
   ]
  },
  {
   "cell_type": "code",
   "execution_count": 129,
   "metadata": {},
   "outputs": [],
   "source": [
    "# This Ratio of count of  return(-Ve transaction) to count of sales,\n",
    "#gives us idea about what kind of products have tendency to be returned\n",
    "#more after purchase. lower the ratio is higher is the tendency of it to be retured back by customer.\n"
   ]
  },
  {
   "cell_type": "code",
   "execution_count": 130,
   "metadata": {},
   "outputs": [
    {
     "data": {
      "text/plain": [
       "Text(0, 0.5, 'Return to Sales Ratio')"
      ]
     },
     "execution_count": 130,
     "metadata": {},
     "output_type": "execute_result"
    },
    {
     "data": {
      "image/png": "[encoded data removed]",
      "text/plain": [
       "<Figure size 2560x720 with 1 Axes>"
      ]
     },
     "metadata": {},
     "output_type": "display_data"
    }
   ],
   "source": [
    "xbar = df_sr_ratio.index\n",
    "ybar =df_sr_ratio['Return_to_Sales_Ratio']\n",
    "#plt.figure(figsize=(32,8))\n",
    "fig = plt.figure(figsize=(32,9))\n",
    "plt.bar(sorted(xbar),sorted(ybar),color ='#6b5b95',alpha =0.9)\n",
    "\n",
    "plt.xticks(fontsize=14,rotation =100)\n",
    "plt.yticks(fontsize=16)\n",
    "plt.title('Merchendises & Their Return/Sale Ratio',fontsize=30)\n",
    "plt.xlabel('Category of merchendise',fontsize=28)\n",
    "plt.ylabel('Return to Sales Ratio',fontsize=28)\n"
   ]
  },
  {
   "cell_type": "code",
   "execution_count": 131,
   "metadata": {},
   "outputs": [
    {
     "data": {
      "text/plain": [
       "array([ 1.,  3.,  8.,  6.,  5., 12., 11.,  7.,  4., 10.,  2.,  9.])"
      ]
     },
     "execution_count": 131,
     "metadata": {},
     "output_type": "execute_result"
    }
   ],
   "source": [
    "x2 =df_merged_final['prod_sub_cat_code'].unique()\n",
    "x2"
   ]
  },
  {
   "cell_type": "code",
   "execution_count": 132,
   "metadata": {},
   "outputs": [],
   "source": [
    "x2.sort()\n"
   ]
  },
  {
   "cell_type": "code",
   "execution_count": 133,
   "metadata": {},
   "outputs": [
    {
     "data": {
      "text/plain": [
       "array([ 1.,  2.,  3.,  4.,  5.,  6.,  7.,  8.,  9., 10., 11., 12.])"
      ]
     },
     "execution_count": 133,
     "metadata": {},
     "output_type": "execute_result"
    }
   ],
   "source": [
    "x2"
   ]
  },
  {
   "cell_type": "code",
   "execution_count": null,
   "metadata": {},
   "outputs": [],
   "source": [
    "\n"
   ]
  },
  {
   "cell_type": "code",
   "execution_count": 134,
   "metadata": {},
   "outputs": [
    {
     "data": {
      "text/html": [
       "<div>\n",
       "<style scoped>\n",
       "    .dataframe tbody tr th:only-of-type {\n",
       "        vertical-align: middle;\n",
       "    }\n",
       "\n",
       "    .dataframe tbody tr th {\n",
       "        vertical-align: top;\n",
       "    }\n",
       "\n",
       "    .dataframe thead th {\n",
       "        text-align: right;\n",
       "    }\n",
       "</style>\n",
       "<table border=\"1\" class=\"dataframe\">\n",
       "  <thead>\n",
       "    <tr style=\"text-align: right;\">\n",
       "      <th></th>\n",
       "      <th>transaction_id</th>\n",
       "      <th>cust_id</th>\n",
       "      <th>tran_date</th>\n",
       "      <th>prod_sub_cat_code</th>\n",
       "      <th>prod_cat_code</th>\n",
       "      <th>Qty</th>\n",
       "      <th>Rate</th>\n",
       "      <th>Tax</th>\n",
       "      <th>total_amt</th>\n",
       "      <th>Store_type</th>\n",
       "      <th>DOB</th>\n",
       "      <th>Gender</th>\n",
       "      <th>city_code</th>\n",
       "    </tr>\n",
       "  </thead>\n",
       "  <tbody>\n",
       "    <tr>\n",
       "      <th>0</th>\n",
       "      <td>8.071219e+10</td>\n",
       "      <td>270351</td>\n",
       "      <td>28-02-2014</td>\n",
       "      <td>1.0</td>\n",
       "      <td>1.0</td>\n",
       "      <td>-5.0</td>\n",
       "      <td>-772.0</td>\n",
       "      <td>405.300</td>\n",
       "      <td>-4265.300</td>\n",
       "      <td>e-Shop</td>\n",
       "      <td>26-09-1981</td>\n",
       "      <td>M</td>\n",
       "      <td>5.0</td>\n",
       "    </tr>\n",
       "    <tr>\n",
       "      <th>1</th>\n",
       "      <td>8.071219e+10</td>\n",
       "      <td>270351</td>\n",
       "      <td>20-02-2014</td>\n",
       "      <td>1.0</td>\n",
       "      <td>1.0</td>\n",
       "      <td>5.0</td>\n",
       "      <td>772.0</td>\n",
       "      <td>405.300</td>\n",
       "      <td>4265.300</td>\n",
       "      <td>e-Shop</td>\n",
       "      <td>26-09-1981</td>\n",
       "      <td>M</td>\n",
       "      <td>5.0</td>\n",
       "    </tr>\n",
       "    <tr>\n",
       "      <th>2</th>\n",
       "      <td>3.695744e+10</td>\n",
       "      <td>270351</td>\n",
       "      <td>16-09-2013</td>\n",
       "      <td>3.0</td>\n",
       "      <td>2.0</td>\n",
       "      <td>3.0</td>\n",
       "      <td>361.0</td>\n",
       "      <td>113.715</td>\n",
       "      <td>1196.715</td>\n",
       "      <td>Flagship store</td>\n",
       "      <td>26-09-1981</td>\n",
       "      <td>M</td>\n",
       "      <td>5.0</td>\n",
       "    </tr>\n",
       "    <tr>\n",
       "      <th>3</th>\n",
       "      <td>1.223628e+10</td>\n",
       "      <td>270351</td>\n",
       "      <td>18-03-2013</td>\n",
       "      <td>8.0</td>\n",
       "      <td>3.0</td>\n",
       "      <td>3.0</td>\n",
       "      <td>1030.0</td>\n",
       "      <td>324.450</td>\n",
       "      <td>3414.450</td>\n",
       "      <td>e-Shop</td>\n",
       "      <td>26-09-1981</td>\n",
       "      <td>M</td>\n",
       "      <td>5.0</td>\n",
       "    </tr>\n",
       "    <tr>\n",
       "      <th>4</th>\n",
       "      <td>1.318156e+10</td>\n",
       "      <td>270351</td>\n",
       "      <td>13-12-2011</td>\n",
       "      <td>6.0</td>\n",
       "      <td>5.0</td>\n",
       "      <td>1.0</td>\n",
       "      <td>1048.0</td>\n",
       "      <td>110.040</td>\n",
       "      <td>1158.040</td>\n",
       "      <td>e-Shop</td>\n",
       "      <td>26-09-1981</td>\n",
       "      <td>M</td>\n",
       "      <td>5.0</td>\n",
       "    </tr>\n",
       "  </tbody>\n",
       "</table>\n",
       "</div>"
      ],
      "text/plain": [
       "   transaction_id  cust_id   tran_date  prod_sub_cat_code  prod_cat_code  Qty  \\\n",
       "0    8.071219e+10   270351  28-02-2014                1.0            1.0 -5.0   \n",
       "1    8.071219e+10   270351  20-02-2014                1.0            1.0  5.0   \n",
       "2    3.695744e+10   270351  16-09-2013                3.0            2.0  3.0   \n",
       "3    1.223628e+10   270351  18-03-2013                8.0            3.0  3.0   \n",
       "4    1.318156e+10   270351  13-12-2011                6.0            5.0  1.0   \n",
       "\n",
       "     Rate      Tax  total_amt      Store_type         DOB Gender  city_code  \n",
       "0  -772.0  405.300  -4265.300          e-Shop  26-09-1981      M        5.0  \n",
       "1   772.0  405.300   4265.300          e-Shop  26-09-1981      M        5.0  \n",
       "2   361.0  113.715   1196.715  Flagship store  26-09-1981      M        5.0  \n",
       "3  1030.0  324.450   3414.450          e-Shop  26-09-1981      M        5.0  \n",
       "4  1048.0  110.040   1158.040          e-Shop  26-09-1981      M        5.0  "
      ]
     },
     "execution_count": 134,
     "metadata": {},
     "output_type": "execute_result"
    }
   ],
   "source": [
    "df_merged_final.head()"
   ]
  },
  {
   "cell_type": "code",
   "execution_count": 135,
   "metadata": {},
   "outputs": [],
   "source": [
    "#Number of male and female buyers are almost equal with male being on slightly hiher side"
   ]
  },
  {
   "cell_type": "code",
   "execution_count": 136,
   "metadata": {},
   "outputs": [
    {
     "data": {
      "text/plain": [
       "M    11805\n",
       "F    11231\n",
       "Name: Gender, dtype: int64"
      ]
     },
     "execution_count": 136,
     "metadata": {},
     "output_type": "execute_result"
    }
   ],
   "source": [
    "df_merged_final['Gender'].value_counts()"
   ]
  },
  {
   "cell_type": "code",
   "execution_count": null,
   "metadata": {},
   "outputs": [],
   "source": []
  },
  {
   "cell_type": "code",
   "execution_count": 137,
   "metadata": {},
   "outputs": [],
   "source": [
    "# Histogram below shows that city code 11,12 and 4 have highest number of transaction , therefore most of our target customer\n",
    "#lives in these two city."
   ]
  },
  {
   "cell_type": "code",
   "execution_count": 138,
   "metadata": {},
   "outputs": [],
   "source": [
    "#From the final data set that include customer details can be used to know more about customer to serve them better.\n",
    "#As the gender of customer is almost on equal side with male being very slightly higher in count.\n",
    "#From the Date of birth of customer age can be extracted to check what is the age distribution of customers."
   ]
  },
  {
   "cell_type": "code",
   "execution_count": 139,
   "metadata": {},
   "outputs": [],
   "source": [
    "dob_cus = df_merged_final['DOB']\n"
   ]
  },
  {
   "cell_type": "code",
   "execution_count": 140,
   "metadata": {},
   "outputs": [
    {
     "data": {
      "text/plain": [
       "0        26-09-1981\n",
       "1        26-09-1981\n",
       "2        26-09-1981\n",
       "3        26-09-1981\n",
       "4        26-09-1981\n",
       "            ...    \n",
       "23048    10-06-1972\n",
       "23049    17-07-1975\n",
       "23050    27-12-1972\n",
       "23051    09-09-1977\n",
       "23052    21-01-1984\n",
       "Name: DOB, Length: 23036, dtype: object"
      ]
     },
     "execution_count": 140,
     "metadata": {},
     "output_type": "execute_result"
    }
   ],
   "source": [
    "dob_cus"
   ]
  },
  {
   "cell_type": "code",
   "execution_count": 141,
   "metadata": {},
   "outputs": [
    {
     "data": {
      "text/html": [
       "<div>\n",
       "<style scoped>\n",
       "    .dataframe tbody tr th:only-of-type {\n",
       "        vertical-align: middle;\n",
       "    }\n",
       "\n",
       "    .dataframe tbody tr th {\n",
       "        vertical-align: top;\n",
       "    }\n",
       "\n",
       "    .dataframe thead th {\n",
       "        text-align: right;\n",
       "    }\n",
       "</style>\n",
       "<table border=\"1\" class=\"dataframe\">\n",
       "  <thead>\n",
       "    <tr style=\"text-align: right;\">\n",
       "      <th></th>\n",
       "      <th>transaction_id</th>\n",
       "      <th>cust_id</th>\n",
       "      <th>tran_date</th>\n",
       "      <th>prod_sub_cat_code</th>\n",
       "      <th>prod_cat_code</th>\n",
       "      <th>Qty</th>\n",
       "      <th>Rate</th>\n",
       "      <th>Tax</th>\n",
       "      <th>total_amt</th>\n",
       "      <th>Store_type</th>\n",
       "      <th>DOB</th>\n",
       "      <th>Gender</th>\n",
       "      <th>city_code</th>\n",
       "    </tr>\n",
       "  </thead>\n",
       "  <tbody>\n",
       "    <tr>\n",
       "      <th>0</th>\n",
       "      <td>8.071219e+10</td>\n",
       "      <td>270351</td>\n",
       "      <td>28-02-2014</td>\n",
       "      <td>1.0</td>\n",
       "      <td>1.0</td>\n",
       "      <td>-5.0</td>\n",
       "      <td>-772.0</td>\n",
       "      <td>405.300</td>\n",
       "      <td>-4265.300</td>\n",
       "      <td>e-Shop</td>\n",
       "      <td>26-09-1981</td>\n",
       "      <td>M</td>\n",
       "      <td>5.0</td>\n",
       "    </tr>\n",
       "    <tr>\n",
       "      <th>1</th>\n",
       "      <td>8.071219e+10</td>\n",
       "      <td>270351</td>\n",
       "      <td>20-02-2014</td>\n",
       "      <td>1.0</td>\n",
       "      <td>1.0</td>\n",
       "      <td>5.0</td>\n",
       "      <td>772.0</td>\n",
       "      <td>405.300</td>\n",
       "      <td>4265.300</td>\n",
       "      <td>e-Shop</td>\n",
       "      <td>26-09-1981</td>\n",
       "      <td>M</td>\n",
       "      <td>5.0</td>\n",
       "    </tr>\n",
       "    <tr>\n",
       "      <th>2</th>\n",
       "      <td>3.695744e+10</td>\n",
       "      <td>270351</td>\n",
       "      <td>16-09-2013</td>\n",
       "      <td>3.0</td>\n",
       "      <td>2.0</td>\n",
       "      <td>3.0</td>\n",
       "      <td>361.0</td>\n",
       "      <td>113.715</td>\n",
       "      <td>1196.715</td>\n",
       "      <td>Flagship store</td>\n",
       "      <td>26-09-1981</td>\n",
       "      <td>M</td>\n",
       "      <td>5.0</td>\n",
       "    </tr>\n",
       "    <tr>\n",
       "      <th>3</th>\n",
       "      <td>1.223628e+10</td>\n",
       "      <td>270351</td>\n",
       "      <td>18-03-2013</td>\n",
       "      <td>8.0</td>\n",
       "      <td>3.0</td>\n",
       "      <td>3.0</td>\n",
       "      <td>1030.0</td>\n",
       "      <td>324.450</td>\n",
       "      <td>3414.450</td>\n",
       "      <td>e-Shop</td>\n",
       "      <td>26-09-1981</td>\n",
       "      <td>M</td>\n",
       "      <td>5.0</td>\n",
       "    </tr>\n",
       "    <tr>\n",
       "      <th>4</th>\n",
       "      <td>1.318156e+10</td>\n",
       "      <td>270351</td>\n",
       "      <td>13-12-2011</td>\n",
       "      <td>6.0</td>\n",
       "      <td>5.0</td>\n",
       "      <td>1.0</td>\n",
       "      <td>1048.0</td>\n",
       "      <td>110.040</td>\n",
       "      <td>1158.040</td>\n",
       "      <td>e-Shop</td>\n",
       "      <td>26-09-1981</td>\n",
       "      <td>M</td>\n",
       "      <td>5.0</td>\n",
       "    </tr>\n",
       "  </tbody>\n",
       "</table>\n",
       "</div>"
      ],
      "text/plain": [
       "   transaction_id  cust_id   tran_date  prod_sub_cat_code  prod_cat_code  Qty  \\\n",
       "0    8.071219e+10   270351  28-02-2014                1.0            1.0 -5.0   \n",
       "1    8.071219e+10   270351  20-02-2014                1.0            1.0  5.0   \n",
       "2    3.695744e+10   270351  16-09-2013                3.0            2.0  3.0   \n",
       "3    1.223628e+10   270351  18-03-2013                8.0            3.0  3.0   \n",
       "4    1.318156e+10   270351  13-12-2011                6.0            5.0  1.0   \n",
       "\n",
       "     Rate      Tax  total_amt      Store_type         DOB Gender  city_code  \n",
       "0  -772.0  405.300  -4265.300          e-Shop  26-09-1981      M        5.0  \n",
       "1   772.0  405.300   4265.300          e-Shop  26-09-1981      M        5.0  \n",
       "2   361.0  113.715   1196.715  Flagship store  26-09-1981      M        5.0  \n",
       "3  1030.0  324.450   3414.450          e-Shop  26-09-1981      M        5.0  \n",
       "4  1048.0  110.040   1158.040          e-Shop  26-09-1981      M        5.0  "
      ]
     },
     "execution_count": 141,
     "metadata": {},
     "output_type": "execute_result"
    }
   ],
   "source": [
    "df_merged_final.head()"
   ]
  },
  {
   "cell_type": "code",
   "execution_count": 142,
   "metadata": {},
   "outputs": [],
   "source": [
    "df_mfage = df_merged_final\n"
   ]
  },
  {
   "cell_type": "code",
   "execution_count": 143,
   "metadata": {},
   "outputs": [
    {
     "data": {
      "text/plain": [
       "0        26-09-1981\n",
       "1        26-09-1981\n",
       "2        26-09-1981\n",
       "3        26-09-1981\n",
       "4        26-09-1981\n",
       "            ...    \n",
       "23048    10-06-1972\n",
       "23049    17-07-1975\n",
       "23050    27-12-1972\n",
       "23051    09-09-1977\n",
       "23052    21-01-1984\n",
       "Name: DOB, Length: 23036, dtype: object"
      ]
     },
     "execution_count": 143,
     "metadata": {},
     "output_type": "execute_result"
    }
   ],
   "source": [
    "df_mfage['DOB']"
   ]
  },
  {
   "cell_type": "code",
   "execution_count": 144,
   "metadata": {},
   "outputs": [],
   "source": [
    "#df_mfage['DOB'] = pd.to_datetime(df_mfage['DOB'],format ='%d-%m-%y') "
   ]
  },
  {
   "cell_type": "code",
   "execution_count": 145,
   "metadata": {},
   "outputs": [],
   "source": [
    " df_mfage['DOB_age'] = df_mfage['DOB'].apply(lambda x:datetime.strptime(x,'%d-%m-%Y'))"
   ]
  },
  {
   "cell_type": "code",
   "execution_count": 146,
   "metadata": {},
   "outputs": [
    {
     "data": {
      "text/plain": [
       "0        1981\n",
       "1        1981\n",
       "2        1981\n",
       "3        1981\n",
       "4        1981\n",
       "         ... \n",
       "23048    1972\n",
       "23049    1975\n",
       "23050    1972\n",
       "23051    1977\n",
       "23052    1984\n",
       "Name: DOB_age, Length: 23036, dtype: int64"
      ]
     },
     "execution_count": 146,
     "metadata": {},
     "output_type": "execute_result"
    }
   ],
   "source": [
    "df_mfage['DOB_age'].dt.year"
   ]
  },
  {
   "cell_type": "code",
   "execution_count": 147,
   "metadata": {},
   "outputs": [],
   "source": [
    "df_mfage['Customer_age'] =2013- df_mfage['DOB_age'].dt.year "
   ]
  },
  {
   "cell_type": "code",
   "execution_count": 148,
   "metadata": {
    "scrolled": true
   },
   "outputs": [
    {
     "data": {
      "text/html": [
       "<div>\n",
       "<style scoped>\n",
       "    .dataframe tbody tr th:only-of-type {\n",
       "        vertical-align: middle;\n",
       "    }\n",
       "\n",
       "    .dataframe tbody tr th {\n",
       "        vertical-align: top;\n",
       "    }\n",
       "\n",
       "    .dataframe thead th {\n",
       "        text-align: right;\n",
       "    }\n",
       "</style>\n",
       "<table border=\"1\" class=\"dataframe\">\n",
       "  <thead>\n",
       "    <tr style=\"text-align: right;\">\n",
       "      <th></th>\n",
       "      <th>transaction_id</th>\n",
       "      <th>cust_id</th>\n",
       "      <th>tran_date</th>\n",
       "      <th>prod_sub_cat_code</th>\n",
       "      <th>prod_cat_code</th>\n",
       "      <th>Qty</th>\n",
       "      <th>Rate</th>\n",
       "      <th>Tax</th>\n",
       "      <th>total_amt</th>\n",
       "      <th>Store_type</th>\n",
       "      <th>DOB</th>\n",
       "      <th>Gender</th>\n",
       "      <th>city_code</th>\n",
       "      <th>DOB_age</th>\n",
       "      <th>Customer_age</th>\n",
       "    </tr>\n",
       "  </thead>\n",
       "  <tbody>\n",
       "    <tr>\n",
       "      <th>0</th>\n",
       "      <td>8.071219e+10</td>\n",
       "      <td>270351</td>\n",
       "      <td>28-02-2014</td>\n",
       "      <td>1.0</td>\n",
       "      <td>1.0</td>\n",
       "      <td>-5.0</td>\n",
       "      <td>-772.0</td>\n",
       "      <td>405.300</td>\n",
       "      <td>-4265.300</td>\n",
       "      <td>e-Shop</td>\n",
       "      <td>26-09-1981</td>\n",
       "      <td>M</td>\n",
       "      <td>5.0</td>\n",
       "      <td>1981-09-26</td>\n",
       "      <td>32</td>\n",
       "    </tr>\n",
       "    <tr>\n",
       "      <th>1</th>\n",
       "      <td>8.071219e+10</td>\n",
       "      <td>270351</td>\n",
       "      <td>20-02-2014</td>\n",
       "      <td>1.0</td>\n",
       "      <td>1.0</td>\n",
       "      <td>5.0</td>\n",
       "      <td>772.0</td>\n",
       "      <td>405.300</td>\n",
       "      <td>4265.300</td>\n",
       "      <td>e-Shop</td>\n",
       "      <td>26-09-1981</td>\n",
       "      <td>M</td>\n",
       "      <td>5.0</td>\n",
       "      <td>1981-09-26</td>\n",
       "      <td>32</td>\n",
       "    </tr>\n",
       "    <tr>\n",
       "      <th>2</th>\n",
       "      <td>3.695744e+10</td>\n",
       "      <td>270351</td>\n",
       "      <td>16-09-2013</td>\n",
       "      <td>3.0</td>\n",
       "      <td>2.0</td>\n",
       "      <td>3.0</td>\n",
       "      <td>361.0</td>\n",
       "      <td>113.715</td>\n",
       "      <td>1196.715</td>\n",
       "      <td>Flagship store</td>\n",
       "      <td>26-09-1981</td>\n",
       "      <td>M</td>\n",
       "      <td>5.0</td>\n",
       "      <td>1981-09-26</td>\n",
       "      <td>32</td>\n",
       "    </tr>\n",
       "    <tr>\n",
       "      <th>3</th>\n",
       "      <td>1.223628e+10</td>\n",
       "      <td>270351</td>\n",
       "      <td>18-03-2013</td>\n",
       "      <td>8.0</td>\n",
       "      <td>3.0</td>\n",
       "      <td>3.0</td>\n",
       "      <td>1030.0</td>\n",
       "      <td>324.450</td>\n",
       "      <td>3414.450</td>\n",
       "      <td>e-Shop</td>\n",
       "      <td>26-09-1981</td>\n",
       "      <td>M</td>\n",
       "      <td>5.0</td>\n",
       "      <td>1981-09-26</td>\n",
       "      <td>32</td>\n",
       "    </tr>\n",
       "    <tr>\n",
       "      <th>4</th>\n",
       "      <td>1.318156e+10</td>\n",
       "      <td>270351</td>\n",
       "      <td>13-12-2011</td>\n",
       "      <td>6.0</td>\n",
       "      <td>5.0</td>\n",
       "      <td>1.0</td>\n",
       "      <td>1048.0</td>\n",
       "      <td>110.040</td>\n",
       "      <td>1158.040</td>\n",
       "      <td>e-Shop</td>\n",
       "      <td>26-09-1981</td>\n",
       "      <td>M</td>\n",
       "      <td>5.0</td>\n",
       "      <td>1981-09-26</td>\n",
       "      <td>32</td>\n",
       "    </tr>\n",
       "    <tr>\n",
       "      <th>...</th>\n",
       "      <td>...</td>\n",
       "      <td>...</td>\n",
       "      <td>...</td>\n",
       "      <td>...</td>\n",
       "      <td>...</td>\n",
       "      <td>...</td>\n",
       "      <td>...</td>\n",
       "      <td>...</td>\n",
       "      <td>...</td>\n",
       "      <td>...</td>\n",
       "      <td>...</td>\n",
       "      <td>...</td>\n",
       "      <td>...</td>\n",
       "      <td>...</td>\n",
       "      <td>...</td>\n",
       "    </tr>\n",
       "    <tr>\n",
       "      <th>23048</th>\n",
       "      <td>1.629319e+10</td>\n",
       "      <td>274931</td>\n",
       "      <td>31-01-2011</td>\n",
       "      <td>8.0</td>\n",
       "      <td>3.0</td>\n",
       "      <td>3.0</td>\n",
       "      <td>137.0</td>\n",
       "      <td>43.155</td>\n",
       "      <td>454.155</td>\n",
       "      <td>Flagship store</td>\n",
       "      <td>10-06-1972</td>\n",
       "      <td>M</td>\n",
       "      <td>10.0</td>\n",
       "      <td>1972-06-10</td>\n",
       "      <td>41</td>\n",
       "    </tr>\n",
       "    <tr>\n",
       "      <th>23049</th>\n",
       "      <td>7.016396e+10</td>\n",
       "      <td>267902</td>\n",
       "      <td>30-01-2011</td>\n",
       "      <td>10.0</td>\n",
       "      <td>5.0</td>\n",
       "      <td>4.0</td>\n",
       "      <td>404.0</td>\n",
       "      <td>169.680</td>\n",
       "      <td>1785.680</td>\n",
       "      <td>e-Shop</td>\n",
       "      <td>17-07-1975</td>\n",
       "      <td>M</td>\n",
       "      <td>4.0</td>\n",
       "      <td>1975-07-17</td>\n",
       "      <td>38</td>\n",
       "    </tr>\n",
       "    <tr>\n",
       "      <th>23050</th>\n",
       "      <td>2.041714e+10</td>\n",
       "      <td>269556</td>\n",
       "      <td>29-01-2011</td>\n",
       "      <td>10.0</td>\n",
       "      <td>6.0</td>\n",
       "      <td>3.0</td>\n",
       "      <td>654.0</td>\n",
       "      <td>206.010</td>\n",
       "      <td>2168.010</td>\n",
       "      <td>Flagship store</td>\n",
       "      <td>27-12-1972</td>\n",
       "      <td>M</td>\n",
       "      <td>5.0</td>\n",
       "      <td>1972-12-27</td>\n",
       "      <td>41</td>\n",
       "    </tr>\n",
       "    <tr>\n",
       "      <th>23051</th>\n",
       "      <td>5.853141e+10</td>\n",
       "      <td>274935</td>\n",
       "      <td>29-01-2011</td>\n",
       "      <td>10.0</td>\n",
       "      <td>5.0</td>\n",
       "      <td>4.0</td>\n",
       "      <td>104.0</td>\n",
       "      <td>43.680</td>\n",
       "      <td>459.680</td>\n",
       "      <td>Flagship store</td>\n",
       "      <td>09-09-1977</td>\n",
       "      <td>F</td>\n",
       "      <td>3.0</td>\n",
       "      <td>1977-09-09</td>\n",
       "      <td>36</td>\n",
       "    </tr>\n",
       "    <tr>\n",
       "      <th>23052</th>\n",
       "      <td>8.324568e+10</td>\n",
       "      <td>273723</td>\n",
       "      <td>26-01-2011</td>\n",
       "      <td>4.0</td>\n",
       "      <td>4.0</td>\n",
       "      <td>4.0</td>\n",
       "      <td>1477.0</td>\n",
       "      <td>620.340</td>\n",
       "      <td>6528.340</td>\n",
       "      <td>e-Shop</td>\n",
       "      <td>21-01-1984</td>\n",
       "      <td>F</td>\n",
       "      <td>4.0</td>\n",
       "      <td>1984-01-21</td>\n",
       "      <td>29</td>\n",
       "    </tr>\n",
       "  </tbody>\n",
       "</table>\n",
       "<p>23036 rows × 15 columns</p>\n",
       "</div>"
      ],
      "text/plain": [
       "       transaction_id  cust_id   tran_date  prod_sub_cat_code  prod_cat_code  \\\n",
       "0        8.071219e+10   270351  28-02-2014                1.0            1.0   \n",
       "1        8.071219e+10   270351  20-02-2014                1.0            1.0   \n",
       "2        3.695744e+10   270351  16-09-2013                3.0            2.0   \n",
       "3        1.223628e+10   270351  18-03-2013                8.0            3.0   \n",
       "4        1.318156e+10   270351  13-12-2011                6.0            5.0   \n",
       "...               ...      ...         ...                ...            ...   \n",
       "23048    1.629319e+10   274931  31-01-2011                8.0            3.0   \n",
       "23049    7.016396e+10   267902  30-01-2011               10.0            5.0   \n",
       "23050    2.041714e+10   269556  29-01-2011               10.0            6.0   \n",
       "23051    5.853141e+10   274935  29-01-2011               10.0            5.0   \n",
       "23052    8.324568e+10   273723  26-01-2011                4.0            4.0   \n",
       "\n",
       "       Qty    Rate      Tax  total_amt      Store_type         DOB Gender  \\\n",
       "0     -5.0  -772.0  405.300  -4265.300          e-Shop  26-09-1981      M   \n",
       "1      5.0   772.0  405.300   4265.300          e-Shop  26-09-1981      M   \n",
       "2      3.0   361.0  113.715   1196.715  Flagship store  26-09-1981      M   \n",
       "3      3.0  1030.0  324.450   3414.450          e-Shop  26-09-1981      M   \n",
       "4      1.0  1048.0  110.040   1158.040          e-Shop  26-09-1981      M   \n",
       "...    ...     ...      ...        ...             ...         ...    ...   \n",
       "23048  3.0   137.0   43.155    454.155  Flagship store  10-06-1972      M   \n",
       "23049  4.0   404.0  169.680   1785.680          e-Shop  17-07-1975      M   \n",
       "23050  3.0   654.0  206.010   2168.010  Flagship store  27-12-1972      M   \n",
       "23051  4.0   104.0   43.680    459.680  Flagship store  09-09-1977      F   \n",
       "23052  4.0  1477.0  620.340   6528.340          e-Shop  21-01-1984      F   \n",
       "\n",
       "       city_code    DOB_age  Customer_age  \n",
       "0            5.0 1981-09-26            32  \n",
       "1            5.0 1981-09-26            32  \n",
       "2            5.0 1981-09-26            32  \n",
       "3            5.0 1981-09-26            32  \n",
       "4            5.0 1981-09-26            32  \n",
       "...          ...        ...           ...  \n",
       "23048       10.0 1972-06-10            41  \n",
       "23049        4.0 1975-07-17            38  \n",
       "23050        5.0 1972-12-27            41  \n",
       "23051        3.0 1977-09-09            36  \n",
       "23052        4.0 1984-01-21            29  \n",
       "\n",
       "[23036 rows x 15 columns]"
      ]
     },
     "execution_count": 148,
     "metadata": {},
     "output_type": "execute_result"
    }
   ],
   "source": [
    "df_mfage"
   ]
  },
  {
   "cell_type": "code",
   "execution_count": 149,
   "metadata": {},
   "outputs": [
    {
     "data": {
      "image/png": "[encoded data removed]",
      "text/plain": [
       "<Figure size 560x400 with 1 Axes>"
      ]
     },
     "metadata": {},
     "output_type": "display_data"
    }
   ],
   "source": [
    "fig,ax = plt.subplots(figsize = (7,5))\n",
    "ax.hist(df_mfage['Customer_age'],bins =[15,20,25,30,35,40,45,50],histtype='bar',color ='#0099cc',alpha =0.5)\n",
    "ax.set_title('Age Distribution of Customers')\n",
    "ax.set_ylabel('Frequecy')\n",
    "ax.set_xlabel('Age of Customer')\n",
    "plt.show()"
   ]
  },
  {
   "cell_type": "code",
   "execution_count": 150,
   "metadata": {},
   "outputs": [
    {
     "data": {
      "image/png": "[encoded data removed]",
      "text/plain": [
       "<Figure size 560x400 with 1 Axes>"
      ]
     },
     "metadata": {},
     "output_type": "display_data"
    }
   ],
   "source": [
    "x_b =df_mfage['Gender']\n",
    "y_b =df_mfage['Customer_age']\n",
    "fig , ax = plt.subplots(figsize=(7,5))\n",
    "ax.set_title('Distribution of Customer Age and Gender')\n",
    "ax = sns.boxplot(x_b,y_b,palette='rainbow')"
   ]
  },
  {
   "cell_type": "code",
   "execution_count": 151,
   "metadata": {},
   "outputs": [],
   "source": [
    "#df_mfage['DOB_date'] = df_mfag.apply(lambda x : )"
   ]
  },
  {
   "cell_type": "code",
   "execution_count": 152,
   "metadata": {},
   "outputs": [],
   "source": [
    "city_codes =df_mfage['city_code'].value_counts()\n"
   ]
  },
  {
   "cell_type": "code",
   "execution_count": 153,
   "metadata": {},
   "outputs": [],
   "source": [
    " x_city =city_codes.index"
   ]
  },
  {
   "cell_type": "code",
   "execution_count": 154,
   "metadata": {},
   "outputs": [
    {
     "data": {
      "image/png": "[encoded data removed]",
      "text/plain": [
       "<Figure size 480x480 with 1 Axes>"
      ]
     },
     "metadata": {},
     "output_type": "display_data"
    }
   ],
   "source": [
    "fig,ax =plt.subplots(figsize=(6,6))\n",
    "sns.set(style='darkgrid')\n",
    "ax = sns.countplot(df_mfage['city_code'])"
   ]
  }
 ],
 "metadata": {
  "kernelspec": {
   "display_name": "Python 3",
   "language": "python",
   "name": "python3"
  },
  "language_info": {
   "codemirror_mode": {
    "name": "ipython",
    "version": 3
   },
   "file_extension": ".py",
   "mimetype": "text/x-python",
   "name": "python",
   "nbconvert_exporter": "python",
   "pygments_lexer": "ipython3",
   "version": "3.7.6"
  }
 },
 "nbformat": 4,
 "nbformat_minor": 4
}
